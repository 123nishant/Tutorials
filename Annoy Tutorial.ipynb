{
 "cells": [
  {
   "cell_type": "code",
   "execution_count": 1,
   "metadata": {},
   "outputs": [],
   "source": [
    "import gensim, os\n",
    "from gensim.models.word2vec import Word2Vec\n",
    "\n",
    "\n",
    "# set file names for train and test data\n",
    "test_data_dir = '{}'.format(os.sep).join([gensim.__path__[0], 'test','test_data']) + os.sep\n",
    "\n",
    "# os.sep : Character used by windows to separate path names\n",
    "lee_train_file = test_data_dir + 'lee_background.cor'\n",
    "\n",
    "# .cor : Native to CorelDRAW software"
   ]
  },
  {
   "cell_type": "code",
   "execution_count": 2,
   "metadata": {},
   "outputs": [
    {
     "name": "stdout",
     "output_type": "stream",
     "text": [
      "Word2Vec(vocab=10186, size=100, alpha=0.025)\n"
     ]
    }
   ],
   "source": [
    "class MyText(object):\n",
    "    \n",
    "    def __iter__(self):\n",
    "        \n",
    "        for line in open(lee_train_file):\n",
    "            # assume there's one document per line, tokens separated by whitespace\n",
    "            yield line.lower().split()\n",
    "            \n",
    "            # yield : return from a function without destroying the states of its local\n",
    "            # variable and when the function is called, execution starts from last yield \n",
    "            # statement\n",
    "            \n",
    "            # Any function that contains a 'yield' keyword is called a \"Generator\"\n",
    "            \n",
    "sentences = MyText()\n",
    "\n",
    "model = Word2Vec(sentences, min_count = 1)\n",
    "\n",
    "print(model)\n",
    "            \n",
    "            "
   ]
  },
  {
   "cell_type": "markdown",
   "metadata": {},
   "source": [
    "Running the timing cells below more than once gives subsequent timings close to 0, as \n",
    "cached objects are used. To get accurate timings, run these cells from a freshly started Kernel"
   ]
  },
  {
   "cell_type": "code",
   "execution_count": 3,
   "metadata": {},
   "outputs": [
    {
     "name": "stderr",
     "output_type": "stream",
     "text": [
      "<ipython-input-3-84aed5ef81e3>:10: DeprecationWarning: Call to deprecated `syn0norm` (Attribute will be removed in 4.0.0, use self.vectors_norm instead).\n",
      "  vector = model.wv.syn0norm[0]\n",
      "/home/nishant/miniconda3/envs/pysyft/lib/python3.8/site-packages/gensim/similarities/index.py:198: FutureWarning: The default argument for metric will be removed in future version of Annoy. Please pass metric='angular' explicitly.\n",
      "  index = AnnoyIndex(num_features)\n"
     ]
    }
   ],
   "source": [
    "# Set up model and vector that we are using in comparison\n",
    "\n",
    "try:\n",
    "    from gensim.similarities.index import AnnoyIndexer\n",
    "\n",
    "except ImportError:\n",
    "    raise ValueError(\"SKIP: Please install Annoy Indexer\")\n",
    "    \n",
    "model.init_sims()\n",
    "vector = model.wv.syn0norm[0]\n",
    "\n",
    "# Details on syn0norm :\n",
    "# https://stackoverflow.com/questions/53301916/python-gensim-what-is-the-meaning-of-syn0-and-syn0norm\n",
    "\n",
    "#vector = model.vectors_norm[0]\n",
    "annoy_index = AnnoyIndexer(model, 500)\n",
    "    "
   ]
  },
  {
   "cell_type": "code",
   "execution_count": 4,
   "metadata": {},
   "outputs": [
    {
     "name": "stdout",
     "output_type": "stream",
     "text": [
      "CPU times: user 6.59 ms, sys: 126 µs, total: 6.72 ms\n",
      "Wall time: 31 ms\n"
     ]
    },
    {
     "data": {
      "text/plain": [
       "[('the', 1.0),\n",
       " ('a', 0.9999880790710449),\n",
       " ('for', 0.9999862313270569),\n",
       " ('and', 0.9999852776527405),\n",
       " ('from', 0.9999850988388062)]"
      ]
     },
     "execution_count": 4,
     "metadata": {},
     "output_type": "execute_result"
    }
   ],
   "source": [
    "%%time\n",
    "# Tradition Implementation:\n",
    "model.wv.most_similar([vector], topn = 5)"
   ]
  },
  {
   "cell_type": "code",
   "execution_count": 5,
   "metadata": {},
   "outputs": [
    {
     "name": "stdout",
     "output_type": "stream",
     "text": [
      "('a', 0.99757697340101)\n",
      "('after', 0.9968355759046972)\n",
      "('two', 0.9962853700853884)\n",
      "('into', 0.996217789594084)\n",
      "('first', 0.9961436598096043)\n",
      "CPU times: user 10.2 ms, sys: 199 µs, total: 10.4 ms\n",
      "Wall time: 2.41 ms\n"
     ]
    },
    {
     "name": "stderr",
     "output_type": "stream",
     "text": [
      "<timed exec>:3: DeprecationWarning: Call to deprecated `most_similar` (Method will be removed in 4.0.0, use self.wv.most_similar() instead).\n"
     ]
    }
   ],
   "source": [
    "%%time \n",
    "\n",
    "# Annoy Implementation:\n",
    "\n",
    "neighbors = model.most_similar([vector], topn = 5, indexer = annoy_index)\n",
    "\n",
    "for neighbor in neighbors:\n",
    "    print(neighbor)"
   ]
  },
  {
   "cell_type": "markdown",
   "metadata": {},
   "source": [
    "\n",
    "**What is Annoy?**\n",
    "\n",
    "Annoy is an open source library to search for points in space that are close to a given query point. It also creates large read-only file-based data structures that are mmapped into memory so that many processes may share the same data. For our purpose, it is used to find similarity between words or documents in a vector space. See the tutorial on similarity queries for more information on them.\n"
   ]
  },
  {
   "cell_type": "markdown",
   "metadata": {},
   "source": [
    "**Getting Started**"
   ]
  },
  {
   "cell_type": "code",
   "execution_count": 6,
   "metadata": {},
   "outputs": [],
   "source": [
    "# import modules and set up logging\n",
    "import logging\n",
    "\n",
    "# Tracks events that happen when some software executes.\n",
    "logging.basicConfig(format='%(asctime)s : %(levelname)s: %(message)s', level = logging.INFO)"
   ]
  },
  {
   "cell_type": "markdown",
   "metadata": {},
   "source": [
    "**Making a Similarity Query**\n",
    "\n",
    "**Creating an Indexer**\n",
    "\n",
    "An instance of AnnoyIndexer needs to be created in order to use Annoy in gensim. \n",
    "The AnnoyIndexer class is located in gensim.similarities.index\n",
    "\n",
    "AnnoyIndexer() takes 2 parameters: \n",
    "\n",
    "**model**: A Word2Vec or Doc2Vec model\n",
    "\n",
    "**num_trees:** Positive integer, num_trees effects the build time and index size. \n",
    "            **A larger value will give more accurate results, but larger indexes**.\n",
    "            More information on what trees in Annoy can do is found here : https://github.com/spotify/annoy#how-does-it-work\n",
    "            \n",
    "            "
   ]
  },
  {
   "cell_type": "markdown",
   "metadata": {},
   "source": [
    "Relation between num_trees, build time and accuracy will be investigated later"
   ]
  },
  {
   "cell_type": "code",
   "execution_count": 7,
   "metadata": {},
   "outputs": [],
   "source": [
    "from gensim.similarities.index import AnnoyIndexer\n",
    "# 100 trees are being used \n",
    "annoy_index = AnnoyIndexer(model, 100)"
   ]
  },
  {
   "cell_type": "markdown",
   "metadata": {},
   "source": [
    "Lets find top 5 most similar words to \"army\" in the corpus.\n",
    "To make similarity we call Word2Vec.most_similar like we  would traditionally, with ana dded parameter, indexer. \n",
    "\n",
    "**Only supported indexer in gensim for now is Annoy**"
   ]
  },
  {
   "cell_type": "code",
   "execution_count": 8,
   "metadata": {},
   "outputs": [
    {
     "name": "stdout",
     "output_type": "stream",
     "text": [
      "('who', 0.9873399483039975)\n",
      "('us', 0.9873364176601171)\n",
      "('they', 0.9870697623118758)\n",
      "('that', 0.9866892965510488)\n",
      "('was', 0.9866568706929684)\n",
      "CPU times: user 2.11 ms, sys: 37 µs, total: 2.15 ms\n",
      "Wall time: 911 µs\n"
     ]
    }
   ],
   "source": [
    "%%time\n",
    "\n",
    "# Dervie vector for word \"army\" in our model\n",
    "vector = model.wv[\"army\"]\n",
    "\n",
    "# instance of AnnoyIndexer we just created is passed\n",
    "approximate_neighbors = model.wv.most_similar([vector], topn=5, indexer=annoy_index)\n",
    "\n",
    "# Neatly print approximate neighbors and their corresponding cosine similarity values\n",
    "for neighbor in approximate_neighbors:\n",
    "    print(neighbor)"
   ]
  },
  {
   "cell_type": "markdown",
   "metadata": {},
   "source": [
    "**Analyzing the results**\n",
    "\n",
    "Closer cosine similarity of a vector is to 1 , more similar that word is to our query. \n",
    "Which was the vector for \"army\"\n"
   ]
  },
  {
   "cell_type": "markdown",
   "metadata": {},
   "source": [
    "**Persisting Indexes**\n",
    "\n",
    "You can save and load your indexes from/to disk to prevent having to construct them each time. \n",
    "This will create 2 files on disk, **fname and fname.d**\n",
    "Both files are needed to correctly restore all attributes. \n",
    "Before loading an index, you'll have to create an empty AnnoyIndexer object\n",
    "\n",
    "**.d is a Dependency file**\n",
    "Contains dependencies in plain text that describe the files that were used to create compiled object files (.o files) by a c compiler"
   ]
  },
  {
   "cell_type": "code",
   "execution_count": 9,
   "metadata": {},
   "outputs": [
    {
     "name": "stderr",
     "output_type": "stream",
     "text": [
      "/home/nishant/miniconda3/envs/pysyft/lib/python3.8/site-packages/gensim/similarities/index.py:168: FutureWarning: The default argument for metric will be removed in future version of Annoy. Please pass metric='angular' explicitly.\n",
      "  self.index = AnnoyIndex(d['f'])\n"
     ]
    }
   ],
   "source": [
    "fname = 'index'\n",
    "\n",
    "# Persist index to disk\n",
    "annoy_index.save(fname)\n",
    "\n",
    "# Load index back\n",
    "if os.path.exists(fname):\n",
    "    annoy_index2 = AnnoyIndexer()\n",
    "    annoy_index2.load(fname)\n",
    "    annoy_index2.model = model"
   ]
  },
  {
   "cell_type": "code",
   "execution_count": 10,
   "metadata": {},
   "outputs": [
    {
     "name": "stdout",
     "output_type": "stream",
     "text": [
      "('who', 0.9873399483039975)\n",
      "('us', 0.9873364176601171)\n",
      "('they', 0.9870697623118758)\n",
      "('that', 0.9866892965510488)\n",
      "('was', 0.9866568706929684)\n",
      "CPU times: user 3.3 ms, sys: 63 µs, total: 3.36 ms\n",
      "Wall time: 2.6 ms\n"
     ]
    }
   ],
   "source": [
    "%%time\n",
    "\n",
    "# Results should be identicalto above model\n",
    "vector = model.wv[\"army\"]\n",
    "\n",
    "approximate_neighbors = model.wv.most_similar([vector], topn=5, indexer=annoy_index2)\n",
    "for neighbor in approximate_neighbors:\n",
    "    print(neighbor)"
   ]
  },
  {
   "cell_type": "markdown",
   "metadata": {},
   "source": [
    "**Save memory by Memory-Mapping indices saved to disk**\n",
    "\n",
    "Annoy library has a useful feature that indices can be memory-mapped from disk. \n",
    "Saves memory when same index is used by several processes.\n",
    "\n",
    "Below are 2 snippets of code. \n",
    "1st one has a separate index for each process. \n",
    "2nd snipped shares index between 2 processes via Memory-mapping. \n",
    "**2nd example uses less total RAM as it's shared.**"
   ]
  },
  {
   "cell_type": "code",
   "execution_count": 11,
   "metadata": {},
   "outputs": [
    {
     "name": "stdout",
     "output_type": "stream",
     "text": [
      "CPU times: user 15.9 ms, sys: 0 ns, total: 15.9 ms\n",
      "Wall time: 15.3 ms\n"
     ]
    }
   ],
   "source": [
    "%%time \n",
    "\n",
    "# Bad Example : 2 processes load the Word2Vec model from disk and create their own Annoy \n",
    "# indices from that model. \n",
    "\n",
    "from gensim import models\n",
    "from gensim.similarities.index import AnnoyIndexer\n",
    "from multiprocessing import Process\n",
    "import os\n",
    "import psutil\n"
   ]
  },
  {
   "cell_type": "markdown",
   "metadata": {},
   "source": [
    "**PSUTIL:** Cross-platform library for retrieving info on running processes and System    utilization\n",
    "\n",
    "Useful for System monitoring, profiling, limiting process resources and management of running processes.\n",
    "\n",
    "**Multi-Processing:** Package that supports spawning processes using an API similar to threading midule\n",
    "\n",
    "Offers both local and remote Concurrency\n"
   ]
  },
  {
   "cell_type": "code",
   "execution_count": 12,
   "metadata": {},
   "outputs": [
    {
     "name": "stderr",
     "output_type": "stream",
     "text": [
      "2020-08-20 08:26:43,032 : INFO: saving Word2Vec object under /tmp/mymodel, separately None\n",
      "2020-08-20 08:26:43,034 : INFO: not storing attribute vectors_norm\n",
      "2020-08-20 08:26:43,036 : INFO: not storing attribute cum_table\n",
      "2020-08-20 08:26:43,211 : INFO: saved /tmp/mymodel\n"
     ]
    },
    {
     "name": "stdout",
     "output_type": "stream",
     "text": [
      "Process ID: 24130\n"
     ]
    },
    {
     "name": "stderr",
     "output_type": "stream",
     "text": [
      "2020-08-20 08:26:43,232 : INFO: loading Word2Vec object from /tmp/mymodel\n",
      "2020-08-20 08:26:43,373 : INFO: loading wv recursively from /tmp/mymodel.wv.* with mmap=None\n",
      "2020-08-20 08:26:43,374 : INFO: setting ignored attribute vectors_norm to None\n",
      "2020-08-20 08:26:43,375 : INFO: loading vocabulary recursively from /tmp/mymodel.vocabulary.* with mmap=None\n",
      "2020-08-20 08:26:43,376 : INFO: loading trainables recursively from /tmp/mymodel.trainables.* with mmap=None\n",
      "2020-08-20 08:26:43,377 : INFO: setting ignored attribute cum_table to None\n",
      "2020-08-20 08:26:43,378 : INFO: loaded /tmp/mymodel\n",
      "2020-08-20 08:26:43,398 : INFO: precomputing L2-norms of word weight vectors\n",
      "/home/nishant/miniconda3/envs/pysyft/lib/python3.8/site-packages/gensim/similarities/index.py:198: FutureWarning: The default argument for metric will be removed in future version of Annoy. Please pass metric='angular' explicitly.\n",
      "  index = AnnoyIndex(num_features)\n"
     ]
    },
    {
     "name": "stdout",
     "output_type": "stream",
     "text": [
      "('who', 0.9873399483039975)\n",
      "('us', 0.9873364176601171)\n",
      "('they', 0.9870697623118758)\n",
      "('that', 0.9866892965510488)\n",
      "('was', 0.9866568706929684)\n",
      "Memory used by process24130= pmem(rss=169492480, vms=1188462592, shared=16076800, text=2420736, lib=0, data=210677760, dirty=0)\n",
      "Process ID: 24164\n"
     ]
    },
    {
     "name": "stderr",
     "output_type": "stream",
     "text": [
      "2020-08-20 08:26:44,555 : INFO: loading Word2Vec object from /tmp/mymodel\n",
      "2020-08-20 08:26:44,688 : INFO: loading wv recursively from /tmp/mymodel.wv.* with mmap=None\n",
      "2020-08-20 08:26:44,689 : INFO: setting ignored attribute vectors_norm to None\n",
      "2020-08-20 08:26:44,690 : INFO: loading vocabulary recursively from /tmp/mymodel.vocabulary.* with mmap=None\n",
      "2020-08-20 08:26:44,691 : INFO: loading trainables recursively from /tmp/mymodel.trainables.* with mmap=None\n",
      "2020-08-20 08:26:44,692 : INFO: setting ignored attribute cum_table to None\n",
      "2020-08-20 08:26:44,693 : INFO: loaded /tmp/mymodel\n",
      "2020-08-20 08:26:44,703 : INFO: precomputing L2-norms of word weight vectors\n",
      "/home/nishant/miniconda3/envs/pysyft/lib/python3.8/site-packages/gensim/similarities/index.py:198: FutureWarning: The default argument for metric will be removed in future version of Annoy. Please pass metric='angular' explicitly.\n",
      "  index = AnnoyIndex(num_features)\n"
     ]
    },
    {
     "name": "stdout",
     "output_type": "stream",
     "text": [
      "('who', 0.9873399483039975)\n",
      "('us', 0.9873364176601171)\n",
      "('they', 0.9870697623118758)\n",
      "('that', 0.9866892965510488)\n",
      "('was', 0.9866568706929684)\n",
      "Memory used by process24164= pmem(rss=169312256, vms=1188462592, shared=15843328, text=2420736, lib=0, data=210714624, dirty=0)\n",
      "CPU times: user 98.4 ms, sys: 56.3 ms, total: 155 ms\n",
      "Wall time: 2.88 s\n"
     ]
    }
   ],
   "source": [
    "%%time\n",
    "\n",
    "# Bad example. Two processes load the Word2vec model from disk and create there own Annoy indices from that model. \n",
    "\n",
    "from gensim import models\n",
    "from gensim.similarities.index import AnnoyIndexer\n",
    "from multiprocessing import Process\n",
    "import os\n",
    "import psutil\n",
    "\n",
    "model.save('/tmp/mymodel')\n",
    "\n",
    "def f(process_id):\n",
    "    print('Process ID:', os.getpid())\n",
    "    process = psutil.Process(os.getpid())\n",
    "    new_model = models.Word2Vec.load('/tmp/mymodel')\n",
    "    vector= new_model.wv[\"army\"]\n",
    "    annoy_index = AnnoyIndexer(new_model, 100)\n",
    "    approximate_neighbors = new_model.wv.most_similar([vector], topn=5, indexer=annoy_index)\n",
    "    \n",
    "    for neighbor in approximate_neighbors:\n",
    "        print(neighbor)\n",
    "        \n",
    "    print('Memory used by process'+str(os.getpid())+'=', process.memory_info())\n",
    "    \n",
    "# Creating and running 2 parallel process to share same index file. \n",
    "p1 = Process(target=f, args=('1',))\n",
    "p1.start()\n",
    "p1.join()\n",
    "p2 = Process(target=f, args=('2',))\n",
    "p2.start()\n",
    "p2.join()"
   ]
  },
  {
   "cell_type": "code",
   "execution_count": 13,
   "metadata": {},
   "outputs": [
    {
     "name": "stderr",
     "output_type": "stream",
     "text": [
      "2020-08-20 08:26:45,926 : INFO: saving Word2Vec object under /tmp/mymodel, separately None\n",
      "2020-08-20 08:26:45,928 : INFO: not storing attribute vectors_norm\n",
      "2020-08-20 08:26:45,929 : INFO: not storing attribute cum_table\n",
      "2020-08-20 08:26:46,119 : INFO: saved /tmp/mymodel\n"
     ]
    },
    {
     "name": "stdout",
     "output_type": "stream",
     "text": [
      "Process ID: 24198\n"
     ]
    },
    {
     "name": "stderr",
     "output_type": "stream",
     "text": [
      "2020-08-20 08:26:46,144 : INFO: loading Word2Vec object from /tmp/mymodel\n",
      "2020-08-20 08:26:46,289 : INFO: loading wv recursively from /tmp/mymodel.wv.* with mmap=None\n",
      "2020-08-20 08:26:46,290 : INFO: setting ignored attribute vectors_norm to None\n",
      "2020-08-20 08:26:46,291 : INFO: loading vocabulary recursively from /tmp/mymodel.vocabulary.* with mmap=None\n",
      "2020-08-20 08:26:46,292 : INFO: loading trainables recursively from /tmp/mymodel.trainables.* with mmap=None\n",
      "2020-08-20 08:26:46,293 : INFO: setting ignored attribute cum_table to None\n",
      "2020-08-20 08:26:46,293 : INFO: loaded /tmp/mymodel\n",
      "/home/nishant/miniconda3/envs/pysyft/lib/python3.8/site-packages/gensim/similarities/index.py:168: FutureWarning: The default argument for metric will be removed in future version of Annoy. Please pass metric='angular' explicitly.\n",
      "  self.index = AnnoyIndex(d['f'])\n",
      "2020-08-20 08:26:46,306 : INFO: precomputing L2-norms of word weight vectors\n"
     ]
    },
    {
     "name": "stdout",
     "output_type": "stream",
     "text": [
      "('who', 0.9873399483039975)\n",
      "('us', 0.9873364176601171)\n",
      "('they', 0.9870697623118758)\n",
      "('that', 0.9866892965510488)\n",
      "('was', 0.9866568706929684)\n",
      "Memory used by Process 24198 pmem(rss=177143808, vms=1189470208, shared=25776128, text=2420736, lib=0, data=194338816, dirty=0)\n",
      "Process ID: 24231\n"
     ]
    },
    {
     "name": "stderr",
     "output_type": "stream",
     "text": [
      "2020-08-20 08:26:46,335 : INFO: loading Word2Vec object from /tmp/mymodel\n",
      "2020-08-20 08:26:46,477 : INFO: loading wv recursively from /tmp/mymodel.wv.* with mmap=None\n",
      "2020-08-20 08:26:46,478 : INFO: setting ignored attribute vectors_norm to None\n",
      "2020-08-20 08:26:46,479 : INFO: loading vocabulary recursively from /tmp/mymodel.vocabulary.* with mmap=None\n",
      "2020-08-20 08:26:46,480 : INFO: loading trainables recursively from /tmp/mymodel.trainables.* with mmap=None\n",
      "2020-08-20 08:26:46,481 : INFO: setting ignored attribute cum_table to None\n",
      "2020-08-20 08:26:46,482 : INFO: loaded /tmp/mymodel\n",
      "/home/nishant/miniconda3/envs/pysyft/lib/python3.8/site-packages/gensim/similarities/index.py:168: FutureWarning: The default argument for metric will be removed in future version of Annoy. Please pass metric='angular' explicitly.\n",
      "  self.index = AnnoyIndex(d['f'])\n",
      "2020-08-20 08:26:46,502 : INFO: precomputing L2-norms of word weight vectors\n"
     ]
    },
    {
     "name": "stdout",
     "output_type": "stream",
     "text": [
      "('who', 0.9873399483039975)\n",
      "('us', 0.9873364176601171)\n",
      "('they', 0.9870697623118758)\n",
      "('that', 0.9866892965510488)\n",
      "('was', 0.9866568706929684)\n",
      "Memory used by Process 24231 pmem(rss=176840704, vms=1189470208, shared=25448448, text=2420736, lib=0, data=194355200, dirty=0)\n",
      "CPU times: user 104 ms, sys: 36.6 ms, total: 140 ms\n",
      "Wall time: 596 ms\n"
     ]
    }
   ],
   "source": [
    "%%time \n",
    "\n",
    "# Good Example: 2 processes load both the Word2Vec model and index from disk and \n",
    "# memory-map the index\n",
    "\n",
    "from gensim import models\n",
    "from gensim.similarities.index import AnnoyIndexer\n",
    "from multiprocessing import Process\n",
    "import os \n",
    "import psutil\n",
    "\n",
    "model.save('/tmp/mymodel')\n",
    "\n",
    "def f(process_id):\n",
    "    \n",
    "    print('Process ID:', os.getpid())\n",
    "    process = psutil.Process(os.getpid())\n",
    "    new_model = models.Word2Vec.load('/tmp/mymodel')\n",
    "    vector = new_model.wv[\"army\"]\n",
    "    annoy_index = AnnoyIndexer()\n",
    "    annoy_index.load('index')\n",
    "    annoy_index.model = new_model\n",
    "    approximate_neighbors = new_model.wv.most_similar([vector], topn=5, indexer=annoy_index)\n",
    "    \n",
    "    for neighbor in approximate_neighbors:\n",
    "        print(neighbor)\n",
    "        \n",
    "    print(\"Memory used by Process \"+str(os.getpid()), process.memory_info())\n",
    "    \n",
    "# Creating and running 2 parallel process to share the same index file\n",
    "\n",
    "p1 = Process(target=f, args=('1',))\n",
    "p1.start()\n",
    "p1.join()\n",
    "p2 = Process(target=f, args=('1',))\n",
    "p2.start()\n",
    "p2.join()"
   ]
  },
  {
   "cell_type": "markdown",
   "metadata": {},
   "source": [
    "**RELATIONSHIP BETWEEN NUM_TREES AND INITIALIZATION TIME**\n",
    "\n"
   ]
  },
  {
   "cell_type": "code",
   "execution_count": 14,
   "metadata": {},
   "outputs": [
    {
     "name": "stderr",
     "output_type": "stream",
     "text": [
      "/home/nishant/miniconda3/envs/pysyft/lib/python3.8/site-packages/gensim/similarities/index.py:198: FutureWarning: The default argument for metric will be removed in future version of Annoy. Please pass metric='angular' explicitly.\n",
      "  index = AnnoyIndex(num_features)\n"
     ]
    },
    {
     "data": {
      "image/png": "[encoded data removed]",
      "text/plain": [
       "<Figure size 432x288 with 1 Axes>"
      ]
     },
     "metadata": {
      "needs_background": "light"
     },
     "output_type": "display_data"
    }
   ],
   "source": [
    "%matplotlib inline\n",
    "\n",
    "import matplotlib.pyplot as plt, time\n",
    "\n",
    "x_cor = []\n",
    "y_cor = []\n",
    "\n",
    "for x in range(100):\n",
    "    \n",
    "    start_time = time.time()\n",
    "    AnnoyIndexer(model, x)\n",
    "    y_cor.append(time.time() - start_time)\n",
    "    x_cor.append(x)\n",
    "    \n",
    "plt.plot(x_cor, y_cor)\n",
    "\n",
    "plt.title(\"num_trees vs initialization time\")\n",
    "plt.ylabel(\"Initialization Time(s)\")\n",
    "plt.xlabel(\"Num_Trees\")\n",
    "plt.show()"
   ]
  },
  {
   "cell_type": "markdown",
   "metadata": {},
   "source": [
    "**Relationship between num_trees and accuracy**"
   ]
  },
  {
   "cell_type": "code",
   "execution_count": 19,
   "metadata": {},
   "outputs": [
    {
     "name": "stderr",
     "output_type": "stream",
     "text": [
      "<ipython-input-19-2ee549bae6fe>:1: DeprecationWarning: Call to deprecated `syn0norm` (Attribute will be removed in 4.0.0, use self.vectors_norm instead).\n",
      "  exact_results = [element[0] for element in model.wv.most_similar([model.wv.syn0norm[0]], topn=100)]\n",
      "/home/nishant/miniconda3/envs/pysyft/lib/python3.8/site-packages/gensim/similarities/index.py:198: FutureWarning: The default argument for metric will be removed in future version of Annoy. Please pass metric='angular' explicitly.\n",
      "  index = AnnoyIndex(num_features)\n",
      "<ipython-input-19-2ee549bae6fe>:6: DeprecationWarning: Call to deprecated `syn0norm` (Attribute will be removed in 4.0.0, use self.vectors_norm instead).\n",
      "  approximate_results = model.most_similar([model.wv.syn0norm[0]], topn=100, indexer=annoy_index)\n",
      "<ipython-input-19-2ee549bae6fe>:6: DeprecationWarning: Call to deprecated `most_similar` (Method will be removed in 4.0.0, use self.wv.most_similar() instead).\n",
      "  approximate_results = model.most_similar([model.wv.syn0norm[0]], topn=100, indexer=annoy_index)\n"
     ]
    },
    {
     "data": {
      "image/png": "[encoded data removed]",
      "text/plain": [
       "<Figure size 432x288 with 1 Axes>"
      ]
     },
     "metadata": {
      "needs_background": "light"
     },
     "output_type": "display_data"
    }
   ],
   "source": [
    "exact_results = [element[0] for element in model.wv.most_similar([model.wv.syn0norm[0]], topn=100)]\n",
    "x_axis = []\n",
    "y_axis = []\n",
    "for x in range(1, 30):\n",
    "    annoy_index = AnnoyIndexer(model, x)\n",
    "    approximate_results = model.most_similar([model.wv.syn0norm[0]], topn=100, indexer=annoy_index)\n",
    "    top_words = [result[0] for result in approximate_results]\n",
    "    x_axis.append(x)\n",
    "    y_axis.append(len(set(top_words).intersection(exact_results)))\n",
    "    \n",
    "plt.plot(x_axis, y_axis)\n",
    "plt.title(\"num_trees vs accuracy\")\n",
    "plt.ylabel(\"% accuracy\")\n",
    "plt.xlabel(\"Num_trees\")\n",
    "plt.show()"
   ]
  },
  {
   "cell_type": "code",
   "execution_count": null,
   "metadata": {},
   "outputs": [],
   "source": []
  }
 ],
 "metadata": {
  "kernelspec": {
   "display_name": "Python 3",
   "language": "python",
   "name": "python3"
  },
  "language_info": {
   "codemirror_mode": {
    "name": "ipython",
    "version": 3
   },
   "file_extension": ".py",
   "mimetype": "text/x-python",
   "name": "python",
   "nbconvert_exporter": "python",
   "pygments_lexer": "ipython3",
   "version": "3.8.3"
  }
 },
 "nbformat": 4,
 "nbformat_minor": 4
}
