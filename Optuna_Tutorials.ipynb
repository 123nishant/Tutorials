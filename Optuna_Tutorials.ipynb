{
  "nbformat": 4,
  "nbformat_minor": 0,
  "metadata": {
    "colab": {
      "name": "Optuna Basics .ipynb",
      "provenance": [],
      "authorship_tag": "ABX9TyP8cIRaTL1SdXHhAl5Bi7Yp",
      "include_colab_link": true
    },
    "kernelspec": {
      "name": "python3",
      "display_name": "Python 3"
    }
  },
  "cells": [
    {
      "cell_type": "markdown",
      "metadata": {
        "id": "view-in-github",
        "colab_type": "text"
      },
      "source": [
        "<a href=\"https://colab.research.google.com/github/123nishant/Tutorials/blob/master/Optuna_Tutorials.ipynb\" target=\"_parent\"><img src=\"https://colab.research.google.com/assets/colab-badge.svg\" alt=\"Open In Colab\"/></a>"
      ]
    },
    {
      "cell_type": "code",
      "metadata": {
        "colab": {
          "base_uri": "https://localhost:8080/"
        },
        "id": "Pc_xZh0IHhv8",
        "outputId": "7d7da3d1-2a98-454d-9c13-51f211f97219"
      },
      "source": [
        "! pip install optuna"
      ],
      "execution_count": 5,
      "outputs": [
        {
          "output_type": "stream",
          "text": [
            "Collecting optuna\n",
            "\u001b[?25l  Downloading https://files.pythonhosted.org/packages/59/b4/a1a80252cef3d8f5a0acdf6e678d6dc07e2e6964ee46d0453a2ae1af1ecb/optuna-2.4.0-py3-none-any.whl (282kB)\n",
            "\u001b[K     |████████████████████████████████| 286kB 5.4MB/s \n",
            "\u001b[?25hCollecting alembic\n",
            "\u001b[?25l  Downloading https://files.pythonhosted.org/packages/ea/c3/b9147464dba5e5f1279fb46ddda3bef28c8d3594599e07cf0ae67d8c7c01/alembic-1.5.2-py2.py3-none-any.whl (155kB)\n",
            "\u001b[K     |████████████████████████████████| 163kB 7.3MB/s \n",
            "\u001b[?25hRequirement already satisfied: numpy in /usr/local/lib/python3.6/dist-packages (from optuna) (1.19.5)\n",
            "Requirement already satisfied: sqlalchemy>=1.1.0 in /usr/local/lib/python3.6/dist-packages (from optuna) (1.3.22)\n",
            "Collecting cliff\n",
            "\u001b[?25l  Downloading https://files.pythonhosted.org/packages/0f/8f/3c74fa4b6c3db1051b495385f5302fc5d5aa0f180d40ce3e9a13c82f8c82/cliff-3.6.0-py3-none-any.whl (79kB)\n",
            "\u001b[K     |████████████████████████████████| 81kB 4.8MB/s \n",
            "\u001b[?25hRequirement already satisfied: packaging>=20.0 in /usr/local/lib/python3.6/dist-packages (from optuna) (20.8)\n",
            "Requirement already satisfied: scipy!=1.4.0 in /usr/local/lib/python3.6/dist-packages (from optuna) (1.4.1)\n",
            "Requirement already satisfied: tqdm in /usr/local/lib/python3.6/dist-packages (from optuna) (4.41.1)\n",
            "Requirement already satisfied: joblib in /usr/local/lib/python3.6/dist-packages (from optuna) (1.0.0)\n",
            "Collecting cmaes>=0.6.0\n",
            "  Downloading https://files.pythonhosted.org/packages/8d/3c/06c76ec8b54b9b1fad7f35e903fd25010fe3e0d41bd94cea5e6f12e0d651/cmaes-0.7.0-py3-none-any.whl\n",
            "Collecting colorlog\n",
            "  Downloading https://files.pythonhosted.org/packages/5e/39/0230290df0519d528d8d0ffdfd900150ed24e0076d13b1f19e279444aab1/colorlog-4.7.2-py2.py3-none-any.whl\n",
            "Requirement already satisfied: python-dateutil in /usr/local/lib/python3.6/dist-packages (from alembic->optuna) (2.8.1)\n",
            "Collecting Mako\n",
            "\u001b[?25l  Downloading https://files.pythonhosted.org/packages/5c/db/2d2d88b924aa4674a080aae83b59ea19d593250bfe5ed789947c21736785/Mako-1.1.4.tar.gz (479kB)\n",
            "\u001b[K     |████████████████████████████████| 481kB 8.4MB/s \n",
            "\u001b[?25hCollecting python-editor>=0.3\n",
            "  Downloading https://files.pythonhosted.org/packages/c6/d3/201fc3abe391bbae6606e6f1d598c15d367033332bd54352b12f35513717/python_editor-1.0.4-py3-none-any.whl\n",
            "Requirement already satisfied: PyYAML>=3.12 in /usr/local/lib/python3.6/dist-packages (from cliff->optuna) (3.13)\n",
            "Collecting PrettyTable<0.8,>=0.7.2\n",
            "  Downloading https://files.pythonhosted.org/packages/ef/30/4b0746848746ed5941f052479e7c23d2b56d174b82f4fd34a25e389831f5/prettytable-0.7.2.tar.bz2\n",
            "Collecting stevedore>=2.0.1\n",
            "\u001b[?25l  Downloading https://files.pythonhosted.org/packages/d4/49/b602307aeac3df3384ff1fcd05da9c0376c622a6c48bb5325f28ab165b57/stevedore-3.3.0-py3-none-any.whl (49kB)\n",
            "\u001b[K     |████████████████████████████████| 51kB 4.7MB/s \n",
            "\u001b[?25hRequirement already satisfied: pyparsing>=2.1.0 in /usr/local/lib/python3.6/dist-packages (from cliff->optuna) (2.4.7)\n",
            "Collecting cmd2!=0.8.3,>=0.8.0\n",
            "\u001b[?25l  Downloading https://files.pythonhosted.org/packages/27/54/af6e2703f064485d717cb311d3f9440cd302a823ba6d80a020b59eae166d/cmd2-1.4.0-py3-none-any.whl (133kB)\n",
            "\u001b[K     |████████████████████████████████| 133kB 12.2MB/s \n",
            "\u001b[?25hCollecting pbr!=2.1.0,>=2.0.0\n",
            "\u001b[?25l  Downloading https://files.pythonhosted.org/packages/fb/48/69046506f6ac61c1eaa9a0d42d22d54673b69e176d30ca98e3f61513e980/pbr-5.5.1-py2.py3-none-any.whl (106kB)\n",
            "\u001b[K     |████████████████████████████████| 112kB 12.9MB/s \n",
            "\u001b[?25hRequirement already satisfied: six>=1.5 in /usr/local/lib/python3.6/dist-packages (from python-dateutil->alembic->optuna) (1.15.0)\n",
            "Requirement already satisfied: MarkupSafe>=0.9.2 in /usr/local/lib/python3.6/dist-packages (from Mako->alembic->optuna) (1.1.1)\n",
            "Requirement already satisfied: importlib-metadata>=1.7.0; python_version < \"3.8\" in /usr/local/lib/python3.6/dist-packages (from stevedore>=2.0.1->cliff->optuna) (3.3.0)\n",
            "Collecting pyperclip>=1.6\n",
            "  Downloading https://files.pythonhosted.org/packages/6f/4c/0b1d507ad7e8bc31d690d04b4f475e74c2002d060f7994ce8c09612df707/pyperclip-1.8.1.tar.gz\n",
            "Requirement already satisfied: wcwidth>=0.1.7 in /usr/local/lib/python3.6/dist-packages (from cmd2!=0.8.3,>=0.8.0->cliff->optuna) (0.2.5)\n",
            "Requirement already satisfied: attrs>=16.3.0 in /usr/local/lib/python3.6/dist-packages (from cmd2!=0.8.3,>=0.8.0->cliff->optuna) (20.3.0)\n",
            "Collecting colorama>=0.3.7\n",
            "  Downloading https://files.pythonhosted.org/packages/44/98/5b86278fbbf250d239ae0ecb724f8572af1c91f4a11edf4d36a206189440/colorama-0.4.4-py2.py3-none-any.whl\n",
            "Requirement already satisfied: zipp>=0.5 in /usr/local/lib/python3.6/dist-packages (from importlib-metadata>=1.7.0; python_version < \"3.8\"->stevedore>=2.0.1->cliff->optuna) (3.4.0)\n",
            "Requirement already satisfied: typing-extensions>=3.6.4; python_version < \"3.8\" in /usr/local/lib/python3.6/dist-packages (from importlib-metadata>=1.7.0; python_version < \"3.8\"->stevedore>=2.0.1->cliff->optuna) (3.7.4.3)\n",
            "Building wheels for collected packages: Mako, PrettyTable, pyperclip\n",
            "  Building wheel for Mako (setup.py) ... \u001b[?25l\u001b[?25hdone\n",
            "  Created wheel for Mako: filename=Mako-1.1.4-py2.py3-none-any.whl size=75675 sha256=4854418d91bbf6f7bffc2b912892f7d7548d5e60d6031285800e0dc064c71d11\n",
            "  Stored in directory: /root/.cache/pip/wheels/ad/10/d3/aeb26e20d19045e2a68e5d3cbb57432e11b5d9c92c99f98d47\n",
            "  Building wheel for PrettyTable (setup.py) ... \u001b[?25l\u001b[?25hdone\n",
            "  Created wheel for PrettyTable: filename=prettytable-0.7.2-cp36-none-any.whl size=13702 sha256=b338da61856a4ca9d68a93d05d5f3c0ccc94325b2752a70f036362002ad2622f\n",
            "  Stored in directory: /root/.cache/pip/wheels/80/34/1c/3967380d9676d162cb59513bd9dc862d0584e045a162095606\n",
            "  Building wheel for pyperclip (setup.py) ... \u001b[?25l\u001b[?25hdone\n",
            "  Created wheel for pyperclip: filename=pyperclip-1.8.1-cp36-none-any.whl size=11120 sha256=7cb98b037b0f548014e4a59433e5ea395c09d8cc829924573d9ad98b284c251b\n",
            "  Stored in directory: /root/.cache/pip/wheels/44/10/3a/c830e9bb3db2c93274ea1f213a41fabde0d8cf3794251fad0c\n",
            "Successfully built Mako PrettyTable pyperclip\n",
            "Installing collected packages: Mako, python-editor, alembic, PrettyTable, pbr, stevedore, pyperclip, colorama, cmd2, cliff, cmaes, colorlog, optuna\n",
            "  Found existing installation: prettytable 2.0.0\n",
            "    Uninstalling prettytable-2.0.0:\n",
            "      Successfully uninstalled prettytable-2.0.0\n",
            "Successfully installed Mako-1.1.4 PrettyTable-0.7.2 alembic-1.5.2 cliff-3.6.0 cmaes-0.7.0 cmd2-1.4.0 colorama-0.4.4 colorlog-4.7.2 optuna-2.4.0 pbr-5.5.1 pyperclip-1.8.1 python-editor-1.0.4 stevedore-3.3.0\n"
          ],
          "name": "stdout"
        }
      ]
    },
    {
      "cell_type": "markdown",
      "metadata": {
        "id": "7UsYzwwkILVe"
      },
      "source": [
        "# Optimizing Quadratic Equation"
      ]
    },
    {
      "cell_type": "code",
      "metadata": {
        "id": "qQpzLxj0HQ7u"
      },
      "source": [
        "import optuna"
      ],
      "execution_count": 6,
      "outputs": []
    },
    {
      "cell_type": "code",
      "metadata": {
        "id": "sU5MWjlCHUwJ"
      },
      "source": [
        "def objective(trial):\n",
        "\n",
        "    x = trial.suggest_float(\"x\", -10, 10)\n",
        "    return (x - 2) ** 2"
      ],
      "execution_count": 8,
      "outputs": []
    },
    {
      "cell_type": "markdown",
      "metadata": {
        "id": "asTbNVSnIeah"
      },
      "source": [
        "# Trial Object : \n",
        "\n",
        "Corresponds to a single execution of the objective function and is internally instantiated upon each invocation of the function. "
      ]
    },
    {
      "cell_type": "markdown",
      "metadata": {
        "id": "IBVqXRLmIvvO"
      },
      "source": [
        "To start the optimization, we create a study object and pass the objective function to method \n",
        "\n",
        "\n",
        "```\n",
        "optimize()\n",
        "```\n",
        "\n",
        "\n",
        "\n"
      ]
    },
    {
      "cell_type": "code",
      "metadata": {
        "colab": {
          "base_uri": "https://localhost:8080/"
        },
        "id": "5-imy3KUHcPI",
        "outputId": "c759fdba-83f8-42f5-c331-50d820a0c9e2"
      },
      "source": [
        "study = optuna.create_study()\n",
        "study.optimize(objective, n_trials = 100)"
      ],
      "execution_count": 9,
      "outputs": [
        {
          "output_type": "stream",
          "text": [
            "\u001b[32m[I 2021-01-27 13:59:22,604]\u001b[0m A new study created in memory with name: no-name-357c2ca0-4801-4735-b1ce-ddcb6ea5e8a6\u001b[0m\n",
            "\u001b[32m[I 2021-01-27 13:59:22,613]\u001b[0m Trial 0 finished with value: 112.03807172617917 and parameters: {'x': -8.58480381141659}. Best is trial 0 with value: 112.03807172617917.\u001b[0m\n",
            "\u001b[32m[I 2021-01-27 13:59:22,616]\u001b[0m Trial 1 finished with value: 16.82444051929178 and parameters: {'x': -2.1017606608981687}. Best is trial 1 with value: 16.82444051929178.\u001b[0m\n",
            "\u001b[32m[I 2021-01-27 13:59:22,618]\u001b[0m Trial 2 finished with value: 56.90600343041737 and parameters: {'x': 9.543606791874652}. Best is trial 1 with value: 16.82444051929178.\u001b[0m\n",
            "\u001b[32m[I 2021-01-27 13:59:22,620]\u001b[0m Trial 3 finished with value: 5.042788285585651 and parameters: {'x': 4.245615346755907}. Best is trial 3 with value: 5.042788285585651.\u001b[0m\n",
            "\u001b[32m[I 2021-01-27 13:59:22,622]\u001b[0m Trial 4 finished with value: 35.81390246849168 and parameters: {'x': 7.98447177856924}. Best is trial 3 with value: 5.042788285585651.\u001b[0m\n",
            "\u001b[32m[I 2021-01-27 13:59:22,624]\u001b[0m Trial 5 finished with value: 140.6500668628701 and parameters: {'x': -9.85959809027566}. Best is trial 3 with value: 5.042788285585651.\u001b[0m\n",
            "\u001b[32m[I 2021-01-27 13:59:22,628]\u001b[0m Trial 6 finished with value: 33.733034526810684 and parameters: {'x': 7.8080146803198325}. Best is trial 3 with value: 5.042788285585651.\u001b[0m\n",
            "\u001b[32m[I 2021-01-27 13:59:22,631]\u001b[0m Trial 7 finished with value: 24.888990624864352 and parameters: {'x': 6.98888671196935}. Best is trial 3 with value: 5.042788285585651.\u001b[0m\n",
            "\u001b[32m[I 2021-01-27 13:59:22,633]\u001b[0m Trial 8 finished with value: 33.58693629769672 and parameters: {'x': -3.795423737544712}. Best is trial 3 with value: 5.042788285585651.\u001b[0m\n",
            "\u001b[32m[I 2021-01-27 13:59:22,635]\u001b[0m Trial 9 finished with value: 3.306573041587002 and parameters: {'x': 0.1816015173821217}. Best is trial 9 with value: 3.306573041587002.\u001b[0m\n",
            "\u001b[32m[I 2021-01-27 13:59:22,643]\u001b[0m Trial 10 finished with value: 0.12792755642121395 and parameters: {'x': 2.357669619091717}. Best is trial 10 with value: 0.12792755642121395.\u001b[0m\n",
            "\u001b[32m[I 2021-01-27 13:59:22,650]\u001b[0m Trial 11 finished with value: 0.010227302260775398 and parameters: {'x': 1.8988698746130739}. Best is trial 11 with value: 0.010227302260775398.\u001b[0m\n",
            "\u001b[32m[I 2021-01-27 13:59:22,658]\u001b[0m Trial 12 finished with value: 0.5392907806187128 and parameters: {'x': 2.7343642016184564}. Best is trial 11 with value: 0.010227302260775398.\u001b[0m\n",
            "\u001b[32m[I 2021-01-27 13:59:22,664]\u001b[0m Trial 13 finished with value: 0.04492814250611359 and parameters: {'x': 2.2119625969507677}. Best is trial 11 with value: 0.010227302260775398.\u001b[0m\n",
            "\u001b[32m[I 2021-01-27 13:59:22,673]\u001b[0m Trial 14 finished with value: 43.952527664168635 and parameters: {'x': -4.629670253049441}. Best is trial 11 with value: 0.010227302260775398.\u001b[0m\n",
            "\u001b[32m[I 2021-01-27 13:59:22,677]\u001b[0m Trial 15 finished with value: 7.711491702248917 and parameters: {'x': 4.7769572741129664}. Best is trial 11 with value: 0.010227302260775398.\u001b[0m\n",
            "\u001b[32m[I 2021-01-27 13:59:22,683]\u001b[0m Trial 16 finished with value: 5.931699917709226 and parameters: {'x': -0.43550814363434753}. Best is trial 11 with value: 0.010227302260775398.\u001b[0m\n",
            "\u001b[32m[I 2021-01-27 13:59:22,691]\u001b[0m Trial 17 finished with value: 1.4735420849991974 and parameters: {'x': 0.7861045823468986}. Best is trial 11 with value: 0.010227302260775398.\u001b[0m\n",
            "\u001b[32m[I 2021-01-27 13:59:22,698]\u001b[0m Trial 18 finished with value: 10.208424509022173 and parameters: {'x': 5.195062520362031}. Best is trial 11 with value: 0.010227302260775398.\u001b[0m\n",
            "\u001b[32m[I 2021-01-27 13:59:22,703]\u001b[0m Trial 19 finished with value: 17.238274057406382 and parameters: {'x': -2.1519000538797153}. Best is trial 11 with value: 0.010227302260775398.\u001b[0m\n",
            "\u001b[32m[I 2021-01-27 13:59:22,707]\u001b[0m Trial 20 finished with value: 77.13136648000602 and parameters: {'x': -6.78244649741779}. Best is trial 11 with value: 0.010227302260775398.\u001b[0m\n",
            "\u001b[32m[I 2021-01-27 13:59:22,711]\u001b[0m Trial 21 finished with value: 1.0178629306345297 and parameters: {'x': 3.008891932089126}. Best is trial 11 with value: 0.010227302260775398.\u001b[0m\n",
            "\u001b[32m[I 2021-01-27 13:59:22,716]\u001b[0m Trial 22 finished with value: 0.03662389750857558 and parameters: {'x': 1.8086262883555435}. Best is trial 11 with value: 0.010227302260775398.\u001b[0m\n",
            "\u001b[32m[I 2021-01-27 13:59:22,720]\u001b[0m Trial 23 finished with value: 0.3057469680357119 and parameters: {'x': 1.4470560896115123}. Best is trial 11 with value: 0.010227302260775398.\u001b[0m\n",
            "\u001b[32m[I 2021-01-27 13:59:22,724]\u001b[0m Trial 24 finished with value: 10.349022335728808 and parameters: {'x': -1.2169896387350718}. Best is trial 11 with value: 0.010227302260775398.\u001b[0m\n",
            "\u001b[32m[I 2021-01-27 13:59:22,729]\u001b[0m Trial 25 finished with value: 14.40940985050392 and parameters: {'x': 5.7959728463865385}. Best is trial 11 with value: 0.010227302260775398.\u001b[0m\n",
            "\u001b[32m[I 2021-01-27 13:59:22,733]\u001b[0m Trial 26 finished with value: 0.18809346719424838 and parameters: {'x': 1.566302562615078}. Best is trial 11 with value: 0.010227302260775398.\u001b[0m\n",
            "\u001b[32m[I 2021-01-27 13:59:22,737]\u001b[0m Trial 27 finished with value: 3.672366741322917 and parameters: {'x': 3.916342020966747}. Best is trial 11 with value: 0.010227302260775398.\u001b[0m\n",
            "\u001b[32m[I 2021-01-27 13:59:22,742]\u001b[0m Trial 28 finished with value: 30.24501792400668 and parameters: {'x': -3.499547065350626}. Best is trial 11 with value: 0.010227302260775398.\u001b[0m\n",
            "\u001b[32m[I 2021-01-27 13:59:22,746]\u001b[0m Trial 29 finished with value: 17.95180988873209 and parameters: {'x': 6.2369576217767495}. Best is trial 11 with value: 0.010227302260775398.\u001b[0m\n",
            "\u001b[32m[I 2021-01-27 13:59:22,751]\u001b[0m Trial 30 finished with value: 1.7569927510149859 and parameters: {'x': 3.3255160319720716}. Best is trial 11 with value: 0.010227302260775398.\u001b[0m\n",
            "\u001b[32m[I 2021-01-27 13:59:22,755]\u001b[0m Trial 31 finished with value: 0.042741278465929324 and parameters: {'x': 2.206739639319433}. Best is trial 11 with value: 0.010227302260775398.\u001b[0m\n",
            "\u001b[32m[I 2021-01-27 13:59:22,759]\u001b[0m Trial 32 finished with value: 0.05578052008730208 and parameters: {'x': 1.7638209999019767}. Best is trial 11 with value: 0.010227302260775398.\u001b[0m\n",
            "\u001b[32m[I 2021-01-27 13:59:22,763]\u001b[0m Trial 33 finished with value: 3.4754523630920295 and parameters: {'x': 0.13574348248637488}. Best is trial 11 with value: 0.010227302260775398.\u001b[0m\n",
            "\u001b[32m[I 2021-01-27 13:59:22,767]\u001b[0m Trial 34 finished with value: 12.49143020026681 and parameters: {'x': -1.5343217454367126}. Best is trial 11 with value: 0.010227302260775398.\u001b[0m\n",
            "\u001b[32m[I 2021-01-27 13:59:22,771]\u001b[0m Trial 35 finished with value: 4.446183136646411 and parameters: {'x': 4.108597433519829}. Best is trial 11 with value: 0.010227302260775398.\u001b[0m\n",
            "\u001b[32m[I 2021-01-27 13:59:22,775]\u001b[0m Trial 36 finished with value: 51.61267249870442 and parameters: {'x': 9.184196023126347}. Best is trial 11 with value: 0.010227302260775398.\u001b[0m\n",
            "\u001b[32m[I 2021-01-27 13:59:22,780]\u001b[0m Trial 37 finished with value: 0.9179511555504155 and parameters: {'x': 1.041902324629469}. Best is trial 11 with value: 0.010227302260775398.\u001b[0m\n",
            "\u001b[32m[I 2021-01-27 13:59:22,784]\u001b[0m Trial 38 finished with value: 6.15403479802709 and parameters: {'x': -0.48073271394301764}. Best is trial 11 with value: 0.010227302260775398.\u001b[0m\n",
            "\u001b[32m[I 2021-01-27 13:59:22,788]\u001b[0m Trial 39 finished with value: 0.6409416224507313 and parameters: {'x': 2.8005882977228254}. Best is trial 11 with value: 0.010227302260775398.\u001b[0m\n",
            "\u001b[32m[I 2021-01-27 13:59:22,793]\u001b[0m Trial 40 finished with value: 24.556713798891757 and parameters: {'x': -2.955473115545251}. Best is trial 11 with value: 0.010227302260775398.\u001b[0m\n",
            "\u001b[32m[I 2021-01-27 13:59:22,798]\u001b[0m Trial 41 finished with value: 0.0016275136530518306 and parameters: {'x': 2.0403424547226843}. Best is trial 41 with value: 0.0016275136530518306.\u001b[0m\n",
            "\u001b[32m[I 2021-01-27 13:59:22,803]\u001b[0m Trial 42 finished with value: 0.00221237036563127 and parameters: {'x': 2.047035841287589}. Best is trial 41 with value: 0.0016275136530518306.\u001b[0m\n",
            "\u001b[32m[I 2021-01-27 13:59:22,809]\u001b[0m Trial 43 finished with value: 3.6142962685296265 and parameters: {'x': 3.9011302608000396}. Best is trial 41 with value: 0.0016275136530518306.\u001b[0m\n",
            "\u001b[32m[I 2021-01-27 13:59:22,814]\u001b[0m Trial 44 finished with value: 2.480965385197551 and parameters: {'x': 0.42489194491376203}. Best is trial 41 with value: 0.0016275136530518306.\u001b[0m\n",
            "\u001b[32m[I 2021-01-27 13:59:22,820]\u001b[0m Trial 45 finished with value: 0.06186886972096131 and parameters: {'x': 2.2487345366469267}. Best is trial 41 with value: 0.0016275136530518306.\u001b[0m\n",
            "\u001b[32m[I 2021-01-27 13:59:22,826]\u001b[0m Trial 46 finished with value: 8.806973394436255 and parameters: {'x': 4.967654527473886}. Best is trial 41 with value: 0.0016275136530518306.\u001b[0m\n",
            "\u001b[32m[I 2021-01-27 13:59:22,832]\u001b[0m Trial 47 finished with value: 6.481361398903553 and parameters: {'x': -0.5458518022272139}. Best is trial 41 with value: 0.0016275136530518306.\u001b[0m\n",
            "\u001b[32m[I 2021-01-27 13:59:22,842]\u001b[0m Trial 48 finished with value: 1.7586303273116992 and parameters: {'x': 3.326133600853134}. Best is trial 41 with value: 0.0016275136530518306.\u001b[0m\n",
            "\u001b[32m[I 2021-01-27 13:59:22,847]\u001b[0m Trial 49 finished with value: 0.9392573597336515 and parameters: {'x': 1.0308470916652772}. Best is trial 41 with value: 0.0016275136530518306.\u001b[0m\n",
            "\u001b[32m[I 2021-01-27 13:59:22,856]\u001b[0m Trial 50 finished with value: 0.020069567973011425 and parameters: {'x': 1.8583328973508266}. Best is trial 41 with value: 0.0016275136530518306.\u001b[0m\n",
            "\u001b[32m[I 2021-01-27 13:59:22,863]\u001b[0m Trial 51 finished with value: 0.0004010941181607366 and parameters: {'x': 1.9799726657250463}. Best is trial 51 with value: 0.0004010941181607366.\u001b[0m\n",
            "\u001b[32m[I 2021-01-27 13:59:22,867]\u001b[0m Trial 52 finished with value: 2.1111646778030098 and parameters: {'x': 0.5470152520404732}. Best is trial 51 with value: 0.0004010941181607366.\u001b[0m\n",
            "\u001b[32m[I 2021-01-27 13:59:22,874]\u001b[0m Trial 53 finished with value: 0.0005040421128229571 and parameters: {'x': 1.9775491177718345}. Best is trial 51 with value: 0.0004010941181607366.\u001b[0m\n",
            "\u001b[32m[I 2021-01-27 13:59:22,880]\u001b[0m Trial 54 finished with value: 1.8324372166684804 and parameters: {'x': 3.3536754473168524}. Best is trial 51 with value: 0.0004010941181607366.\u001b[0m\n",
            "\u001b[32m[I 2021-01-27 13:59:22,885]\u001b[0m Trial 55 finished with value: 6.960846305171273 and parameters: {'x': 4.638341582352686}. Best is trial 51 with value: 0.0004010941181607366.\u001b[0m\n",
            "\u001b[32m[I 2021-01-27 13:59:22,891]\u001b[0m Trial 56 finished with value: 10.875370417481125 and parameters: {'x': -1.2977826516435442}. Best is trial 51 with value: 0.0004010941181607366.\u001b[0m\n",
            "\u001b[32m[I 2021-01-27 13:59:22,896]\u001b[0m Trial 57 finished with value: 14.710920695144813 and parameters: {'x': 5.835481807432387}. Best is trial 51 with value: 0.0004010941181607366.\u001b[0m\n",
            "\u001b[32m[I 2021-01-27 13:59:22,901]\u001b[0m Trial 58 finished with value: 0.2273343401268629 and parameters: {'x': 2.476795910350396}. Best is trial 51 with value: 0.0004010941181607366.\u001b[0m\n",
            "\u001b[32m[I 2021-01-27 13:59:22,906]\u001b[0m Trial 59 finished with value: 4.540829908078883 and parameters: {'x': -0.1309223139473863}. Best is trial 51 with value: 0.0004010941181607366.\u001b[0m\n",
            "\u001b[32m[I 2021-01-27 13:59:22,910]\u001b[0m Trial 60 finished with value: 0.41349822894852023 and parameters: {'x': 1.3569617204640767}. Best is trial 51 with value: 0.0004010941181607366.\u001b[0m\n",
            "\u001b[32m[I 2021-01-27 13:59:22,915]\u001b[0m Trial 61 finished with value: 0.035723153046128754 and parameters: {'x': 1.8109943041965963}. Best is trial 51 with value: 0.0004010941181607366.\u001b[0m\n",
            "\u001b[32m[I 2021-01-27 13:59:22,920]\u001b[0m Trial 62 finished with value: 0.007977971579135195 and parameters: {'x': 1.9106805084030636}. Best is trial 51 with value: 0.0004010941181607366.\u001b[0m\n",
            "\u001b[32m[I 2021-01-27 13:59:22,927]\u001b[0m Trial 63 finished with value: 0.6901582316124786 and parameters: {'x': 2.83075762507032}. Best is trial 51 with value: 0.0004010941181607366.\u001b[0m\n",
            "\u001b[32m[I 2021-01-27 13:59:22,932]\u001b[0m Trial 64 finished with value: 1.496910914219839 and parameters: {'x': 0.7765168925482302}. Best is trial 51 with value: 0.0004010941181607366.\u001b[0m\n",
            "\u001b[32m[I 2021-01-27 13:59:22,937]\u001b[0m Trial 65 finished with value: 2.6663898580551346 and parameters: {'x': 3.632908404674045}. Best is trial 51 with value: 0.0004010941181607366.\u001b[0m\n",
            "\u001b[32m[I 2021-01-27 13:59:22,943]\u001b[0m Trial 66 finished with value: 0.09235257949232221 and parameters: {'x': 2.3038956720526342}. Best is trial 51 with value: 0.0004010941181607366.\u001b[0m\n",
            "\u001b[32m[I 2021-01-27 13:59:22,951]\u001b[0m Trial 67 finished with value: 6.074814495240532 and parameters: {'x': 4.464713876952157}. Best is trial 51 with value: 0.0004010941181607366.\u001b[0m\n",
            "\u001b[32m[I 2021-01-27 13:59:22,956]\u001b[0m Trial 68 finished with value: 0.26812951691836345 and parameters: {'x': 1.4821877590106975}. Best is trial 51 with value: 0.0004010941181607366.\u001b[0m\n",
            "\u001b[32m[I 2021-01-27 13:59:22,961]\u001b[0m Trial 69 finished with value: 26.70229836238834 and parameters: {'x': 7.167426667345008}. Best is trial 51 with value: 0.0004010941181607366.\u001b[0m\n",
            "\u001b[32m[I 2021-01-27 13:59:22,968]\u001b[0m Trial 70 finished with value: 8.897758541362291 and parameters: {'x': -0.9829110850580665}. Best is trial 51 with value: 0.0004010941181607366.\u001b[0m\n",
            "\u001b[32m[I 2021-01-27 13:59:22,973]\u001b[0m Trial 71 finished with value: 0.013691542035411432 and parameters: {'x': 1.88298913710509}. Best is trial 51 with value: 0.0004010941181607366.\u001b[0m\n",
            "\u001b[32m[I 2021-01-27 13:59:22,978]\u001b[0m Trial 72 finished with value: 0.008933541983819354 and parameters: {'x': 1.9054825837011011}. Best is trial 51 with value: 0.0004010941181607366.\u001b[0m\n",
            "\u001b[32m[I 2021-01-27 13:59:22,984]\u001b[0m Trial 73 finished with value: 0.7003539077738841 and parameters: {'x': 2.8368715001563167}. Best is trial 51 with value: 0.0004010941181607366.\u001b[0m\n",
            "\u001b[32m[I 2021-01-27 13:59:22,990]\u001b[0m Trial 74 finished with value: 3.819050830523963 and parameters: {'x': 0.04576080519196335}. Best is trial 51 with value: 0.0004010941181607366.\u001b[0m\n",
            "\u001b[32m[I 2021-01-27 13:59:22,996]\u001b[0m Trial 75 finished with value: 1.3794848995665283 and parameters: {'x': 0.8254852493193079}. Best is trial 51 with value: 0.0004010941181607366.\u001b[0m\n",
            "\u001b[32m[I 2021-01-27 13:59:23,002]\u001b[0m Trial 76 finished with value: 0.4946703831840059 and parameters: {'x': 1.296671923506529}. Best is trial 51 with value: 0.0004010941181607366.\u001b[0m\n",
            "\u001b[32m[I 2021-01-27 13:59:23,008]\u001b[0m Trial 77 finished with value: 9.813732614578795e-05 and parameters: {'x': 1.9900935714737455}. Best is trial 77 with value: 9.813732614578795e-05.\u001b[0m\n",
            "\u001b[32m[I 2021-01-27 13:59:23,013]\u001b[0m Trial 78 finished with value: 1.3393587692710645 and parameters: {'x': 3.1573066876463924}. Best is trial 77 with value: 9.813732614578795e-05.\u001b[0m\n",
            "\u001b[32m[I 2021-01-27 13:59:23,018]\u001b[0m Trial 79 finished with value: 17.162845631122764 and parameters: {'x': -2.1428064921165175}. Best is trial 77 with value: 9.813732614578795e-05.\u001b[0m\n",
            "\u001b[32m[I 2021-01-27 13:59:23,023]\u001b[0m Trial 80 finished with value: 4.017397706794935 and parameters: {'x': 4.00434470757775}. Best is trial 77 with value: 9.813732614578795e-05.\u001b[0m\n",
            "\u001b[32m[I 2021-01-27 13:59:23,029]\u001b[0m Trial 81 finished with value: 0.012896097076709108 and parameters: {'x': 2.1135609839544776}. Best is trial 77 with value: 9.813732614578795e-05.\u001b[0m\n",
            "\u001b[32m[I 2021-01-27 13:59:23,034]\u001b[0m Trial 82 finished with value: 0.12509054048349025 and parameters: {'x': 2.3536814109951076}. Best is trial 77 with value: 9.813732614578795e-05.\u001b[0m\n",
            "\u001b[32m[I 2021-01-27 13:59:23,040]\u001b[0m Trial 83 finished with value: 2.8041231211500732 and parameters: {'x': 0.32544838205862603}. Best is trial 77 with value: 9.813732614578795e-05.\u001b[0m\n",
            "\u001b[32m[I 2021-01-27 13:59:23,045]\u001b[0m Trial 84 finished with value: 0.4509445602743459 and parameters: {'x': 2.6715240578522454}. Best is trial 77 with value: 9.813732614578795e-05.\u001b[0m\n",
            "\u001b[32m[I 2021-01-27 13:59:23,050]\u001b[0m Trial 85 finished with value: 2.4879363204449483 and parameters: {'x': 3.577319346373761}. Best is trial 77 with value: 9.813732614578795e-05.\u001b[0m\n",
            "\u001b[32m[I 2021-01-27 13:59:23,054]\u001b[0m Trial 86 finished with value: 0.5807230786371179 and parameters: {'x': 1.2379481128970824}. Best is trial 77 with value: 9.813732614578795e-05.\u001b[0m\n",
            "\u001b[32m[I 2021-01-27 13:59:23,061]\u001b[0m Trial 87 finished with value: 11.05337406707488 and parameters: {'x': 5.3246614966150885}. Best is trial 77 with value: 9.813732614578795e-05.\u001b[0m\n",
            "\u001b[32m[I 2021-01-27 13:59:23,066]\u001b[0m Trial 88 finished with value: 0.024433223500167803 and parameters: {'x': 1.8436886968253166}. Best is trial 77 with value: 9.813732614578795e-05.\u001b[0m\n",
            "\u001b[32m[I 2021-01-27 13:59:23,070]\u001b[0m Trial 89 finished with value: 1.8131307338748845 and parameters: {'x': 0.6534745699115503}. Best is trial 77 with value: 9.813732614578795e-05.\u001b[0m\n",
            "\u001b[32m[I 2021-01-27 13:59:23,076]\u001b[0m Trial 90 finished with value: 5.360882730713163 and parameters: {'x': -0.31535801350744963}. Best is trial 77 with value: 9.813732614578795e-05.\u001b[0m\n",
            "\u001b[32m[I 2021-01-27 13:59:23,081]\u001b[0m Trial 91 finished with value: 0.0009253358618206149 and parameters: {'x': 2.0304193336846916}. Best is trial 77 with value: 9.813732614578795e-05.\u001b[0m\n",
            "\u001b[32m[I 2021-01-27 13:59:23,085]\u001b[0m Trial 92 finished with value: 0.14667299088748217 and parameters: {'x': 2.3829790998050444}. Best is trial 77 with value: 9.813732614578795e-05.\u001b[0m\n",
            "\u001b[32m[I 2021-01-27 13:59:23,091]\u001b[0m Trial 93 finished with value: 1.1275781756076553 and parameters: {'x': 3.061874839897648}. Best is trial 77 with value: 9.813732614578795e-05.\u001b[0m\n",
            "\u001b[32m[I 2021-01-27 13:59:23,096]\u001b[0m Trial 94 finished with value: 0.0028821031670673287 and parameters: {'x': 2.0536852229861005}. Best is trial 77 with value: 9.813732614578795e-05.\u001b[0m\n",
            "\u001b[32m[I 2021-01-27 13:59:23,101]\u001b[0m Trial 95 finished with value: 0.9457923482416224 and parameters: {'x': 1.0274814406698336}. Best is trial 77 with value: 9.813732614578795e-05.\u001b[0m\n",
            "\u001b[32m[I 2021-01-27 13:59:23,106]\u001b[0m Trial 96 finished with value: 7.9445436061307015 and parameters: {'x': -0.818606678153357}. Best is trial 77 with value: 9.813732614578795e-05.\u001b[0m\n",
            "\u001b[32m[I 2021-01-27 13:59:23,111]\u001b[0m Trial 97 finished with value: 0.2479506891112828 and parameters: {'x': 1.5020535278654112}. Best is trial 77 with value: 9.813732614578795e-05.\u001b[0m\n",
            "\u001b[32m[I 2021-01-27 13:59:23,116]\u001b[0m Trial 98 finished with value: 2.718921094691907 and parameters: {'x': 3.64891512658836}. Best is trial 77 with value: 9.813732614578795e-05.\u001b[0m\n",
            "\u001b[32m[I 2021-01-27 13:59:23,121]\u001b[0m Trial 99 finished with value: 143.1743373280686 and parameters: {'x': -9.965547932630106}. Best is trial 77 with value: 9.813732614578795e-05.\u001b[0m\n"
          ],
          "name": "stderr"
        }
      ]
    },
    {
      "cell_type": "markdown",
      "metadata": {
        "id": "ItrXxwGFJOKz"
      },
      "source": [
        "# Getting the best parameter : "
      ]
    },
    {
      "cell_type": "code",
      "metadata": {
        "colab": {
          "base_uri": "https://localhost:8080/"
        },
        "id": "_gsC7vs7JD_M",
        "outputId": "f6c21fea-8e2f-4026-e7cc-022482a8757c"
      },
      "source": [
        "best_params = study.best_params\n",
        "found_x = best_params[\"x\"]\n",
        "\n",
        "print(\"Found x: {}, (x-2)^2: {}\".format(found_x, (found_x - 2) **2))"
      ],
      "execution_count": 10,
      "outputs": [
        {
          "output_type": "stream",
          "text": [
            "Found x: 1.9900935714737455, (x-2)^2: 9.813732614578795e-05\n"
          ],
          "name": "stdout"
        }
      ]
    },
    {
      "cell_type": "markdown",
      "metadata": {
        "id": "BcxfWsmfLd9k"
      },
      "source": [
        "# Terminology : \n",
        "\n",
        "- Trial : Single call fo the objective function\n",
        "- Study : Optimization session, which is a set of Trials\n",
        "- Parameter : A variable whose value is to be optimized"
      ]
    },
    {
      "cell_type": "markdown",
      "metadata": {
        "id": "UOMzcRHXLy4s"
      },
      "source": [
        "# Best Parameter"
      ]
    },
    {
      "cell_type": "code",
      "metadata": {
        "colab": {
          "base_uri": "https://localhost:8080/"
        },
        "id": "7WP8FrVVJ46B",
        "outputId": "7b6d0d3f-c74a-47bf-ba37-ecffd859433e"
      },
      "source": [
        "study.best_params"
      ],
      "execution_count": 11,
      "outputs": [
        {
          "output_type": "execute_result",
          "data": {
            "text/plain": [
              "{'x': 1.9900935714737455}"
            ]
          },
          "metadata": {
            "tags": []
          },
          "execution_count": 11
        }
      ]
    },
    {
      "cell_type": "markdown",
      "metadata": {
        "id": "nr3vlKqCL4R3"
      },
      "source": [
        "# Best observed value of Objective Function :"
      ]
    },
    {
      "cell_type": "code",
      "metadata": {
        "colab": {
          "base_uri": "https://localhost:8080/"
        },
        "id": "AzzPWotPL1ho",
        "outputId": "aef3c24b-f1ab-45ab-abf1-314e816c2246"
      },
      "source": [
        "study.best_value"
      ],
      "execution_count": 12,
      "outputs": [
        {
          "output_type": "execute_result",
          "data": {
            "text/plain": [
              "9.813732614578795e-05"
            ]
          },
          "metadata": {
            "tags": []
          },
          "execution_count": 12
        }
      ]
    },
    {
      "cell_type": "markdown",
      "metadata": {
        "id": "YlymJlBKL-qN"
      },
      "source": [
        "# Best Trial : "
      ]
    },
    {
      "cell_type": "code",
      "metadata": {
        "colab": {
          "base_uri": "https://localhost:8080/"
        },
        "id": "H9avAQlxL9Ut",
        "outputId": "a5d40a18-8f18-426b-f86a-759a20bebc9d"
      },
      "source": [
        "study.best_trial"
      ],
      "execution_count": 13,
      "outputs": [
        {
          "output_type": "execute_result",
          "data": {
            "text/plain": [
              "FrozenTrial(number=77, values=[9.813732614578795e-05], datetime_start=datetime.datetime(2021, 1, 27, 13, 59, 23, 3734), datetime_complete=datetime.datetime(2021, 1, 27, 13, 59, 23, 7693), params={'x': 1.9900935714737455}, distributions={'x': UniformDistribution(high=10, low=-10)}, user_attrs={}, system_attrs={}, intermediate_values={}, trial_id=77, state=TrialState.COMPLETE, value=None)"
            ]
          },
          "metadata": {
            "tags": []
          },
          "execution_count": 13
        }
      ]
    },
    {
      "cell_type": "markdown",
      "metadata": {
        "id": "3NROpFJSMGsX"
      },
      "source": [
        "# Get All Trials"
      ]
    },
    {
      "cell_type": "code",
      "metadata": {
        "colab": {
          "base_uri": "https://localhost:8080/"
        },
        "id": "rTlSPzncMBif",
        "outputId": "dcda2a18-0faf-4107-cf3e-5fac5817d944"
      },
      "source": [
        "study.trials"
      ],
      "execution_count": 14,
      "outputs": [
        {
          "output_type": "execute_result",
          "data": {
            "text/plain": [
              "[FrozenTrial(number=0, values=[112.03807172617917], datetime_start=datetime.datetime(2021, 1, 27, 13, 59, 22, 610090), datetime_complete=datetime.datetime(2021, 1, 27, 13, 59, 22, 611266), params={'x': -8.58480381141659}, distributions={'x': UniformDistribution(high=10, low=-10)}, user_attrs={}, system_attrs={}, intermediate_values={}, trial_id=0, state=TrialState.COMPLETE, value=None),\n",
              " FrozenTrial(number=1, values=[16.82444051929178], datetime_start=datetime.datetime(2021, 1, 27, 13, 59, 22, 615815), datetime_complete=datetime.datetime(2021, 1, 27, 13, 59, 22, 616173), params={'x': -2.1017606608981687}, distributions={'x': UniformDistribution(high=10, low=-10)}, user_attrs={}, system_attrs={}, intermediate_values={}, trial_id=1, state=TrialState.COMPLETE, value=None),\n",
              " FrozenTrial(number=2, values=[56.90600343041737], datetime_start=datetime.datetime(2021, 1, 27, 13, 59, 22, 617650), datetime_complete=datetime.datetime(2021, 1, 27, 13, 59, 22, 617952), params={'x': 9.543606791874652}, distributions={'x': UniformDistribution(high=10, low=-10)}, user_attrs={}, system_attrs={}, intermediate_values={}, trial_id=2, state=TrialState.COMPLETE, value=None),\n",
              " FrozenTrial(number=3, values=[5.042788285585651], datetime_start=datetime.datetime(2021, 1, 27, 13, 59, 22, 619871), datetime_complete=datetime.datetime(2021, 1, 27, 13, 59, 22, 620168), params={'x': 4.245615346755907}, distributions={'x': UniformDistribution(high=10, low=-10)}, user_attrs={}, system_attrs={}, intermediate_values={}, trial_id=3, state=TrialState.COMPLETE, value=None),\n",
              " FrozenTrial(number=4, values=[35.81390246849168], datetime_start=datetime.datetime(2021, 1, 27, 13, 59, 22, 621478), datetime_complete=datetime.datetime(2021, 1, 27, 13, 59, 22, 621764), params={'x': 7.98447177856924}, distributions={'x': UniformDistribution(high=10, low=-10)}, user_attrs={}, system_attrs={}, intermediate_values={}, trial_id=4, state=TrialState.COMPLETE, value=None),\n",
              " FrozenTrial(number=5, values=[140.6500668628701], datetime_start=datetime.datetime(2021, 1, 27, 13, 59, 22, 623514), datetime_complete=datetime.datetime(2021, 1, 27, 13, 59, 22, 623797), params={'x': -9.85959809027566}, distributions={'x': UniformDistribution(high=10, low=-10)}, user_attrs={}, system_attrs={}, intermediate_values={}, trial_id=5, state=TrialState.COMPLETE, value=None),\n",
              " FrozenTrial(number=6, values=[33.733034526810684], datetime_start=datetime.datetime(2021, 1, 27, 13, 59, 22, 627461), datetime_complete=datetime.datetime(2021, 1, 27, 13, 59, 22, 627804), params={'x': 7.8080146803198325}, distributions={'x': UniformDistribution(high=10, low=-10)}, user_attrs={}, system_attrs={}, intermediate_values={}, trial_id=6, state=TrialState.COMPLETE, value=None),\n",
              " FrozenTrial(number=7, values=[24.888990624864352], datetime_start=datetime.datetime(2021, 1, 27, 13, 59, 22, 630032), datetime_complete=datetime.datetime(2021, 1, 27, 13, 59, 22, 630965), params={'x': 6.98888671196935}, distributions={'x': UniformDistribution(high=10, low=-10)}, user_attrs={}, system_attrs={}, intermediate_values={}, trial_id=7, state=TrialState.COMPLETE, value=None),\n",
              " FrozenTrial(number=8, values=[33.58693629769672], datetime_start=datetime.datetime(2021, 1, 27, 13, 59, 22, 632449), datetime_complete=datetime.datetime(2021, 1, 27, 13, 59, 22, 632746), params={'x': -3.795423737544712}, distributions={'x': UniformDistribution(high=10, low=-10)}, user_attrs={}, system_attrs={}, intermediate_values={}, trial_id=8, state=TrialState.COMPLETE, value=None),\n",
              " FrozenTrial(number=9, values=[3.306573041587002], datetime_start=datetime.datetime(2021, 1, 27, 13, 59, 22, 633927), datetime_complete=datetime.datetime(2021, 1, 27, 13, 59, 22, 634598), params={'x': 0.1816015173821217}, distributions={'x': UniformDistribution(high=10, low=-10)}, user_attrs={}, system_attrs={}, intermediate_values={}, trial_id=9, state=TrialState.COMPLETE, value=None),\n",
              " FrozenTrial(number=10, values=[0.12792755642121395], datetime_start=datetime.datetime(2021, 1, 27, 13, 59, 22, 636179), datetime_complete=datetime.datetime(2021, 1, 27, 13, 59, 22, 642163), params={'x': 2.357669619091717}, distributions={'x': UniformDistribution(high=10, low=-10)}, user_attrs={}, system_attrs={}, intermediate_values={}, trial_id=10, state=TrialState.COMPLETE, value=None),\n",
              " FrozenTrial(number=11, values=[0.010227302260775398], datetime_start=datetime.datetime(2021, 1, 27, 13, 59, 22, 645337), datetime_complete=datetime.datetime(2021, 1, 27, 13, 59, 22, 649908), params={'x': 1.8988698746130739}, distributions={'x': UniformDistribution(high=10, low=-10)}, user_attrs={}, system_attrs={}, intermediate_values={}, trial_id=11, state=TrialState.COMPLETE, value=None),\n",
              " FrozenTrial(number=12, values=[0.5392907806187128], datetime_start=datetime.datetime(2021, 1, 27, 13, 59, 22, 652033), datetime_complete=datetime.datetime(2021, 1, 27, 13, 59, 22, 657793), params={'x': 2.7343642016184564}, distributions={'x': UniformDistribution(high=10, low=-10)}, user_attrs={}, system_attrs={}, intermediate_values={}, trial_id=12, state=TrialState.COMPLETE, value=None),\n",
              " FrozenTrial(number=13, values=[0.04492814250611359], datetime_start=datetime.datetime(2021, 1, 27, 13, 59, 22, 660982), datetime_complete=datetime.datetime(2021, 1, 27, 13, 59, 22, 664313), params={'x': 2.2119625969507677}, distributions={'x': UniformDistribution(high=10, low=-10)}, user_attrs={}, system_attrs={}, intermediate_values={}, trial_id=13, state=TrialState.COMPLETE, value=None),\n",
              " FrozenTrial(number=14, values=[43.952527664168635], datetime_start=datetime.datetime(2021, 1, 27, 13, 59, 22, 671409), datetime_complete=datetime.datetime(2021, 1, 27, 13, 59, 22, 672937), params={'x': -4.629670253049441}, distributions={'x': UniformDistribution(high=10, low=-10)}, user_attrs={}, system_attrs={}, intermediate_values={}, trial_id=14, state=TrialState.COMPLETE, value=None),\n",
              " FrozenTrial(number=15, values=[7.711491702248917], datetime_start=datetime.datetime(2021, 1, 27, 13, 59, 22, 674100), datetime_complete=datetime.datetime(2021, 1, 27, 13, 59, 22, 677286), params={'x': 4.7769572741129664}, distributions={'x': UniformDistribution(high=10, low=-10)}, user_attrs={}, system_attrs={}, intermediate_values={}, trial_id=15, state=TrialState.COMPLETE, value=None),\n",
              " FrozenTrial(number=16, values=[5.931699917709226], datetime_start=datetime.datetime(2021, 1, 27, 13, 59, 22, 680860), datetime_complete=datetime.datetime(2021, 1, 27, 13, 59, 22, 683600), params={'x': -0.43550814363434753}, distributions={'x': UniformDistribution(high=10, low=-10)}, user_attrs={}, system_attrs={}, intermediate_values={}, trial_id=16, state=TrialState.COMPLETE, value=None),\n",
              " FrozenTrial(number=17, values=[1.4735420849991974], datetime_start=datetime.datetime(2021, 1, 27, 13, 59, 22, 685437), datetime_complete=datetime.datetime(2021, 1, 27, 13, 59, 22, 691175), params={'x': 0.7861045823468986}, distributions={'x': UniformDistribution(high=10, low=-10)}, user_attrs={}, system_attrs={}, intermediate_values={}, trial_id=17, state=TrialState.COMPLETE, value=None),\n",
              " FrozenTrial(number=18, values=[10.208424509022173], datetime_start=datetime.datetime(2021, 1, 27, 13, 59, 22, 695629), datetime_complete=datetime.datetime(2021, 1, 27, 13, 59, 22, 698042), params={'x': 5.195062520362031}, distributions={'x': UniformDistribution(high=10, low=-10)}, user_attrs={}, system_attrs={}, intermediate_values={}, trial_id=18, state=TrialState.COMPLETE, value=None),\n",
              " FrozenTrial(number=19, values=[17.238274057406382], datetime_start=datetime.datetime(2021, 1, 27, 13, 59, 22, 700348), datetime_complete=datetime.datetime(2021, 1, 27, 13, 59, 22, 702933), params={'x': -2.1519000538797153}, distributions={'x': UniformDistribution(high=10, low=-10)}, user_attrs={}, system_attrs={}, intermediate_values={}, trial_id=19, state=TrialState.COMPLETE, value=None),\n",
              " FrozenTrial(number=20, values=[77.13136648000602], datetime_start=datetime.datetime(2021, 1, 27, 13, 59, 22, 704955), datetime_complete=datetime.datetime(2021, 1, 27, 13, 59, 22, 707437), params={'x': -6.78244649741779}, distributions={'x': UniformDistribution(high=10, low=-10)}, user_attrs={}, system_attrs={}, intermediate_values={}, trial_id=20, state=TrialState.COMPLETE, value=None),\n",
              " FrozenTrial(number=21, values=[1.0178629306345297], datetime_start=datetime.datetime(2021, 1, 27, 13, 59, 22, 709251), datetime_complete=datetime.datetime(2021, 1, 27, 13, 59, 22, 711513), params={'x': 3.008891932089126}, distributions={'x': UniformDistribution(high=10, low=-10)}, user_attrs={}, system_attrs={}, intermediate_values={}, trial_id=21, state=TrialState.COMPLETE, value=None),\n",
              " FrozenTrial(number=22, values=[0.03662389750857558], datetime_start=datetime.datetime(2021, 1, 27, 13, 59, 22, 713399), datetime_complete=datetime.datetime(2021, 1, 27, 13, 59, 22, 715667), params={'x': 1.8086262883555435}, distributions={'x': UniformDistribution(high=10, low=-10)}, user_attrs={}, system_attrs={}, intermediate_values={}, trial_id=22, state=TrialState.COMPLETE, value=None),\n",
              " FrozenTrial(number=23, values=[0.3057469680357119], datetime_start=datetime.datetime(2021, 1, 27, 13, 59, 22, 717704), datetime_complete=datetime.datetime(2021, 1, 27, 13, 59, 22, 719804), params={'x': 1.4470560896115123}, distributions={'x': UniformDistribution(high=10, low=-10)}, user_attrs={}, system_attrs={}, intermediate_values={}, trial_id=23, state=TrialState.COMPLETE, value=None),\n",
              " FrozenTrial(number=24, values=[10.349022335728808], datetime_start=datetime.datetime(2021, 1, 27, 13, 59, 22, 721861), datetime_complete=datetime.datetime(2021, 1, 27, 13, 59, 22, 724516), params={'x': -1.2169896387350718}, distributions={'x': UniformDistribution(high=10, low=-10)}, user_attrs={}, system_attrs={}, intermediate_values={}, trial_id=24, state=TrialState.COMPLETE, value=None),\n",
              " FrozenTrial(number=25, values=[14.40940985050392], datetime_start=datetime.datetime(2021, 1, 27, 13, 59, 22, 726523), datetime_complete=datetime.datetime(2021, 1, 27, 13, 59, 22, 728932), params={'x': 5.7959728463865385}, distributions={'x': UniformDistribution(high=10, low=-10)}, user_attrs={}, system_attrs={}, intermediate_values={}, trial_id=25, state=TrialState.COMPLETE, value=None),\n",
              " FrozenTrial(number=26, values=[0.18809346719424838], datetime_start=datetime.datetime(2021, 1, 27, 13, 59, 22, 730756), datetime_complete=datetime.datetime(2021, 1, 27, 13, 59, 22, 732963), params={'x': 1.566302562615078}, distributions={'x': UniformDistribution(high=10, low=-10)}, user_attrs={}, system_attrs={}, intermediate_values={}, trial_id=26, state=TrialState.COMPLETE, value=None),\n",
              " FrozenTrial(number=27, values=[3.672366741322917], datetime_start=datetime.datetime(2021, 1, 27, 13, 59, 22, 734886), datetime_complete=datetime.datetime(2021, 1, 27, 13, 59, 22, 737426), params={'x': 3.916342020966747}, distributions={'x': UniformDistribution(high=10, low=-10)}, user_attrs={}, system_attrs={}, intermediate_values={}, trial_id=27, state=TrialState.COMPLETE, value=None),\n",
              " FrozenTrial(number=28, values=[30.24501792400668], datetime_start=datetime.datetime(2021, 1, 27, 13, 59, 22, 739710), datetime_complete=datetime.datetime(2021, 1, 27, 13, 59, 22, 742165), params={'x': -3.499547065350626}, distributions={'x': UniformDistribution(high=10, low=-10)}, user_attrs={}, system_attrs={}, intermediate_values={}, trial_id=28, state=TrialState.COMPLETE, value=None),\n",
              " FrozenTrial(number=29, values=[17.95180988873209], datetime_start=datetime.datetime(2021, 1, 27, 13, 59, 22, 743423), datetime_complete=datetime.datetime(2021, 1, 27, 13, 59, 22, 745936), params={'x': 6.2369576217767495}, distributions={'x': UniformDistribution(high=10, low=-10)}, user_attrs={}, system_attrs={}, intermediate_values={}, trial_id=29, state=TrialState.COMPLETE, value=None),\n",
              " FrozenTrial(number=30, values=[1.7569927510149859], datetime_start=datetime.datetime(2021, 1, 27, 13, 59, 22, 748135), datetime_complete=datetime.datetime(2021, 1, 27, 13, 59, 22, 750448), params={'x': 3.3255160319720716}, distributions={'x': UniformDistribution(high=10, low=-10)}, user_attrs={}, system_attrs={}, intermediate_values={}, trial_id=30, state=TrialState.COMPLETE, value=None),\n",
              " FrozenTrial(number=31, values=[0.042741278465929324], datetime_start=datetime.datetime(2021, 1, 27, 13, 59, 22, 752081), datetime_complete=datetime.datetime(2021, 1, 27, 13, 59, 22, 754757), params={'x': 2.206739639319433}, distributions={'x': UniformDistribution(high=10, low=-10)}, user_attrs={}, system_attrs={}, intermediate_values={}, trial_id=31, state=TrialState.COMPLETE, value=None),\n",
              " FrozenTrial(number=32, values=[0.05578052008730208], datetime_start=datetime.datetime(2021, 1, 27, 13, 59, 22, 756908), datetime_complete=datetime.datetime(2021, 1, 27, 13, 59, 22, 759158), params={'x': 1.7638209999019767}, distributions={'x': UniformDistribution(high=10, low=-10)}, user_attrs={}, system_attrs={}, intermediate_values={}, trial_id=32, state=TrialState.COMPLETE, value=None),\n",
              " FrozenTrial(number=33, values=[3.4754523630920295], datetime_start=datetime.datetime(2021, 1, 27, 13, 59, 22, 760772), datetime_complete=datetime.datetime(2021, 1, 27, 13, 59, 22, 763091), params={'x': 0.13574348248637488}, distributions={'x': UniformDistribution(high=10, low=-10)}, user_attrs={}, system_attrs={}, intermediate_values={}, trial_id=33, state=TrialState.COMPLETE, value=None),\n",
              " FrozenTrial(number=34, values=[12.49143020026681], datetime_start=datetime.datetime(2021, 1, 27, 13, 59, 22, 764925), datetime_complete=datetime.datetime(2021, 1, 27, 13, 59, 22, 767129), params={'x': -1.5343217454367126}, distributions={'x': UniformDistribution(high=10, low=-10)}, user_attrs={}, system_attrs={}, intermediate_values={}, trial_id=34, state=TrialState.COMPLETE, value=None),\n",
              " FrozenTrial(number=35, values=[4.446183136646411], datetime_start=datetime.datetime(2021, 1, 27, 13, 59, 22, 768863), datetime_complete=datetime.datetime(2021, 1, 27, 13, 59, 22, 771304), params={'x': 4.108597433519829}, distributions={'x': UniformDistribution(high=10, low=-10)}, user_attrs={}, system_attrs={}, intermediate_values={}, trial_id=35, state=TrialState.COMPLETE, value=None),\n",
              " FrozenTrial(number=36, values=[51.61267249870442], datetime_start=datetime.datetime(2021, 1, 27, 13, 59, 22, 772980), datetime_complete=datetime.datetime(2021, 1, 27, 13, 59, 22, 775264), params={'x': 9.184196023126347}, distributions={'x': UniformDistribution(high=10, low=-10)}, user_attrs={}, system_attrs={}, intermediate_values={}, trial_id=36, state=TrialState.COMPLETE, value=None),\n",
              " FrozenTrial(number=37, values=[0.9179511555504155], datetime_start=datetime.datetime(2021, 1, 27, 13, 59, 22, 777270), datetime_complete=datetime.datetime(2021, 1, 27, 13, 59, 22, 779721), params={'x': 1.041902324629469}, distributions={'x': UniformDistribution(high=10, low=-10)}, user_attrs={}, system_attrs={}, intermediate_values={}, trial_id=37, state=TrialState.COMPLETE, value=None),\n",
              " FrozenTrial(number=38, values=[6.15403479802709], datetime_start=datetime.datetime(2021, 1, 27, 13, 59, 22, 781491), datetime_complete=datetime.datetime(2021, 1, 27, 13, 59, 22, 783894), params={'x': -0.48073271394301764}, distributions={'x': UniformDistribution(high=10, low=-10)}, user_attrs={}, system_attrs={}, intermediate_values={}, trial_id=38, state=TrialState.COMPLETE, value=None),\n",
              " FrozenTrial(number=39, values=[0.6409416224507313], datetime_start=datetime.datetime(2021, 1, 27, 13, 59, 22, 785761), datetime_complete=datetime.datetime(2021, 1, 27, 13, 59, 22, 788092), params={'x': 2.8005882977228254}, distributions={'x': UniformDistribution(high=10, low=-10)}, user_attrs={}, system_attrs={}, intermediate_values={}, trial_id=39, state=TrialState.COMPLETE, value=None),\n",
              " FrozenTrial(number=40, values=[24.556713798891757], datetime_start=datetime.datetime(2021, 1, 27, 13, 59, 22, 789982), datetime_complete=datetime.datetime(2021, 1, 27, 13, 59, 22, 792941), params={'x': -2.955473115545251}, distributions={'x': UniformDistribution(high=10, low=-10)}, user_attrs={}, system_attrs={}, intermediate_values={}, trial_id=40, state=TrialState.COMPLETE, value=None),\n",
              " FrozenTrial(number=41, values=[0.0016275136530518306], datetime_start=datetime.datetime(2021, 1, 27, 13, 59, 22, 795300), datetime_complete=datetime.datetime(2021, 1, 27, 13, 59, 22, 798070), params={'x': 2.0403424547226843}, distributions={'x': UniformDistribution(high=10, low=-10)}, user_attrs={}, system_attrs={}, intermediate_values={}, trial_id=41, state=TrialState.COMPLETE, value=None),\n",
              " FrozenTrial(number=42, values=[0.00221237036563127], datetime_start=datetime.datetime(2021, 1, 27, 13, 59, 22, 800338), datetime_complete=datetime.datetime(2021, 1, 27, 13, 59, 22, 803524), params={'x': 2.047035841287589}, distributions={'x': UniformDistribution(high=10, low=-10)}, user_attrs={}, system_attrs={}, intermediate_values={}, trial_id=42, state=TrialState.COMPLETE, value=None),\n",
              " FrozenTrial(number=43, values=[3.6142962685296265], datetime_start=datetime.datetime(2021, 1, 27, 13, 59, 22, 805887), datetime_complete=datetime.datetime(2021, 1, 27, 13, 59, 22, 809137), params={'x': 3.9011302608000396}, distributions={'x': UniformDistribution(high=10, low=-10)}, user_attrs={}, system_attrs={}, intermediate_values={}, trial_id=43, state=TrialState.COMPLETE, value=None),\n",
              " FrozenTrial(number=44, values=[2.480965385197551], datetime_start=datetime.datetime(2021, 1, 27, 13, 59, 22, 811346), datetime_complete=datetime.datetime(2021, 1, 27, 13, 59, 22, 814163), params={'x': 0.42489194491376203}, distributions={'x': UniformDistribution(high=10, low=-10)}, user_attrs={}, system_attrs={}, intermediate_values={}, trial_id=44, state=TrialState.COMPLETE, value=None),\n",
              " FrozenTrial(number=45, values=[0.06186886972096131], datetime_start=datetime.datetime(2021, 1, 27, 13, 59, 22, 816353), datetime_complete=datetime.datetime(2021, 1, 27, 13, 59, 22, 819765), params={'x': 2.2487345366469267}, distributions={'x': UniformDistribution(high=10, low=-10)}, user_attrs={}, system_attrs={}, intermediate_values={}, trial_id=45, state=TrialState.COMPLETE, value=None),\n",
              " FrozenTrial(number=46, values=[8.806973394436255], datetime_start=datetime.datetime(2021, 1, 27, 13, 59, 22, 822604), datetime_complete=datetime.datetime(2021, 1, 27, 13, 59, 22, 826218), params={'x': 4.967654527473886}, distributions={'x': UniformDistribution(high=10, low=-10)}, user_attrs={}, system_attrs={}, intermediate_values={}, trial_id=46, state=TrialState.COMPLETE, value=None),\n",
              " FrozenTrial(number=47, values=[6.481361398903553], datetime_start=datetime.datetime(2021, 1, 27, 13, 59, 22, 828718), datetime_complete=datetime.datetime(2021, 1, 27, 13, 59, 22, 831902), params={'x': -0.5458518022272139}, distributions={'x': UniformDistribution(high=10, low=-10)}, user_attrs={}, system_attrs={}, intermediate_values={}, trial_id=47, state=TrialState.COMPLETE, value=None),\n",
              " FrozenTrial(number=48, values=[1.7586303273116992], datetime_start=datetime.datetime(2021, 1, 27, 13, 59, 22, 835108), datetime_complete=datetime.datetime(2021, 1, 27, 13, 59, 22, 841850), params={'x': 3.326133600853134}, distributions={'x': UniformDistribution(high=10, low=-10)}, user_attrs={}, system_attrs={}, intermediate_values={}, trial_id=48, state=TrialState.COMPLETE, value=None),\n",
              " FrozenTrial(number=49, values=[0.9392573597336515], datetime_start=datetime.datetime(2021, 1, 27, 13, 59, 22, 844062), datetime_complete=datetime.datetime(2021, 1, 27, 13, 59, 22, 846946), params={'x': 1.0308470916652772}, distributions={'x': UniformDistribution(high=10, low=-10)}, user_attrs={}, system_attrs={}, intermediate_values={}, trial_id=49, state=TrialState.COMPLETE, value=None),\n",
              " FrozenTrial(number=50, values=[0.020069567973011425], datetime_start=datetime.datetime(2021, 1, 27, 13, 59, 22, 854723), datetime_complete=datetime.datetime(2021, 1, 27, 13, 59, 22, 856553), params={'x': 1.8583328973508266}, distributions={'x': UniformDistribution(high=10, low=-10)}, user_attrs={}, system_attrs={}, intermediate_values={}, trial_id=50, state=TrialState.COMPLETE, value=None),\n",
              " FrozenTrial(number=51, values=[0.0004010941181607366], datetime_start=datetime.datetime(2021, 1, 27, 13, 59, 22, 858607), datetime_complete=datetime.datetime(2021, 1, 27, 13, 59, 22, 863580), params={'x': 1.9799726657250463}, distributions={'x': UniformDistribution(high=10, low=-10)}, user_attrs={}, system_attrs={}, intermediate_values={}, trial_id=51, state=TrialState.COMPLETE, value=None),\n",
              " FrozenTrial(number=52, values=[2.1111646778030098], datetime_start=datetime.datetime(2021, 1, 27, 13, 59, 22, 864722), datetime_complete=datetime.datetime(2021, 1, 27, 13, 59, 22, 867051), params={'x': 0.5470152520404732}, distributions={'x': UniformDistribution(high=10, low=-10)}, user_attrs={}, system_attrs={}, intermediate_values={}, trial_id=52, state=TrialState.COMPLETE, value=None),\n",
              " FrozenTrial(number=53, values=[0.0005040421128229571], datetime_start=datetime.datetime(2021, 1, 27, 13, 59, 22, 870613), datetime_complete=datetime.datetime(2021, 1, 27, 13, 59, 22, 873347), params={'x': 1.9775491177718345}, distributions={'x': UniformDistribution(high=10, low=-10)}, user_attrs={}, system_attrs={}, intermediate_values={}, trial_id=53, state=TrialState.COMPLETE, value=None),\n",
              " FrozenTrial(number=54, values=[1.8324372166684804], datetime_start=datetime.datetime(2021, 1, 27, 13, 59, 22, 876781), datetime_complete=datetime.datetime(2021, 1, 27, 13, 59, 22, 879636), params={'x': 3.3536754473168524}, distributions={'x': UniformDistribution(high=10, low=-10)}, user_attrs={}, system_attrs={}, intermediate_values={}, trial_id=54, state=TrialState.COMPLETE, value=None),\n",
              " FrozenTrial(number=55, values=[6.960846305171273], datetime_start=datetime.datetime(2021, 1, 27, 13, 59, 22, 882020), datetime_complete=datetime.datetime(2021, 1, 27, 13, 59, 22, 885320), params={'x': 4.638341582352686}, distributions={'x': UniformDistribution(high=10, low=-10)}, user_attrs={}, system_attrs={}, intermediate_values={}, trial_id=55, state=TrialState.COMPLETE, value=None),\n",
              " FrozenTrial(number=56, values=[10.875370417481125], datetime_start=datetime.datetime(2021, 1, 27, 13, 59, 22, 888074), datetime_complete=datetime.datetime(2021, 1, 27, 13, 59, 22, 891005), params={'x': -1.2977826516435442}, distributions={'x': UniformDistribution(high=10, low=-10)}, user_attrs={}, system_attrs={}, intermediate_values={}, trial_id=56, state=TrialState.COMPLETE, value=None),\n",
              " FrozenTrial(number=57, values=[14.710920695144813], datetime_start=datetime.datetime(2021, 1, 27, 13, 59, 22, 892901), datetime_complete=datetime.datetime(2021, 1, 27, 13, 59, 22, 895504), params={'x': 5.835481807432387}, distributions={'x': UniformDistribution(high=10, low=-10)}, user_attrs={}, system_attrs={}, intermediate_values={}, trial_id=57, state=TrialState.COMPLETE, value=None),\n",
              " FrozenTrial(number=58, values=[0.2273343401268629], datetime_start=datetime.datetime(2021, 1, 27, 13, 59, 22, 898407), datetime_complete=datetime.datetime(2021, 1, 27, 13, 59, 22, 901152), params={'x': 2.476795910350396}, distributions={'x': UniformDistribution(high=10, low=-10)}, user_attrs={}, system_attrs={}, intermediate_values={}, trial_id=58, state=TrialState.COMPLETE, value=None),\n",
              " FrozenTrial(number=59, values=[4.540829908078883], datetime_start=datetime.datetime(2021, 1, 27, 13, 59, 22, 902597), datetime_complete=datetime.datetime(2021, 1, 27, 13, 59, 22, 905859), params={'x': -0.1309223139473863}, distributions={'x': UniformDistribution(high=10, low=-10)}, user_attrs={}, system_attrs={}, intermediate_values={}, trial_id=59, state=TrialState.COMPLETE, value=None),\n",
              " FrozenTrial(number=60, values=[0.41349822894852023], datetime_start=datetime.datetime(2021, 1, 27, 13, 59, 22, 907886), datetime_complete=datetime.datetime(2021, 1, 27, 13, 59, 22, 910587), params={'x': 1.3569617204640767}, distributions={'x': UniformDistribution(high=10, low=-10)}, user_attrs={}, system_attrs={}, intermediate_values={}, trial_id=60, state=TrialState.COMPLETE, value=None),\n",
              " FrozenTrial(number=61, values=[0.035723153046128754], datetime_start=datetime.datetime(2021, 1, 27, 13, 59, 22, 911940), datetime_complete=datetime.datetime(2021, 1, 27, 13, 59, 22, 915258), params={'x': 1.8109943041965963}, distributions={'x': UniformDistribution(high=10, low=-10)}, user_attrs={}, system_attrs={}, intermediate_values={}, trial_id=61, state=TrialState.COMPLETE, value=None),\n",
              " FrozenTrial(number=62, values=[0.007977971579135195], datetime_start=datetime.datetime(2021, 1, 27, 13, 59, 22, 917474), datetime_complete=datetime.datetime(2021, 1, 27, 13, 59, 22, 920399), params={'x': 1.9106805084030636}, distributions={'x': UniformDistribution(high=10, low=-10)}, user_attrs={}, system_attrs={}, intermediate_values={}, trial_id=62, state=TrialState.COMPLETE, value=None),\n",
              " FrozenTrial(number=63, values=[0.6901582316124786], datetime_start=datetime.datetime(2021, 1, 27, 13, 59, 22, 922571), datetime_complete=datetime.datetime(2021, 1, 27, 13, 59, 22, 926671), params={'x': 2.83075762507032}, distributions={'x': UniformDistribution(high=10, low=-10)}, user_attrs={}, system_attrs={}, intermediate_values={}, trial_id=63, state=TrialState.COMPLETE, value=None),\n",
              " FrozenTrial(number=64, values=[1.496910914219839], datetime_start=datetime.datetime(2021, 1, 27, 13, 59, 22, 928979), datetime_complete=datetime.datetime(2021, 1, 27, 13, 59, 22, 931871), params={'x': 0.7765168925482302}, distributions={'x': UniformDistribution(high=10, low=-10)}, user_attrs={}, system_attrs={}, intermediate_values={}, trial_id=64, state=TrialState.COMPLETE, value=None),\n",
              " FrozenTrial(number=65, values=[2.6663898580551346], datetime_start=datetime.datetime(2021, 1, 27, 13, 59, 22, 933606), datetime_complete=datetime.datetime(2021, 1, 27, 13, 59, 22, 937319), params={'x': 3.632908404674045}, distributions={'x': UniformDistribution(high=10, low=-10)}, user_attrs={}, system_attrs={}, intermediate_values={}, trial_id=65, state=TrialState.COMPLETE, value=None),\n",
              " FrozenTrial(number=66, values=[0.09235257949232221], datetime_start=datetime.datetime(2021, 1, 27, 13, 59, 22, 940297), datetime_complete=datetime.datetime(2021, 1, 27, 13, 59, 22, 943095), params={'x': 2.3038956720526342}, distributions={'x': UniformDistribution(high=10, low=-10)}, user_attrs={}, system_attrs={}, intermediate_values={}, trial_id=66, state=TrialState.COMPLETE, value=None),\n",
              " FrozenTrial(number=67, values=[6.074814495240532], datetime_start=datetime.datetime(2021, 1, 27, 13, 59, 22, 945163), datetime_complete=datetime.datetime(2021, 1, 27, 13, 59, 22, 951135), params={'x': 4.464713876952157}, distributions={'x': UniformDistribution(high=10, low=-10)}, user_attrs={}, system_attrs={}, intermediate_values={}, trial_id=67, state=TrialState.COMPLETE, value=None),\n",
              " FrozenTrial(number=68, values=[0.26812951691836345], datetime_start=datetime.datetime(2021, 1, 27, 13, 59, 22, 953138), datetime_complete=datetime.datetime(2021, 1, 27, 13, 59, 22, 955907), params={'x': 1.4821877590106975}, distributions={'x': UniformDistribution(high=10, low=-10)}, user_attrs={}, system_attrs={}, intermediate_values={}, trial_id=68, state=TrialState.COMPLETE, value=None),\n",
              " FrozenTrial(number=69, values=[26.70229836238834], datetime_start=datetime.datetime(2021, 1, 27, 13, 59, 22, 957888), datetime_complete=datetime.datetime(2021, 1, 27, 13, 59, 22, 960656), params={'x': 7.167426667345008}, distributions={'x': UniformDistribution(high=10, low=-10)}, user_attrs={}, system_attrs={}, intermediate_values={}, trial_id=69, state=TrialState.COMPLETE, value=None),\n",
              " FrozenTrial(number=70, values=[8.897758541362291], datetime_start=datetime.datetime(2021, 1, 27, 13, 59, 22, 964250), datetime_complete=datetime.datetime(2021, 1, 27, 13, 59, 22, 967640), params={'x': -0.9829110850580665}, distributions={'x': UniformDistribution(high=10, low=-10)}, user_attrs={}, system_attrs={}, intermediate_values={}, trial_id=70, state=TrialState.COMPLETE, value=None),\n",
              " FrozenTrial(number=71, values=[0.013691542035411432], datetime_start=datetime.datetime(2021, 1, 27, 13, 59, 22, 969605), datetime_complete=datetime.datetime(2021, 1, 27, 13, 59, 22, 972801), params={'x': 1.88298913710509}, distributions={'x': UniformDistribution(high=10, low=-10)}, user_attrs={}, system_attrs={}, intermediate_values={}, trial_id=71, state=TrialState.COMPLETE, value=None),\n",
              " FrozenTrial(number=72, values=[0.008933541983819354], datetime_start=datetime.datetime(2021, 1, 27, 13, 59, 22, 975281), datetime_complete=datetime.datetime(2021, 1, 27, 13, 59, 22, 978401), params={'x': 1.9054825837011011}, distributions={'x': UniformDistribution(high=10, low=-10)}, user_attrs={}, system_attrs={}, intermediate_values={}, trial_id=72, state=TrialState.COMPLETE, value=None),\n",
              " FrozenTrial(number=73, values=[0.7003539077738841], datetime_start=datetime.datetime(2021, 1, 27, 13, 59, 22, 980416), datetime_complete=datetime.datetime(2021, 1, 27, 13, 59, 22, 984223), params={'x': 2.8368715001563167}, distributions={'x': UniformDistribution(high=10, low=-10)}, user_attrs={}, system_attrs={}, intermediate_values={}, trial_id=73, state=TrialState.COMPLETE, value=None),\n",
              " FrozenTrial(number=74, values=[3.819050830523963], datetime_start=datetime.datetime(2021, 1, 27, 13, 59, 22, 986816), datetime_complete=datetime.datetime(2021, 1, 27, 13, 59, 22, 989876), params={'x': 0.04576080519196335}, distributions={'x': UniformDistribution(high=10, low=-10)}, user_attrs={}, system_attrs={}, intermediate_values={}, trial_id=74, state=TrialState.COMPLETE, value=None),\n",
              " FrozenTrial(number=75, values=[1.3794848995665283], datetime_start=datetime.datetime(2021, 1, 27, 13, 59, 22, 992688), datetime_complete=datetime.datetime(2021, 1, 27, 13, 59, 22, 996008), params={'x': 0.8254852493193079}, distributions={'x': UniformDistribution(high=10, low=-10)}, user_attrs={}, system_attrs={}, intermediate_values={}, trial_id=75, state=TrialState.COMPLETE, value=None),\n",
              " FrozenTrial(number=76, values=[0.4946703831840059], datetime_start=datetime.datetime(2021, 1, 27, 13, 59, 22, 998480), datetime_complete=datetime.datetime(2021, 1, 27, 13, 59, 23, 1640), params={'x': 1.296671923506529}, distributions={'x': UniformDistribution(high=10, low=-10)}, user_attrs={}, system_attrs={}, intermediate_values={}, trial_id=76, state=TrialState.COMPLETE, value=None),\n",
              " FrozenTrial(number=77, values=[9.813732614578795e-05], datetime_start=datetime.datetime(2021, 1, 27, 13, 59, 23, 3734), datetime_complete=datetime.datetime(2021, 1, 27, 13, 59, 23, 7693), params={'x': 1.9900935714737455}, distributions={'x': UniformDistribution(high=10, low=-10)}, user_attrs={}, system_attrs={}, intermediate_values={}, trial_id=77, state=TrialState.COMPLETE, value=None),\n",
              " FrozenTrial(number=78, values=[1.3393587692710645], datetime_start=datetime.datetime(2021, 1, 27, 13, 59, 23, 9843), datetime_complete=datetime.datetime(2021, 1, 27, 13, 59, 23, 13208), params={'x': 3.1573066876463924}, distributions={'x': UniformDistribution(high=10, low=-10)}, user_attrs={}, system_attrs={}, intermediate_values={}, trial_id=78, state=TrialState.COMPLETE, value=None),\n",
              " FrozenTrial(number=79, values=[17.162845631122764], datetime_start=datetime.datetime(2021, 1, 27, 13, 59, 23, 14859), datetime_complete=datetime.datetime(2021, 1, 27, 13, 59, 23, 17988), params={'x': -2.1428064921165175}, distributions={'x': UniformDistribution(high=10, low=-10)}, user_attrs={}, system_attrs={}, intermediate_values={}, trial_id=79, state=TrialState.COMPLETE, value=None),\n",
              " FrozenTrial(number=80, values=[4.017397706794935], datetime_start=datetime.datetime(2021, 1, 27, 13, 59, 23, 20018), datetime_complete=datetime.datetime(2021, 1, 27, 13, 59, 23, 23503), params={'x': 4.00434470757775}, distributions={'x': UniformDistribution(high=10, low=-10)}, user_attrs={}, system_attrs={}, intermediate_values={}, trial_id=80, state=TrialState.COMPLETE, value=None),\n",
              " FrozenTrial(number=81, values=[0.012896097076709108], datetime_start=datetime.datetime(2021, 1, 27, 13, 59, 23, 25595), datetime_complete=datetime.datetime(2021, 1, 27, 13, 59, 23, 29263), params={'x': 2.1135609839544776}, distributions={'x': UniformDistribution(high=10, low=-10)}, user_attrs={}, system_attrs={}, intermediate_values={}, trial_id=81, state=TrialState.COMPLETE, value=None),\n",
              " FrozenTrial(number=82, values=[0.12509054048349025], datetime_start=datetime.datetime(2021, 1, 27, 13, 59, 23, 31490), datetime_complete=datetime.datetime(2021, 1, 27, 13, 59, 23, 34628), params={'x': 2.3536814109951076}, distributions={'x': UniformDistribution(high=10, low=-10)}, user_attrs={}, system_attrs={}, intermediate_values={}, trial_id=82, state=TrialState.COMPLETE, value=None),\n",
              " FrozenTrial(number=83, values=[2.8041231211500732], datetime_start=datetime.datetime(2021, 1, 27, 13, 59, 23, 36132), datetime_complete=datetime.datetime(2021, 1, 27, 13, 59, 23, 39064), params={'x': 0.32544838205862603}, distributions={'x': UniformDistribution(high=10, low=-10)}, user_attrs={}, system_attrs={}, intermediate_values={}, trial_id=83, state=TrialState.COMPLETE, value=None),\n",
              " FrozenTrial(number=84, values=[0.4509445602743459], datetime_start=datetime.datetime(2021, 1, 27, 13, 59, 23, 41675), datetime_complete=datetime.datetime(2021, 1, 27, 13, 59, 23, 44781), params={'x': 2.6715240578522454}, distributions={'x': UniformDistribution(high=10, low=-10)}, user_attrs={}, system_attrs={}, intermediate_values={}, trial_id=84, state=TrialState.COMPLETE, value=None),\n",
              " FrozenTrial(number=85, values=[2.4879363204449483], datetime_start=datetime.datetime(2021, 1, 27, 13, 59, 23, 46580), datetime_complete=datetime.datetime(2021, 1, 27, 13, 59, 23, 49874), params={'x': 3.577319346373761}, distributions={'x': UniformDistribution(high=10, low=-10)}, user_attrs={}, system_attrs={}, intermediate_values={}, trial_id=85, state=TrialState.COMPLETE, value=None),\n",
              " FrozenTrial(number=86, values=[0.5807230786371179], datetime_start=datetime.datetime(2021, 1, 27, 13, 59, 23, 51676), datetime_complete=datetime.datetime(2021, 1, 27, 13, 59, 23, 54565), params={'x': 1.2379481128970824}, distributions={'x': UniformDistribution(high=10, low=-10)}, user_attrs={}, system_attrs={}, intermediate_values={}, trial_id=86, state=TrialState.COMPLETE, value=None),\n",
              " FrozenTrial(number=87, values=[11.05337406707488], datetime_start=datetime.datetime(2021, 1, 27, 13, 59, 23, 56538), datetime_complete=datetime.datetime(2021, 1, 27, 13, 59, 23, 59760), params={'x': 5.3246614966150885}, distributions={'x': UniformDistribution(high=10, low=-10)}, user_attrs={}, system_attrs={}, intermediate_values={}, trial_id=87, state=TrialState.COMPLETE, value=None),\n",
              " FrozenTrial(number=88, values=[0.024433223500167803], datetime_start=datetime.datetime(2021, 1, 27, 13, 59, 23, 62885), datetime_complete=datetime.datetime(2021, 1, 27, 13, 59, 23, 66248), params={'x': 1.8436886968253166}, distributions={'x': UniformDistribution(high=10, low=-10)}, user_attrs={}, system_attrs={}, intermediate_values={}, trial_id=88, state=TrialState.COMPLETE, value=None),\n",
              " FrozenTrial(number=89, values=[1.8131307338748845], datetime_start=datetime.datetime(2021, 1, 27, 13, 59, 23, 67598), datetime_complete=datetime.datetime(2021, 1, 27, 13, 59, 23, 70396), params={'x': 0.6534745699115503}, distributions={'x': UniformDistribution(high=10, low=-10)}, user_attrs={}, system_attrs={}, intermediate_values={}, trial_id=89, state=TrialState.COMPLETE, value=None),\n",
              " FrozenTrial(number=90, values=[5.360882730713163], datetime_start=datetime.datetime(2021, 1, 27, 13, 59, 23, 72965), datetime_complete=datetime.datetime(2021, 1, 27, 13, 59, 23, 75777), params={'x': -0.31535801350744963}, distributions={'x': UniformDistribution(high=10, low=-10)}, user_attrs={}, system_attrs={}, intermediate_values={}, trial_id=90, state=TrialState.COMPLETE, value=None),\n",
              " FrozenTrial(number=91, values=[0.0009253358618206149], datetime_start=datetime.datetime(2021, 1, 27, 13, 59, 23, 77886), datetime_complete=datetime.datetime(2021, 1, 27, 13, 59, 23, 80724), params={'x': 2.0304193336846916}, distributions={'x': UniformDistribution(high=10, low=-10)}, user_attrs={}, system_attrs={}, intermediate_values={}, trial_id=91, state=TrialState.COMPLETE, value=None),\n",
              " FrozenTrial(number=92, values=[0.14667299088748217], datetime_start=datetime.datetime(2021, 1, 27, 13, 59, 23, 82681), datetime_complete=datetime.datetime(2021, 1, 27, 13, 59, 23, 85620), params={'x': 2.3829790998050444}, distributions={'x': UniformDistribution(high=10, low=-10)}, user_attrs={}, system_attrs={}, intermediate_values={}, trial_id=92, state=TrialState.COMPLETE, value=None),\n",
              " FrozenTrial(number=93, values=[1.1275781756076553], datetime_start=datetime.datetime(2021, 1, 27, 13, 59, 23, 87782), datetime_complete=datetime.datetime(2021, 1, 27, 13, 59, 23, 90698), params={'x': 3.061874839897648}, distributions={'x': UniformDistribution(high=10, low=-10)}, user_attrs={}, system_attrs={}, intermediate_values={}, trial_id=93, state=TrialState.COMPLETE, value=None),\n",
              " FrozenTrial(number=94, values=[0.0028821031670673287], datetime_start=datetime.datetime(2021, 1, 27, 13, 59, 23, 92553), datetime_complete=datetime.datetime(2021, 1, 27, 13, 59, 23, 95780), params={'x': 2.0536852229861005}, distributions={'x': UniformDistribution(high=10, low=-10)}, user_attrs={}, system_attrs={}, intermediate_values={}, trial_id=94, state=TrialState.COMPLETE, value=None),\n",
              " FrozenTrial(number=95, values=[0.9457923482416224], datetime_start=datetime.datetime(2021, 1, 27, 13, 59, 23, 97767), datetime_complete=datetime.datetime(2021, 1, 27, 13, 59, 23, 100828), params={'x': 1.0274814406698336}, distributions={'x': UniformDistribution(high=10, low=-10)}, user_attrs={}, system_attrs={}, intermediate_values={}, trial_id=95, state=TrialState.COMPLETE, value=None),\n",
              " FrozenTrial(number=96, values=[7.9445436061307015], datetime_start=datetime.datetime(2021, 1, 27, 13, 59, 23, 102815), datetime_complete=datetime.datetime(2021, 1, 27, 13, 59, 23, 105662), params={'x': -0.818606678153357}, distributions={'x': UniformDistribution(high=10, low=-10)}, user_attrs={}, system_attrs={}, intermediate_values={}, trial_id=96, state=TrialState.COMPLETE, value=None),\n",
              " FrozenTrial(number=97, values=[0.2479506891112828], datetime_start=datetime.datetime(2021, 1, 27, 13, 59, 23, 107572), datetime_complete=datetime.datetime(2021, 1, 27, 13, 59, 23, 111247), params={'x': 1.5020535278654112}, distributions={'x': UniformDistribution(high=10, low=-10)}, user_attrs={}, system_attrs={}, intermediate_values={}, trial_id=97, state=TrialState.COMPLETE, value=None),\n",
              " FrozenTrial(number=98, values=[2.718921094691907], datetime_start=datetime.datetime(2021, 1, 27, 13, 59, 23, 113227), datetime_complete=datetime.datetime(2021, 1, 27, 13, 59, 23, 116118), params={'x': 3.64891512658836}, distributions={'x': UniformDistribution(high=10, low=-10)}, user_attrs={}, system_attrs={}, intermediate_values={}, trial_id=98, state=TrialState.COMPLETE, value=None),\n",
              " FrozenTrial(number=99, values=[143.1743373280686], datetime_start=datetime.datetime(2021, 1, 27, 13, 59, 23, 118132), datetime_complete=datetime.datetime(2021, 1, 27, 13, 59, 23, 121074), params={'x': -9.965547932630106}, distributions={'x': UniformDistribution(high=10, low=-10)}, user_attrs={}, system_attrs={}, intermediate_values={}, trial_id=99, state=TrialState.COMPLETE, value=None)]"
            ]
          },
          "metadata": {
            "tags": []
          },
          "execution_count": 14
        }
      ]
    },
    {
      "cell_type": "code",
      "metadata": {
        "colab": {
          "base_uri": "https://localhost:8080/"
        },
        "id": "D_UqGaNkMJVm",
        "outputId": "2344fc38-10fc-40c7-98b6-2c4413a6c1c5"
      },
      "source": [
        "len(study.trials)"
      ],
      "execution_count": 15,
      "outputs": [
        {
          "output_type": "execute_result",
          "data": {
            "text/plain": [
              "100"
            ]
          },
          "metadata": {
            "tags": []
          },
          "execution_count": 15
        }
      ]
    },
    {
      "cell_type": "markdown",
      "metadata": {
        "id": "Tw_2vQv7MdHh"
      },
      "source": [
        "**Executing optimize() again we can continue the optimization**"
      ]
    },
    {
      "cell_type": "code",
      "metadata": {
        "colab": {
          "base_uri": "https://localhost:8080/"
        },
        "id": "JgqwrDRxMXrB",
        "outputId": "1bc4055c-b541-46d2-eeb1-015b59b10801"
      },
      "source": [
        "study.optimize(objective, n_trials = 100)"
      ],
      "execution_count": 16,
      "outputs": [
        {
          "output_type": "stream",
          "text": [
            "\u001b[32m[I 2021-01-27 14:14:53,489]\u001b[0m Trial 100 finished with value: 4.8431060005339255 and parameters: {'x': 4.200705795996804}. Best is trial 77 with value: 9.813732614578795e-05.\u001b[0m\n",
            "\u001b[32m[I 2021-01-27 14:14:53,497]\u001b[0m Trial 101 finished with value: 0.008150802622679644 and parameters: {'x': 2.0902817956327833}. Best is trial 77 with value: 9.813732614578795e-05.\u001b[0m\n",
            "\u001b[32m[I 2021-01-27 14:14:53,504]\u001b[0m Trial 102 finished with value: 0.43266841735064726 and parameters: {'x': 2.6577753547759655}. Best is trial 77 with value: 9.813732614578795e-05.\u001b[0m\n",
            "\u001b[32m[I 2021-01-27 14:14:53,513]\u001b[0m Trial 103 finished with value: 9.708174318025096e-05 and parameters: {'x': 2.009853006809104}. Best is trial 103 with value: 9.708174318025096e-05.\u001b[0m\n",
            "\u001b[32m[I 2021-01-27 14:14:53,520]\u001b[0m Trial 104 finished with value: 0.2080079309824579 and parameters: {'x': 1.5439211351285198}. Best is trial 103 with value: 9.708174318025096e-05.\u001b[0m\n",
            "\u001b[32m[I 2021-01-27 14:14:53,526]\u001b[0m Trial 105 finished with value: 0.013826848825463691 and parameters: {'x': 2.11758762190581}. Best is trial 103 with value: 9.708174318025096e-05.\u001b[0m\n",
            "\u001b[32m[I 2021-01-27 14:14:53,531]\u001b[0m Trial 106 finished with value: 1.1905720112100977 and parameters: {'x': 3.091133360873041}. Best is trial 103 with value: 9.708174318025096e-05.\u001b[0m\n",
            "\u001b[32m[I 2021-01-27 14:14:53,536]\u001b[0m Trial 107 finished with value: 2.961071985156559 and parameters: {'x': 0.2792234354348735}. Best is trial 103 with value: 9.708174318025096e-05.\u001b[0m\n",
            "\u001b[32m[I 2021-01-27 14:14:53,542]\u001b[0m Trial 108 finished with value: 0.966127785039681 and parameters: {'x': 1.0170820049263107}. Best is trial 103 with value: 9.708174318025096e-05.\u001b[0m\n",
            "\u001b[32m[I 2021-01-27 14:14:53,547]\u001b[0m Trial 109 finished with value: 123.1938604957821 and parameters: {'x': -9.09927297149602}. Best is trial 103 with value: 9.708174318025096e-05.\u001b[0m\n",
            "\u001b[32m[I 2021-01-27 14:14:53,552]\u001b[0m Trial 110 finished with value: 0.3340752555312648 and parameters: {'x': 2.5779924355311796}. Best is trial 103 with value: 9.708174318025096e-05.\u001b[0m\n",
            "\u001b[32m[I 2021-01-27 14:14:53,557]\u001b[0m Trial 111 finished with value: 0.0021258907329116043 and parameters: {'x': 2.0461073826291583}. Best is trial 103 with value: 9.708174318025096e-05.\u001b[0m\n",
            "\u001b[32m[I 2021-01-27 14:14:53,562]\u001b[0m Trial 112 finished with value: 0.018599589399751183 and parameters: {'x': 1.863619688371997}. Best is trial 103 with value: 9.708174318025096e-05.\u001b[0m\n",
            "\u001b[32m[I 2021-01-27 14:14:53,567]\u001b[0m Trial 113 finished with value: 2.178112676775732 and parameters: {'x': 3.475843039342508}. Best is trial 103 with value: 9.708174318025096e-05.\u001b[0m\n",
            "\u001b[32m[I 2021-01-27 14:14:53,573]\u001b[0m Trial 114 finished with value: 1.9329372254958779 and parameters: {'x': 0.6096988723676162}. Best is trial 103 with value: 9.708174318025096e-05.\u001b[0m\n",
            "\u001b[32m[I 2021-01-27 14:14:53,578]\u001b[0m Trial 115 finished with value: 0.5929483481537671 and parameters: {'x': 1.2299686057349564}. Best is trial 103 with value: 9.708174318025096e-05.\u001b[0m\n",
            "\u001b[32m[I 2021-01-27 14:14:53,584]\u001b[0m Trial 116 finished with value: 0.8530007459172461 and parameters: {'x': 2.9235803949398482}. Best is trial 103 with value: 9.708174318025096e-05.\u001b[0m\n",
            "\u001b[32m[I 2021-01-27 14:14:53,588]\u001b[0m Trial 117 finished with value: 0.0006166762364563805 and parameters: {'x': 2.0248329667268408}. Best is trial 103 with value: 9.708174318025096e-05.\u001b[0m\n",
            "\u001b[32m[I 2021-01-27 14:14:53,594]\u001b[0m Trial 118 finished with value: 0.1569510856743385 and parameters: {'x': 1.6038294739959338}. Best is trial 103 with value: 9.708174318025096e-05.\u001b[0m\n",
            "\u001b[32m[I 2021-01-27 14:14:53,598]\u001b[0m Trial 119 finished with value: 0.067131557748318 and parameters: {'x': 2.2590975834474687}. Best is trial 103 with value: 9.708174318025096e-05.\u001b[0m\n",
            "\u001b[32m[I 2021-01-27 14:14:53,604]\u001b[0m Trial 120 finished with value: 0.36522607408360674 and parameters: {'x': 2.6043393699599644}. Best is trial 103 with value: 9.708174318025096e-05.\u001b[0m\n",
            "\u001b[32m[I 2021-01-27 14:14:53,609]\u001b[0m Trial 121 finished with value: 0.013154038332509105 and parameters: {'x': 2.114691056026654}. Best is trial 103 with value: 9.708174318025096e-05.\u001b[0m\n",
            "\u001b[32m[I 2021-01-27 14:14:53,614]\u001b[0m Trial 122 finished with value: 0.11633492422372102 and parameters: {'x': 1.6589209413878931}. Best is trial 103 with value: 9.708174318025096e-05.\u001b[0m\n",
            "\u001b[32m[I 2021-01-27 14:14:53,621]\u001b[0m Trial 123 finished with value: 1.6150767691284538 and parameters: {'x': 3.2708567067645564}. Best is trial 103 with value: 9.708174318025096e-05.\u001b[0m\n",
            "\u001b[32m[I 2021-01-27 14:14:53,631]\u001b[0m Trial 124 finished with value: 1.1933294047671668 and parameters: {'x': 0.9076038242619271}. Best is trial 103 with value: 9.708174318025096e-05.\u001b[0m\n",
            "\u001b[32m[I 2021-01-27 14:14:53,636]\u001b[0m Trial 125 finished with value: 3.2276336394343236e-05 and parameters: {'x': 2.0056812266628206}. Best is trial 125 with value: 3.2276336394343236e-05.\u001b[0m\n",
            "\u001b[32m[I 2021-01-27 14:14:53,644]\u001b[0m Trial 126 finished with value: 0.5250401630811402 and parameters: {'x': 1.275403448061516}. Best is trial 125 with value: 3.2276336394343236e-05.\u001b[0m\n",
            "\u001b[32m[I 2021-01-27 14:14:53,655]\u001b[0m Trial 127 finished with value: 3.224936544220287 and parameters: {'x': 3.795810831969862}. Best is trial 125 with value: 3.2276336394343236e-05.\u001b[0m\n",
            "\u001b[32m[I 2021-01-27 14:14:53,659]\u001b[0m Trial 128 finished with value: 0.2514288996704379 and parameters: {'x': 2.501426863730333}. Best is trial 125 with value: 3.2276336394343236e-05.\u001b[0m\n",
            "\u001b[32m[I 2021-01-27 14:14:53,664]\u001b[0m Trial 129 finished with value: 3.968202379469187 and parameters: {'x': 0.007965266500308488}. Best is trial 125 with value: 3.2276336394343236e-05.\u001b[0m\n",
            "\u001b[32m[I 2021-01-27 14:14:53,669]\u001b[0m Trial 130 finished with value: 1.1544975630875298 and parameters: {'x': 3.0744754827763776}. Best is trial 125 with value: 3.2276336394343236e-05.\u001b[0m\n",
            "\u001b[32m[I 2021-01-27 14:14:53,674]\u001b[0m Trial 131 finished with value: 0.00020768894003251668 and parameters: {'x': 2.014411417002936}. Best is trial 125 with value: 3.2276336394343236e-05.\u001b[0m\n",
            "\u001b[32m[I 2021-01-27 14:14:53,679]\u001b[0m Trial 132 finished with value: 0.001996279201066392 and parameters: {'x': 2.0446797403871866}. Best is trial 125 with value: 3.2276336394343236e-05.\u001b[0m\n",
            "\u001b[32m[I 2021-01-27 14:14:53,684]\u001b[0m Trial 133 finished with value: 0.13944866482410706 and parameters: {'x': 1.6265717407264053}. Best is trial 125 with value: 3.2276336394343236e-05.\u001b[0m\n",
            "\u001b[32m[I 2021-01-27 14:14:53,690]\u001b[0m Trial 134 finished with value: 0.6025932588683154 and parameters: {'x': 2.7762688058065423}. Best is trial 125 with value: 3.2276336394343236e-05.\u001b[0m\n",
            "\u001b[32m[I 2021-01-27 14:14:53,696]\u001b[0m Trial 135 finished with value: 2.1238705401332196 and parameters: {'x': 0.5426494793176146}. Best is trial 125 with value: 3.2276336394343236e-05.\u001b[0m\n",
            "\u001b[32m[I 2021-01-27 14:14:53,701]\u001b[0m Trial 136 finished with value: 72.34575796680548 and parameters: {'x': -6.505630956419721}. Best is trial 125 with value: 3.2276336394343236e-05.\u001b[0m\n",
            "\u001b[32m[I 2021-01-27 14:14:53,706]\u001b[0m Trial 137 finished with value: 0.09298913147650563 and parameters: {'x': 2.3049411934726196}. Best is trial 125 with value: 3.2276336394343236e-05.\u001b[0m\n",
            "\u001b[32m[I 2021-01-27 14:14:53,711]\u001b[0m Trial 138 finished with value: 0.7882518256259722 and parameters: {'x': 1.1121645278397736}. Best is trial 125 with value: 3.2276336394343236e-05.\u001b[0m\n",
            "\u001b[32m[I 2021-01-27 14:14:53,721]\u001b[0m Trial 139 finished with value: 0.000525264640807244 and parameters: {'x': 1.9770813473169289}. Best is trial 125 with value: 3.2276336394343236e-05.\u001b[0m\n",
            "\u001b[32m[I 2021-01-27 14:14:53,726]\u001b[0m Trial 140 finished with value: 0.03168642841885846 and parameters: {'x': 1.8219931787294137}. Best is trial 125 with value: 3.2276336394343236e-05.\u001b[0m\n",
            "\u001b[32m[I 2021-01-27 14:14:53,732]\u001b[0m Trial 141 finished with value: 0.0030262737550378668 and parameters: {'x': 2.055011578372538}. Best is trial 125 with value: 3.2276336394343236e-05.\u001b[0m\n",
            "\u001b[32m[I 2021-01-27 14:14:53,737]\u001b[0m Trial 142 finished with value: 0.3671369849587017 and parameters: {'x': 1.3940817010861104}. Best is trial 125 with value: 3.2276336394343236e-05.\u001b[0m\n",
            "\u001b[32m[I 2021-01-27 14:14:53,743]\u001b[0m Trial 143 finished with value: 0.2837118798577626 and parameters: {'x': 2.532646111276298}. Best is trial 125 with value: 3.2276336394343236e-05.\u001b[0m\n",
            "\u001b[32m[I 2021-01-27 14:14:53,748]\u001b[0m Trial 144 finished with value: 0.7949797286096653 and parameters: {'x': 2.8916163573026603}. Best is trial 125 with value: 3.2276336394343236e-05.\u001b[0m\n",
            "\u001b[32m[I 2021-01-27 14:14:53,754]\u001b[0m Trial 145 finished with value: 0.012435111392139844 and parameters: {'x': 2.1115128306166597}. Best is trial 125 with value: 3.2276336394343236e-05.\u001b[0m\n",
            "\u001b[32m[I 2021-01-27 14:14:53,759]\u001b[0m Trial 146 finished with value: 1.8687977864079477 and parameters: {'x': 3.3670397896213364}. Best is trial 125 with value: 3.2276336394343236e-05.\u001b[0m\n",
            "\u001b[32m[I 2021-01-27 14:14:53,765]\u001b[0m Trial 147 finished with value: 1.5934519552819653 and parameters: {'x': 0.7376799315221336}. Best is trial 125 with value: 3.2276336394343236e-05.\u001b[0m\n",
            "\u001b[32m[I 2021-01-27 14:14:53,770]\u001b[0m Trial 148 finished with value: 0.1119805477062317 and parameters: {'x': 1.6653650530709148}. Best is trial 125 with value: 3.2276336394343236e-05.\u001b[0m\n",
            "\u001b[32m[I 2021-01-27 14:14:53,775]\u001b[0m Trial 149 finished with value: 0.12521497828546158 and parameters: {'x': 2.353857285194839}. Best is trial 125 with value: 3.2276336394343236e-05.\u001b[0m\n",
            "\u001b[32m[I 2021-01-27 14:14:53,780]\u001b[0m Trial 150 finished with value: 0.2838954482768615 and parameters: {'x': 1.4671815991570285}. Best is trial 125 with value: 3.2276336394343236e-05.\u001b[0m\n",
            "\u001b[32m[I 2021-01-27 14:14:53,786]\u001b[0m Trial 151 finished with value: 0.00015777148747276486 and parameters: {'x': 1.9874392879392622}. Best is trial 125 with value: 3.2276336394343236e-05.\u001b[0m\n",
            "\u001b[32m[I 2021-01-27 14:14:53,791]\u001b[0m Trial 152 finished with value: 0.013756864506543327 and parameters: {'x': 1.8827103393024631}. Best is trial 125 with value: 3.2276336394343236e-05.\u001b[0m\n",
            "\u001b[32m[I 2021-01-27 14:14:53,796]\u001b[0m Trial 153 finished with value: 0.9064489745396948 and parameters: {'x': 1.047923860954548}. Best is trial 125 with value: 3.2276336394343236e-05.\u001b[0m\n",
            "\u001b[32m[I 2021-01-27 14:14:53,803]\u001b[0m Trial 154 finished with value: 0.444642946772578 and parameters: {'x': 2.666815526793264}. Best is trial 125 with value: 3.2276336394343236e-05.\u001b[0m\n",
            "\u001b[32m[I 2021-01-27 14:14:53,808]\u001b[0m Trial 155 finished with value: 0.014100324956765517 and parameters: {'x': 2.1187447891773172}. Best is trial 125 with value: 3.2276336394343236e-05.\u001b[0m\n",
            "\u001b[32m[I 2021-01-27 14:14:53,814]\u001b[0m Trial 156 finished with value: 0.4852225569276489 and parameters: {'x': 1.303420817905352}. Best is trial 125 with value: 3.2276336394343236e-05.\u001b[0m\n",
            "\u001b[32m[I 2021-01-27 14:14:53,820]\u001b[0m Trial 157 finished with value: 0.9031131079422088 and parameters: {'x': 2.95032263360514}. Best is trial 125 with value: 3.2276336394343236e-05.\u001b[0m\n",
            "\u001b[32m[I 2021-01-27 14:14:53,826]\u001b[0m Trial 158 finished with value: 0.00013030465713275365 and parameters: {'x': 1.988584893468182}. Best is trial 125 with value: 3.2276336394343236e-05.\u001b[0m\n",
            "\u001b[32m[I 2021-01-27 14:14:53,832]\u001b[0m Trial 159 finished with value: 2.250696271108643 and parameters: {'x': 0.4997679275829878}. Best is trial 125 with value: 3.2276336394343236e-05.\u001b[0m\n",
            "\u001b[32m[I 2021-01-27 14:14:53,839]\u001b[0m Trial 160 finished with value: 0.2127892976698695 and parameters: {'x': 2.4612909035195356}. Best is trial 125 with value: 3.2276336394343236e-05.\u001b[0m\n",
            "\u001b[32m[I 2021-01-27 14:14:53,845]\u001b[0m Trial 161 finished with value: 0.0006103403258580849 and parameters: {'x': 2.024705066805376}. Best is trial 125 with value: 3.2276336394343236e-05.\u001b[0m\n",
            "\u001b[32m[I 2021-01-27 14:14:53,851]\u001b[0m Trial 162 finished with value: 0.08433708892659306 and parameters: {'x': 1.7095915136801387}. Best is trial 125 with value: 3.2276336394343236e-05.\u001b[0m\n",
            "\u001b[32m[I 2021-01-27 14:14:53,856]\u001b[0m Trial 163 finished with value: 1.5704998480904493 and parameters: {'x': 3.253195853843464}. Best is trial 125 with value: 3.2276336394343236e-05.\u001b[0m\n",
            "\u001b[32m[I 2021-01-27 14:14:53,862]\u001b[0m Trial 164 finished with value: 1.068825980685273 and parameters: {'x': 0.966159596124589}. Best is trial 125 with value: 3.2276336394343236e-05.\u001b[0m\n",
            "\u001b[32m[I 2021-01-27 14:14:53,868]\u001b[0m Trial 165 finished with value: 0.010962775417111126 and parameters: {'x': 2.1047032731919644}. Best is trial 125 with value: 3.2276336394343236e-05.\u001b[0m\n",
            "\u001b[32m[I 2021-01-27 14:14:53,874]\u001b[0m Trial 166 finished with value: 0.4026608046252854 and parameters: {'x': 2.634555596165762}. Best is trial 125 with value: 3.2276336394343236e-05.\u001b[0m\n",
            "\u001b[32m[I 2021-01-27 14:14:53,881]\u001b[0m Trial 167 finished with value: 0.27569151633521577 and parameters: {'x': 1.47493665493084}. Best is trial 125 with value: 3.2276336394343236e-05.\u001b[0m\n",
            "\u001b[32m[I 2021-01-27 14:14:53,888]\u001b[0m Trial 168 finished with value: 0.08926550933124099 and parameters: {'x': 1.7012266589348357}. Best is trial 125 with value: 3.2276336394343236e-05.\u001b[0m\n",
            "\u001b[32m[I 2021-01-27 14:14:53,894]\u001b[0m Trial 169 finished with value: 0.08691351496263053 and parameters: {'x': 2.294810981753785}. Best is trial 125 with value: 3.2276336394343236e-05.\u001b[0m\n",
            "\u001b[32m[I 2021-01-27 14:14:53,901]\u001b[0m Trial 170 finished with value: 2.703372552683764 and parameters: {'x': 3.644193587350274}. Best is trial 125 with value: 3.2276336394343236e-05.\u001b[0m\n",
            "\u001b[32m[I 2021-01-27 14:14:53,907]\u001b[0m Trial 171 finished with value: 0.0017088085060774191 and parameters: {'x': 1.9586622629298915}. Best is trial 125 with value: 3.2276336394343236e-05.\u001b[0m\n",
            "\u001b[32m[I 2021-01-27 14:14:53,913]\u001b[0m Trial 172 finished with value: 0.00380533285828141 and parameters: {'x': 1.9383126199431244}. Best is trial 125 with value: 3.2276336394343236e-05.\u001b[0m\n",
            "\u001b[32m[I 2021-01-27 14:14:53,920]\u001b[0m Trial 173 finished with value: 0.777424847776427 and parameters: {'x': 2.88171698848124}. Best is trial 125 with value: 3.2276336394343236e-05.\u001b[0m\n",
            "\u001b[32m[I 2021-01-27 14:14:53,927]\u001b[0m Trial 174 finished with value: 0.6814466988787469 and parameters: {'x': 1.1745021508939306}. Best is trial 125 with value: 3.2276336394343236e-05.\u001b[0m\n",
            "\u001b[32m[I 2021-01-27 14:14:53,933]\u001b[0m Trial 175 finished with value: 0.21144570535288287 and parameters: {'x': 2.459832257842882}. Best is trial 125 with value: 3.2276336394343236e-05.\u001b[0m\n",
            "\u001b[32m[I 2021-01-27 14:14:53,939]\u001b[0m Trial 176 finished with value: 0.2775727334509101 and parameters: {'x': 1.4731482813438774}. Best is trial 125 with value: 3.2276336394343236e-05.\u001b[0m\n",
            "\u001b[32m[I 2021-01-27 14:14:53,945]\u001b[0m Trial 177 finished with value: 0.02956258094134573 and parameters: {'x': 2.1719377240204887}. Best is trial 125 with value: 3.2276336394343236e-05.\u001b[0m\n",
            "\u001b[32m[I 2021-01-27 14:14:53,951]\u001b[0m Trial 178 finished with value: 0.043051346985801014 and parameters: {'x': 1.7925118148284076}. Best is trial 125 with value: 3.2276336394343236e-05.\u001b[0m\n",
            "\u001b[32m[I 2021-01-27 14:14:53,956]\u001b[0m Trial 179 finished with value: 1.3493545424504236 and parameters: {'x': 0.8383827900506882}. Best is trial 125 with value: 3.2276336394343236e-05.\u001b[0m\n",
            "\u001b[32m[I 2021-01-27 14:14:53,962]\u001b[0m Trial 180 finished with value: 1.3672824506330465 and parameters: {'x': 3.169308535260496}. Best is trial 125 with value: 3.2276336394343236e-05.\u001b[0m\n",
            "\u001b[32m[I 2021-01-27 14:14:53,968]\u001b[0m Trial 181 finished with value: 0.02356340730213634 and parameters: {'x': 2.1535037696675112}. Best is trial 125 with value: 3.2276336394343236e-05.\u001b[0m\n",
            "\u001b[32m[I 2021-01-27 14:14:53,974]\u001b[0m Trial 182 finished with value: 0.006753135079582457 and parameters: {'x': 1.9178225391023642}. Best is trial 125 with value: 3.2276336394343236e-05.\u001b[0m\n",
            "\u001b[32m[I 2021-01-27 14:14:53,980]\u001b[0m Trial 183 finished with value: 0.4543043630176925 and parameters: {'x': 2.674021040485898}. Best is trial 125 with value: 3.2276336394343236e-05.\u001b[0m\n",
            "\u001b[32m[I 2021-01-27 14:14:53,986]\u001b[0m Trial 184 finished with value: 0.5696915361414162 and parameters: {'x': 1.245220869299226}. Best is trial 125 with value: 3.2276336394343236e-05.\u001b[0m\n",
            "\u001b[32m[I 2021-01-27 14:14:53,992]\u001b[0m Trial 185 finished with value: 0.15329722962108544 and parameters: {'x': 2.39153190115377}. Best is trial 125 with value: 3.2276336394343236e-05.\u001b[0m\n",
            "\u001b[32m[I 2021-01-27 14:14:53,998]\u001b[0m Trial 186 finished with value: 0.009016074612992494 and parameters: {'x': 1.905046987341146}. Best is trial 125 with value: 3.2276336394343236e-05.\u001b[0m\n",
            "\u001b[32m[I 2021-01-27 14:14:54,004]\u001b[0m Trial 187 finished with value: 0.2754384613927703 and parameters: {'x': 1.4751776858852415}. Best is trial 125 with value: 3.2276336394343236e-05.\u001b[0m\n",
            "\u001b[32m[I 2021-01-27 14:14:54,010]\u001b[0m Trial 188 finished with value: 0.6870610009088362 and parameters: {'x': 2.8288914289029874}. Best is trial 125 with value: 3.2276336394343236e-05.\u001b[0m\n",
            "\u001b[32m[I 2021-01-27 14:14:54,017]\u001b[0m Trial 189 finished with value: 0.030635357123540652 and parameters: {'x': 2.1750295892800433}. Best is trial 125 with value: 3.2276336394343236e-05.\u001b[0m\n",
            "\u001b[32m[I 2021-01-27 14:14:54,022]\u001b[0m Trial 190 finished with value: 0.13877790208745827 and parameters: {'x': 1.6274709379290546}. Best is trial 125 with value: 3.2276336394343236e-05.\u001b[0m\n",
            "\u001b[32m[I 2021-01-27 14:14:54,028]\u001b[0m Trial 191 finished with value: 0.0014750811079554992 and parameters: {'x': 1.9615932153395328}. Best is trial 125 with value: 3.2276336394343236e-05.\u001b[0m\n",
            "\u001b[32m[I 2021-01-27 14:14:54,034]\u001b[0m Trial 192 finished with value: 0.25065721020210946 and parameters: {'x': 2.50065677884366}. Best is trial 125 with value: 3.2276336394343236e-05.\u001b[0m\n",
            "\u001b[32m[I 2021-01-27 14:14:54,039]\u001b[0m Trial 193 finished with value: 0.0012713399004651432 and parameters: {'x': 2.035655853663391}. Best is trial 125 with value: 3.2276336394343236e-05.\u001b[0m\n",
            "\u001b[32m[I 2021-01-27 14:14:54,045]\u001b[0m Trial 194 finished with value: 0.5168138232705238 and parameters: {'x': 1.2811023554980001}. Best is trial 125 with value: 3.2276336394343236e-05.\u001b[0m\n",
            "\u001b[32m[I 2021-01-27 14:14:54,051]\u001b[0m Trial 195 finished with value: 0.04662151135559279 and parameters: {'x': 1.7840798495841743}. Best is trial 125 with value: 3.2276336394343236e-05.\u001b[0m\n",
            "\u001b[32m[I 2021-01-27 14:14:54,058]\u001b[0m Trial 196 finished with value: 1.0012780787501399 and parameters: {'x': 3.000638835319787}. Best is trial 125 with value: 3.2276336394343236e-05.\u001b[0m\n",
            "\u001b[32m[I 2021-01-27 14:14:54,064]\u001b[0m Trial 197 finished with value: 0.19163759389779683 and parameters: {'x': 2.4377643131843856}. Best is trial 125 with value: 3.2276336394343236e-05.\u001b[0m\n",
            "\u001b[32m[I 2021-01-27 14:14:54,070]\u001b[0m Trial 198 finished with value: 1.0209159075786858 and parameters: {'x': 0.9895961660906636}. Best is trial 125 with value: 3.2276336394343236e-05.\u001b[0m\n",
            "\u001b[32m[I 2021-01-27 14:14:54,076]\u001b[0m Trial 199 finished with value: 0.001079997734779144 and parameters: {'x': 1.967136681013946}. Best is trial 125 with value: 3.2276336394343236e-05.\u001b[0m\n"
          ],
          "name": "stderr"
        }
      ]
    },
    {
      "cell_type": "code",
      "metadata": {
        "colab": {
          "base_uri": "https://localhost:8080/"
        },
        "id": "K6oyKtTrMmzb",
        "outputId": "a2b525d1-83f0-4fea-ea77-73dec9c1ac17"
      },
      "source": [
        "len(study.trials)"
      ],
      "execution_count": 17,
      "outputs": [
        {
          "output_type": "execute_result",
          "data": {
            "text/plain": [
              "200"
            ]
          },
          "metadata": {
            "tags": []
          },
          "execution_count": 17
        }
      ]
    },
    {
      "cell_type": "code",
      "metadata": {
        "colab": {
          "base_uri": "https://localhost:8080/"
        },
        "id": "EkUaTOXiMoiM",
        "outputId": "307afaf0-2774-4988-8e06-2bdc8edf40f6"
      },
      "source": [
        "best_params = study.best_params\n",
        "found_x = best_params[\"x\"]\n",
        "print(\"Found x: {}, (x - 2)^2: {}\".format(found_x, (found_x - 2) ** 2))"
      ],
      "execution_count": 18,
      "outputs": [
        {
          "output_type": "stream",
          "text": [
            "Found x: 2.0056812266628206, (x - 2)^2: 3.2276336394343236e-05\n"
          ],
          "name": "stdout"
        }
      ]
    },
    {
      "cell_type": "markdown",
      "metadata": {
        "id": "SssDxHh4NFVP"
      },
      "source": [
        "# Part 2 : \n",
        "\n",
        "# Pythonic Search Space : "
      ]
    },
    {
      "cell_type": "markdown",
      "metadata": {
        "id": "u652FT4UNKiY"
      },
      "source": [
        "For **Hyperparameter Sampling**, Optuna has following features : \n",
        "\n",
        "- **optuna.trial.Trial.suggest_categorical :** for Categorical Parameters\n",
        "\n",
        "- **optuna.trial.Trial.suggest_int() :** for Integer Parameters\n",
        "\n",
        "- **optuna.trial.Trial.suggest_float() :** for Floating Point Parameters"
      ]
    },
    {
      "cell_type": "code",
      "metadata": {
        "id": "AVEoM9dPM-CJ"
      },
      "source": [
        "import optuna \n",
        "\n",
        "def objective (trial):\n",
        "\n",
        "  # Categorical Parameter\n",
        "  optimizer = trial.suggest_categorical('optimizer', ['MomentumSGD', 'Adam'])\n",
        "\n",
        "  # Integer Parameter\n",
        "  num_layers = trial.suggest_int('num_layers', 1, 3)\n",
        "\n",
        "  # Integer Parameter (log)\n",
        "  num_channels = trial.suggest_int('num_channels', 32, 512, log = True)\n",
        "\n",
        "  # Integer Parameter (discretized)\n",
        "  num_units = trial.suggest_int('num_units', 10, 100, step = 5)\n",
        "\n",
        "  # Floating Point Parameter\n",
        "  dropout_rate = trial.suggest_float('dropout_rate', 0.0, 1.0)\n",
        "\n",
        "  # Floating Point Parameter (log)\n",
        "  learning_rate = trial.suggest_float('learning_rate', 1e-5, 1e-2, log = True )\n",
        "\n",
        "  # Floating Point Parameter (discretized)\n",
        "  drop_path_rate = trial.suggest_float('drop_path_rate', 0.0, 1.0, step = 0.1)"
      ],
      "execution_count": 19,
      "outputs": []
    },
    {
      "cell_type": "markdown",
      "metadata": {
        "id": "FdRxCOGaRLWL"
      },
      "source": [
        "# Defining Parameter Spaces : \n",
        "\n",
        "Search spaces using familiar Python syntax"
      ]
    },
    {
      "cell_type": "markdown",
      "metadata": {
        "id": "4qlIdexqTkHk"
      },
      "source": [
        "Using Branches : "
      ]
    },
    {
      "cell_type": "code",
      "metadata": {
        "id": "9KxMpdBQPmyB"
      },
      "source": [
        "import sklearn.ensemble\n",
        "import sklearn.svm\n",
        "\n",
        "def objective(trial):\n",
        "\n",
        "  classifier_name = trial.suggest_categorical('classifier', ['SVC', 'RandomForest'])\n",
        "\n",
        "  if classifier_name == 'SVC':\n",
        "\n",
        "    svc_c = trial.suggest_float('svc_c', 1e-10, 1e10, log = True)\n",
        "    classifier_obj = sklearn.svm.SVC(C = svc_c)\n",
        "\n",
        "  else:\n",
        "    rf_max_depth = trial.suggest_int('rf_max_depth', 2, 32, log = True)\n",
        "    classifier_obj = sklearn.ensemble.RandomForestClassifier(max_depth = rf_max_depth)"
      ],
      "execution_count": 20,
      "outputs": []
    },
    {
      "cell_type": "markdown",
      "metadata": {
        "id": "CsHoaKICTmgw"
      },
      "source": [
        "Using Loops : "
      ]
    },
    {
      "cell_type": "code",
      "metadata": {
        "id": "GtTrrQLlTOhn"
      },
      "source": [
        "import torch \n",
        "import torch.nn as nn\n",
        "\n",
        "def create_model(trial, in_size):\n",
        "\n",
        "  n_layers = trial.suggest_int('n_layers', 1, 3)\n",
        "\n",
        "  layers = []\n",
        "\n",
        "  for i in range(n_layers):\n",
        "\n",
        "    n_units = trial.suggest_int('n_units_l{}'.format(i), 4, 128, log = True)\n",
        "    layers.append(nn.Linear(in_size, n_units))\n",
        "    layers.append(nn.ReLU())\n",
        "    ln_size = n_units\n",
        "\n",
        "  layers.append(nn.Linear(in_size, 10))\n",
        "\n",
        "  return nn.Sequential(*layers)"
      ],
      "execution_count": 22,
      "outputs": []
    },
    {
      "cell_type": "markdown",
      "metadata": {
        "id": "UZCnl1rjWWmx"
      },
      "source": [
        "# Part 3 : \n",
        "\n",
        "# Efficient Optimization Algorithms"
      ]
    },
    {
      "cell_type": "markdown",
      "metadata": {
        "id": "rQHN0NZSWeGg"
      },
      "source": [
        "**Sampling Algorithms :**\n",
        "\n",
        "Samplers basically continually narrow down search space using records fo suggested parameter values and evaluated objective values, leading to an optimal search space \n",
        "\n",
        "**Sampling Algorithms of Optuna: **\n",
        "\n",
        "1. Tree Structured Parzen Estimator Algorithm \n",
        "```\n",
        "optuna.samplers.TPESampler\n",
        "```\n",
        "\n",
        "2. CMA-ES based algorithm implemented in\n",
        "```\n",
        "optuna.samplers.CmaEsSampler\n",
        "```\n",
        "\n",
        "3. Grid Search Impelmented in \n",
        "```\n",
        "optuna.samplers.GridSampler\n",
        "```\n",
        "4. Random Search Implemented in \n",
        "```\n",
        "optuna.samplers.RandomSampler\n",
        "```\n",
        "\n",
        "**Default Sampler is :**\n",
        "```\n",
        "optuna.samplers.TPESampler\n",
        "```\n",
        "\n"
      ]
    },
    {
      "cell_type": "code",
      "metadata": {
        "colab": {
          "base_uri": "https://localhost:8080/"
        },
        "id": "2KWeHuHWVhGp",
        "outputId": "ebe31804-4f6c-4c71-b167-12f680cc3227"
      },
      "source": [
        "import optuna\n",
        "\n",
        "# Default : TPESampler\n",
        "study = optuna.create_study()\n",
        "print(f\"Sampler is {study.sampler.__class__.__name__}\")"
      ],
      "execution_count": 23,
      "outputs": [
        {
          "output_type": "stream",
          "text": [
            "\u001b[32m[I 2021-01-27 15:02:57,227]\u001b[0m A new study created in memory with name: no-name-2a280a3e-b661-4da0-a764-4f0758e88a72\u001b[0m\n"
          ],
          "name": "stderr"
        },
        {
          "output_type": "stream",
          "text": [
            "Sampler is TPESampler\n"
          ],
          "name": "stdout"
        }
      ]
    },
    {
      "cell_type": "code",
      "metadata": {
        "colab": {
          "base_uri": "https://localhost:8080/"
        },
        "id": "k7N2Yr6ZXnT7",
        "outputId": "87863ee0-7672-4440-98bd-c7bbc288e6b4"
      },
      "source": [
        "study = optuna.create_study(sampler = optuna.samplers.RandomSampler())\n",
        "print(f\"Sampler is {study.sampler.__class__.__name__}\")\n",
        "\n",
        "study = optuna.create_study(sampler = optuna.samplers.CmaEsSampler())\n",
        "print(f\"Sampler is {study.sampler.__class__.__name__}\")"
      ],
      "execution_count": 24,
      "outputs": [
        {
          "output_type": "stream",
          "text": [
            "\u001b[32m[I 2021-01-27 15:07:05,287]\u001b[0m A new study created in memory with name: no-name-ce1f9450-ef81-4c06-81ea-97cc101a7e63\u001b[0m\n",
            "\u001b[32m[I 2021-01-27 15:07:05,290]\u001b[0m A new study created in memory with name: no-name-fbb78f95-fbda-4978-b205-1c36b4d85951\u001b[0m\n"
          ],
          "name": "stderr"
        },
        {
          "output_type": "stream",
          "text": [
            "Sampler is RandomSampler\n",
            "Sampler is CmaEsSampler\n"
          ],
          "name": "stdout"
        }
      ]
    },
    {
      "cell_type": "markdown",
      "metadata": {
        "id": "glYUwCyTYnzC"
      },
      "source": [
        "# Pruning Algoruthms \n",
        "\n",
        "Pruners automatically stop unpromising trials at the early stages of the training"
      ]
    },
    {
      "cell_type": "markdown",
      "metadata": {
        "id": "Nwgykz7LhxHb"
      },
      "source": [
        "## Pruning Algorithms from Optuna : \n",
        "\n",
        "- Asynchronous Successive Halving Algorithm \n",
        "- Hyperband Algorithm \n",
        "- Median Pruning Algorithm \n",
        "- Threshold Pruning Algorithm"
      ]
    },
    {
      "cell_type": "markdown",
      "metadata": {
        "id": "IsdNEsNtiB05"
      },
      "source": [
        "To activate prune , we need to call report()and should prune()"
      ]
    },
    {
      "cell_type": "code",
      "metadata": {
        "id": "zC6MJFJFYj3Q"
      },
      "source": [
        "import logging\n",
        "import sys\n",
        "\n",
        "import sklearn.datasets\n",
        "import sklearn.linear_model\n",
        "import sklearn.model_selection\n",
        "\n",
        "def objective(trial):\n",
        "\n",
        "  iris = sklearn.datasets.load_iris()\n",
        "  classes = list(set(iris.target))\n",
        "\n",
        "  train_x, valid_x, train_y, valid_y = sklearn.model_selection.train_test_split(\n",
        "      iris.data, iris.target, test_size = 0.25, random_state = 0\n",
        "  )\n",
        "\n",
        "  alpha = trial.suggest_loguniform('alpha', 1e-5, 1e-1)\n",
        "  clf = sklearn.linear_model.SGDClassifier(alpha = alpha)\n",
        "\n",
        "  for step in range(100):\n",
        "\n",
        "    clf.partial_fit(train_x, train_y, classes = classes)\n",
        "\n",
        "    # Report intermediate objective value.\n",
        "    intermediate_value = 1.0 - clf.score(valid_x, valid_y)\n",
        "    trial.report(intermediate_value, step) # Early stopping\n",
        "\n",
        "    # Handle pruning based on teh intermediate balue\n",
        "    if trial.should_prune():\n",
        "      raise optuna.TrialPruned()\n",
        "\n",
        "  \n",
        "  return 1.0 - clf.score(valid_x, valid_y)"
      ],
      "execution_count": 30,
      "outputs": []
    },
    {
      "cell_type": "code",
      "metadata": {
        "colab": {
          "base_uri": "https://localhost:8080/"
        },
        "id": "wi0upTW3jXqf",
        "outputId": "102ff266-a6d2-4384-d901-5b70e1239b37"
      },
      "source": [
        "optuna.logging.get_logger(\"optuna\").addHandler(logging.StreamHandler(sys.stdout))\n",
        "study = optuna.create_study(pruner=optuna.pruners.MedianPruner())\n",
        "study.optimize(objective, n_trials=20)"
      ],
      "execution_count": 31,
      "outputs": [
        {
          "output_type": "stream",
          "text": [
            "\u001b[32m[I 2021-01-27 15:56:08,165]\u001b[0m A new study created in memory with name: no-name-2f14363c-be6a-4b6e-8fec-24927d94612e\u001b[0m\n"
          ],
          "name": "stderr"
        },
        {
          "output_type": "stream",
          "text": [
            "A new study created in memory with name: no-name-2f14363c-be6a-4b6e-8fec-24927d94612e\n",
            "A new study created in memory with name: no-name-2f14363c-be6a-4b6e-8fec-24927d94612e\n",
            "A new study created in memory with name: no-name-2f14363c-be6a-4b6e-8fec-24927d94612e\n"
          ],
          "name": "stdout"
        },
        {
          "output_type": "stream",
          "text": [
            "\u001b[32m[I 2021-01-27 15:56:08,389]\u001b[0m Trial 0 finished with value: 0.07894736842105265 and parameters: {'alpha': 0.0013662705903179186}. Best is trial 0 with value: 0.07894736842105265.\u001b[0m\n"
          ],
          "name": "stderr"
        },
        {
          "output_type": "stream",
          "text": [
            "Trial 0 finished with value: 0.07894736842105265 and parameters: {'alpha': 0.0013662705903179186}. Best is trial 0 with value: 0.07894736842105265.\n",
            "Trial 0 finished with value: 0.07894736842105265 and parameters: {'alpha': 0.0013662705903179186}. Best is trial 0 with value: 0.07894736842105265.\n",
            "Trial 0 finished with value: 0.07894736842105265 and parameters: {'alpha': 0.0013662705903179186}. Best is trial 0 with value: 0.07894736842105265.\n"
          ],
          "name": "stdout"
        },
        {
          "output_type": "stream",
          "text": [
            "\u001b[32m[I 2021-01-27 15:56:08,613]\u001b[0m Trial 1 finished with value: 0.02631578947368418 and parameters: {'alpha': 0.004003368159817417}. Best is trial 1 with value: 0.02631578947368418.\u001b[0m\n"
          ],
          "name": "stderr"
        },
        {
          "output_type": "stream",
          "text": [
            "Trial 1 finished with value: 0.02631578947368418 and parameters: {'alpha': 0.004003368159817417}. Best is trial 1 with value: 0.02631578947368418.\n",
            "Trial 1 finished with value: 0.02631578947368418 and parameters: {'alpha': 0.004003368159817417}. Best is trial 1 with value: 0.02631578947368418.\n",
            "Trial 1 finished with value: 0.02631578947368418 and parameters: {'alpha': 0.004003368159817417}. Best is trial 1 with value: 0.02631578947368418.\n"
          ],
          "name": "stdout"
        },
        {
          "output_type": "stream",
          "text": [
            "\u001b[32m[I 2021-01-27 15:56:08,827]\u001b[0m Trial 2 finished with value: 0.02631578947368418 and parameters: {'alpha': 0.0059545487914573455}. Best is trial 1 with value: 0.02631578947368418.\u001b[0m\n"
          ],
          "name": "stderr"
        },
        {
          "output_type": "stream",
          "text": [
            "Trial 2 finished with value: 0.02631578947368418 and parameters: {'alpha': 0.0059545487914573455}. Best is trial 1 with value: 0.02631578947368418.\n",
            "Trial 2 finished with value: 0.02631578947368418 and parameters: {'alpha': 0.0059545487914573455}. Best is trial 1 with value: 0.02631578947368418.\n",
            "Trial 2 finished with value: 0.02631578947368418 and parameters: {'alpha': 0.0059545487914573455}. Best is trial 1 with value: 0.02631578947368418.\n"
          ],
          "name": "stdout"
        },
        {
          "output_type": "stream",
          "text": [
            "\u001b[32m[I 2021-01-27 15:56:09,054]\u001b[0m Trial 3 finished with value: 0.13157894736842102 and parameters: {'alpha': 0.021997359761954015}. Best is trial 1 with value: 0.02631578947368418.\u001b[0m\n"
          ],
          "name": "stderr"
        },
        {
          "output_type": "stream",
          "text": [
            "Trial 3 finished with value: 0.13157894736842102 and parameters: {'alpha': 0.021997359761954015}. Best is trial 1 with value: 0.02631578947368418.\n",
            "Trial 3 finished with value: 0.13157894736842102 and parameters: {'alpha': 0.021997359761954015}. Best is trial 1 with value: 0.02631578947368418.\n",
            "Trial 3 finished with value: 0.13157894736842102 and parameters: {'alpha': 0.021997359761954015}. Best is trial 1 with value: 0.02631578947368418.\n"
          ],
          "name": "stdout"
        },
        {
          "output_type": "stream",
          "text": [
            "\u001b[32m[I 2021-01-27 15:56:09,267]\u001b[0m Trial 4 finished with value: 0.21052631578947367 and parameters: {'alpha': 1.1592746832646986e-05}. Best is trial 1 with value: 0.02631578947368418.\u001b[0m\n"
          ],
          "name": "stderr"
        },
        {
          "output_type": "stream",
          "text": [
            "Trial 4 finished with value: 0.21052631578947367 and parameters: {'alpha': 1.1592746832646986e-05}. Best is trial 1 with value: 0.02631578947368418.\n",
            "Trial 4 finished with value: 0.21052631578947367 and parameters: {'alpha': 1.1592746832646986e-05}. Best is trial 1 with value: 0.02631578947368418.\n",
            "Trial 4 finished with value: 0.21052631578947367 and parameters: {'alpha': 1.1592746832646986e-05}. Best is trial 1 with value: 0.02631578947368418.\n"
          ],
          "name": "stdout"
        },
        {
          "output_type": "stream",
          "text": [
            "\u001b[32m[I 2021-01-27 15:56:09,507]\u001b[0m Trial 5 finished with value: 0.3157894736842105 and parameters: {'alpha': 0.018757167854999732}. Best is trial 1 with value: 0.02631578947368418.\u001b[0m\n"
          ],
          "name": "stderr"
        },
        {
          "output_type": "stream",
          "text": [
            "Trial 5 finished with value: 0.3157894736842105 and parameters: {'alpha': 0.018757167854999732}. Best is trial 1 with value: 0.02631578947368418.\n",
            "Trial 5 finished with value: 0.3157894736842105 and parameters: {'alpha': 0.018757167854999732}. Best is trial 1 with value: 0.02631578947368418.\n",
            "Trial 5 finished with value: 0.3157894736842105 and parameters: {'alpha': 0.018757167854999732}. Best is trial 1 with value: 0.02631578947368418.\n"
          ],
          "name": "stdout"
        },
        {
          "output_type": "stream",
          "text": [
            "\u001b[32m[I 2021-01-27 15:56:09,526]\u001b[0m Trial 6 pruned. \u001b[0m\n"
          ],
          "name": "stderr"
        },
        {
          "output_type": "stream",
          "text": [
            "Trial 6 pruned. \n",
            "Trial 6 pruned. \n",
            "Trial 6 pruned. \n"
          ],
          "name": "stdout"
        },
        {
          "output_type": "stream",
          "text": [
            "\u001b[32m[I 2021-01-27 15:56:09,566]\u001b[0m Trial 7 pruned. \u001b[0m\n"
          ],
          "name": "stderr"
        },
        {
          "output_type": "stream",
          "text": [
            "Trial 7 pruned. \n",
            "Trial 7 pruned. \n",
            "Trial 7 pruned. \n"
          ],
          "name": "stdout"
        },
        {
          "output_type": "stream",
          "text": [
            "\u001b[32m[I 2021-01-27 15:56:09,578]\u001b[0m Trial 8 pruned. \u001b[0m\n"
          ],
          "name": "stderr"
        },
        {
          "output_type": "stream",
          "text": [
            "Trial 8 pruned. \n",
            "Trial 8 pruned. \n",
            "Trial 8 pruned. \n"
          ],
          "name": "stdout"
        },
        {
          "output_type": "stream",
          "text": [
            "\u001b[32m[I 2021-01-27 15:56:09,823]\u001b[0m Trial 9 finished with value: 0.02631578947368418 and parameters: {'alpha': 0.005029176848297722}. Best is trial 1 with value: 0.02631578947368418.\u001b[0m\n"
          ],
          "name": "stderr"
        },
        {
          "output_type": "stream",
          "text": [
            "Trial 9 finished with value: 0.02631578947368418 and parameters: {'alpha': 0.005029176848297722}. Best is trial 1 with value: 0.02631578947368418.\n",
            "Trial 9 finished with value: 0.02631578947368418 and parameters: {'alpha': 0.005029176848297722}. Best is trial 1 with value: 0.02631578947368418.\n",
            "Trial 9 finished with value: 0.02631578947368418 and parameters: {'alpha': 0.005029176848297722}. Best is trial 1 with value: 0.02631578947368418.\n"
          ],
          "name": "stdout"
        },
        {
          "output_type": "stream",
          "text": [
            "\u001b[32m[I 2021-01-27 15:56:09,841]\u001b[0m Trial 10 pruned. \u001b[0m\n"
          ],
          "name": "stderr"
        },
        {
          "output_type": "stream",
          "text": [
            "Trial 10 pruned. \n",
            "Trial 10 pruned. \n",
            "Trial 10 pruned. \n"
          ],
          "name": "stdout"
        },
        {
          "output_type": "stream",
          "text": [
            "\u001b[32m[I 2021-01-27 15:56:10,097]\u001b[0m Trial 11 finished with value: 0.052631578947368474 and parameters: {'alpha': 0.006520634486652695}. Best is trial 1 with value: 0.02631578947368418.\u001b[0m\n"
          ],
          "name": "stderr"
        },
        {
          "output_type": "stream",
          "text": [
            "Trial 11 finished with value: 0.052631578947368474 and parameters: {'alpha': 0.006520634486652695}. Best is trial 1 with value: 0.02631578947368418.\n",
            "Trial 11 finished with value: 0.052631578947368474 and parameters: {'alpha': 0.006520634486652695}. Best is trial 1 with value: 0.02631578947368418.\n",
            "Trial 11 finished with value: 0.052631578947368474 and parameters: {'alpha': 0.006520634486652695}. Best is trial 1 with value: 0.02631578947368418.\n"
          ],
          "name": "stdout"
        },
        {
          "output_type": "stream",
          "text": [
            "\u001b[32m[I 2021-01-27 15:56:10,114]\u001b[0m Trial 12 pruned. \u001b[0m\n"
          ],
          "name": "stderr"
        },
        {
          "output_type": "stream",
          "text": [
            "Trial 12 pruned. \n",
            "Trial 12 pruned. \n",
            "Trial 12 pruned. \n"
          ],
          "name": "stdout"
        },
        {
          "output_type": "stream",
          "text": [
            "\u001b[32m[I 2021-01-27 15:56:10,354]\u001b[0m Trial 13 finished with value: 0.3157894736842105 and parameters: {'alpha': 0.07665544495642188}. Best is trial 1 with value: 0.02631578947368418.\u001b[0m\n"
          ],
          "name": "stderr"
        },
        {
          "output_type": "stream",
          "text": [
            "Trial 13 finished with value: 0.3157894736842105 and parameters: {'alpha': 0.07665544495642188}. Best is trial 1 with value: 0.02631578947368418.\n",
            "Trial 13 finished with value: 0.3157894736842105 and parameters: {'alpha': 0.07665544495642188}. Best is trial 1 with value: 0.02631578947368418.\n",
            "Trial 13 finished with value: 0.3157894736842105 and parameters: {'alpha': 0.07665544495642188}. Best is trial 1 with value: 0.02631578947368418.\n"
          ],
          "name": "stdout"
        },
        {
          "output_type": "stream",
          "text": [
            "\u001b[32m[I 2021-01-27 15:56:10,596]\u001b[0m Trial 14 finished with value: 0.02631578947368418 and parameters: {'alpha': 0.0185278727879311}. Best is trial 1 with value: 0.02631578947368418.\u001b[0m\n"
          ],
          "name": "stderr"
        },
        {
          "output_type": "stream",
          "text": [
            "Trial 14 finished with value: 0.02631578947368418 and parameters: {'alpha': 0.0185278727879311}. Best is trial 1 with value: 0.02631578947368418.\n",
            "Trial 14 finished with value: 0.02631578947368418 and parameters: {'alpha': 0.0185278727879311}. Best is trial 1 with value: 0.02631578947368418.\n",
            "Trial 14 finished with value: 0.02631578947368418 and parameters: {'alpha': 0.0185278727879311}. Best is trial 1 with value: 0.02631578947368418.\n"
          ],
          "name": "stdout"
        },
        {
          "output_type": "stream",
          "text": [
            "\u001b[32m[I 2021-01-27 15:56:10,834]\u001b[0m Trial 15 finished with value: 0.2894736842105263 and parameters: {'alpha': 0.0006237871269084932}. Best is trial 1 with value: 0.02631578947368418.\u001b[0m\n"
          ],
          "name": "stderr"
        },
        {
          "output_type": "stream",
          "text": [
            "Trial 15 finished with value: 0.2894736842105263 and parameters: {'alpha': 0.0006237871269084932}. Best is trial 1 with value: 0.02631578947368418.\n",
            "Trial 15 finished with value: 0.2894736842105263 and parameters: {'alpha': 0.0006237871269084932}. Best is trial 1 with value: 0.02631578947368418.\n",
            "Trial 15 finished with value: 0.2894736842105263 and parameters: {'alpha': 0.0006237871269084932}. Best is trial 1 with value: 0.02631578947368418.\n"
          ],
          "name": "stdout"
        },
        {
          "output_type": "stream",
          "text": [
            "\u001b[32m[I 2021-01-27 15:56:10,854]\u001b[0m Trial 16 pruned. \u001b[0m\n"
          ],
          "name": "stderr"
        },
        {
          "output_type": "stream",
          "text": [
            "Trial 16 pruned. \n",
            "Trial 16 pruned. \n",
            "Trial 16 pruned. \n"
          ],
          "name": "stdout"
        },
        {
          "output_type": "stream",
          "text": [
            "\u001b[32m[I 2021-01-27 15:56:10,877]\u001b[0m Trial 17 pruned. \u001b[0m\n"
          ],
          "name": "stderr"
        },
        {
          "output_type": "stream",
          "text": [
            "Trial 17 pruned. \n",
            "Trial 17 pruned. \n",
            "Trial 17 pruned. \n"
          ],
          "name": "stdout"
        },
        {
          "output_type": "stream",
          "text": [
            "\u001b[32m[I 2021-01-27 15:56:10,902]\u001b[0m Trial 18 pruned. \u001b[0m\n"
          ],
          "name": "stderr"
        },
        {
          "output_type": "stream",
          "text": [
            "Trial 18 pruned. \n",
            "Trial 18 pruned. \n",
            "Trial 18 pruned. \n"
          ],
          "name": "stdout"
        },
        {
          "output_type": "stream",
          "text": [
            "\u001b[32m[I 2021-01-27 15:56:10,918]\u001b[0m Trial 19 pruned. \u001b[0m\n"
          ],
          "name": "stderr"
        },
        {
          "output_type": "stream",
          "text": [
            "Trial 19 pruned. \n",
            "Trial 19 pruned. \n",
            "Trial 19 pruned. \n"
          ],
          "name": "stdout"
        }
      ]
    },
    {
      "cell_type": "code",
      "metadata": {
        "colab": {
          "base_uri": "https://localhost:8080/"
        },
        "id": "AjGzMe8VjoIF",
        "outputId": "b61a511f-0471-4393-dae8-fddad20737fb"
      },
      "source": [
        "print(optuna.integration) \n"
      ],
      "execution_count": 35,
      "outputs": [
        {
          "output_type": "stream",
          "text": [
            "<module 'optuna.integration' from '/usr/local/lib/python3.6/dist-packages/optuna/integration/__init__.py'>\n"
          ],
          "name": "stdout"
        }
      ]
    },
    {
      "cell_type": "markdown",
      "metadata": {
        "id": "j2wOTWuqkK4g"
      },
      "source": [
        "# Definitely Check Optuna Integrations\n",
        "\n",
        "\n",
        "\n",
        "\n"
      ]
    },
    {
      "cell_type": "markdown",
      "metadata": {
        "id": "fMWYCvfbn0Xs"
      },
      "source": [
        "# Part 4 : \n",
        "\n",
        "# Visualizing OPTUNA !!!"
      ]
    },
    {
      "cell_type": "code",
      "metadata": {
        "id": "5Lg3O0W1j8eM"
      },
      "source": [
        "import lightgbm as lgb\n",
        "import numpy as np\n",
        "import sklearn.datasets\n",
        "import sklearn.metrics\n",
        "from sklearn.model_selection import train_test_split\n",
        "\n",
        "import optuna\n",
        "from optuna.visualization import plot_contour\n",
        "from optuna.visualization import plot_edf\n",
        "from optuna.visualization import plot_intermediate_values\n",
        "from optuna.visualization import plot_optimization_history\n",
        "from optuna.visualization import plot_parallel_coordinate\n",
        "from optuna.visualization import plot_param_importances\n",
        "from optuna.visualization import plot_slice\n",
        "\n",
        "SEED = 42\n",
        "\n",
        "np.random.seed(SEED)"
      ],
      "execution_count": 36,
      "outputs": []
    },
    {
      "cell_type": "code",
      "metadata": {
        "id": "T6r99GuGn5eW"
      },
      "source": [
        "def objective(trial):\n",
        "    data, target = sklearn.datasets.load_breast_cancer(return_X_y=True)\n",
        "    train_x, valid_x, train_y, valid_y = train_test_split(data, target, test_size=0.25)\n",
        "    dtrain = lgb.Dataset(train_x, label=train_y)\n",
        "    dvalid = lgb.Dataset(valid_x, label=valid_y)\n",
        "\n",
        "    param = {\n",
        "        \"objective\": \"binary\",\n",
        "        \"metric\": \"auc\",\n",
        "        \"verbosity\": -1,\n",
        "        \"boosting_type\": \"gbdt\",\n",
        "        \"bagging_fraction\": trial.suggest_float(\"bagging_fraction\", 0.4, 1.0),\n",
        "        \"bagging_freq\": trial.suggest_int(\"bagging_freq\", 1, 7),\n",
        "        \"min_child_samples\": trial.suggest_int(\"min_child_samples\", 5, 100),\n",
        "    }\n",
        "\n",
        "    # Add a callback for pruning.\n",
        "    pruning_callback = optuna.integration.LightGBMPruningCallback(trial, \"auc\")\n",
        "    gbm = lgb.train(\n",
        "        param, dtrain, valid_sets=[dvalid], verbose_eval=False, callbacks=[pruning_callback]\n",
        "    )\n",
        "\n",
        "    preds = gbm.predict(valid_x)\n",
        "    pred_labels = np.rint(preds)\n",
        "    accuracy = sklearn.metrics.accuracy_score(valid_y, pred_labels)\n",
        "    return accuracy"
      ],
      "execution_count": 37,
      "outputs": []
    },
    {
      "cell_type": "code",
      "metadata": {
        "id": "jDcY05Tzn7VZ"
      },
      "source": [
        "def objective(trial):\n",
        "    data, target = sklearn.datasets.load_breast_cancer(return_X_y=True)\n",
        "    train_x, valid_x, train_y, valid_y = train_test_split(data, target, test_size=0.25)\n",
        "    dtrain = lgb.Dataset(train_x, label=train_y)\n",
        "    dvalid = lgb.Dataset(valid_x, label=valid_y)\n",
        "\n",
        "    param = {\n",
        "        \"objective\": \"binary\",\n",
        "        \"metric\": \"auc\",\n",
        "        \"verbosity\": -1,\n",
        "        \"boosting_type\": \"gbdt\",\n",
        "        \"bagging_fraction\": trial.suggest_float(\"bagging_fraction\", 0.4, 1.0),\n",
        "        \"bagging_freq\": trial.suggest_int(\"bagging_freq\", 1, 7),\n",
        "        \"min_child_samples\": trial.suggest_int(\"min_child_samples\", 5, 100),\n",
        "    }\n",
        "\n",
        "    # Add a callback for pruning.\n",
        "    pruning_callback = optuna.integration.LightGBMPruningCallback(trial, \"auc\")\n",
        "    gbm = lgb.train(\n",
        "        param, dtrain, valid_sets=[dvalid], verbose_eval=False, callbacks=[pruning_callback]\n",
        "    )\n",
        "\n",
        "    preds = gbm.predict(valid_x)\n",
        "    pred_labels = np.rint(preds)\n",
        "    accuracy = sklearn.metrics.accuracy_score(valid_y, pred_labels)\n",
        "    return accuracy"
      ],
      "execution_count": 38,
      "outputs": []
    },
    {
      "cell_type": "code",
      "metadata": {
        "colab": {
          "base_uri": "https://localhost:8080/",
          "height": 542
        },
        "id": "NKu6jVEln83o",
        "outputId": "85c9e083-9349-426b-9701-2917cd8cb911"
      },
      "source": [
        "plot_param_importances(study)"
      ],
      "execution_count": 39,
      "outputs": [
        {
          "output_type": "display_data",
          "data": {
            "text/html": [
              "<html>\n",
              "<head><meta charset=\"utf-8\" /></head>\n",
              "<body>\n",
              "    <div>\n",
              "            <script src=\"https://cdnjs.cloudflare.com/ajax/libs/mathjax/2.7.5/MathJax.js?config=TeX-AMS-MML_SVG\"></script><script type=\"text/javascript\">if (window.MathJax) {MathJax.Hub.Config({SVG: {font: \"STIX-Web\"}});}</script>\n",
              "                <script type=\"text/javascript\">window.PlotlyConfig = {MathJaxConfig: 'local'};</script>\n",
              "        <script src=\"https://cdn.plot.ly/plotly-latest.min.js\"></script>    \n",
              "            <div id=\"dcbd638d-d272-4b60-bc2f-02c4b6b67208\" class=\"plotly-graph-div\" style=\"height:525px; width:100%;\"></div>\n",
              "            <script type=\"text/javascript\">\n",
              "                \n",
              "                    window.PLOTLYENV=window.PLOTLYENV || {};\n",
              "                    \n",
              "                if (document.getElementById(\"dcbd638d-d272-4b60-bc2f-02c4b6b67208\")) {\n",
              "                    Plotly.newPlot(\n",
              "                        'dcbd638d-d272-4b60-bc2f-02c4b6b67208',\n",
              "                        [{\"cliponaxis\": false, \"hovertemplate\": [\"alpha (LogUniformDistribution): 1.0<extra></extra>\"], \"marker\": {\"color\": [\"rgb(8,48,107)\"]}, \"orientation\": \"h\", \"text\": [\"1.0\"], \"textposition\": \"outside\", \"texttemplate\": \"%{text:.2f}\", \"type\": \"bar\", \"x\": [1.0], \"y\": [\"alpha\"]}],\n",
              "                        {\"showlegend\": false, \"template\": {\"data\": {\"bar\": [{\"error_x\": {\"color\": \"#2a3f5f\"}, \"error_y\": {\"color\": \"#2a3f5f\"}, \"marker\": {\"line\": {\"color\": \"#E5ECF6\", \"width\": 0.5}}, \"type\": \"bar\"}], \"barpolar\": [{\"marker\": {\"line\": {\"color\": \"#E5ECF6\", \"width\": 0.5}}, \"type\": \"barpolar\"}], \"carpet\": [{\"aaxis\": {\"endlinecolor\": \"#2a3f5f\", \"gridcolor\": \"white\", \"linecolor\": \"white\", \"minorgridcolor\": \"white\", \"startlinecolor\": \"#2a3f5f\"}, \"baxis\": {\"endlinecolor\": \"#2a3f5f\", \"gridcolor\": \"white\", \"linecolor\": \"white\", \"minorgridcolor\": \"white\", \"startlinecolor\": \"#2a3f5f\"}, \"type\": \"carpet\"}], \"choropleth\": [{\"colorbar\": {\"outlinewidth\": 0, \"ticks\": \"\"}, \"type\": \"choropleth\"}], \"contour\": [{\"colorbar\": {\"outlinewidth\": 0, \"ticks\": \"\"}, \"colorscale\": [[0.0, \"#0d0887\"], [0.1111111111111111, \"#46039f\"], [0.2222222222222222, \"#7201a8\"], [0.3333333333333333, \"#9c179e\"], [0.4444444444444444, \"#bd3786\"], [0.5555555555555556, \"#d8576b\"], [0.6666666666666666, \"#ed7953\"], [0.7777777777777778, \"#fb9f3a\"], [0.8888888888888888, \"#fdca26\"], [1.0, \"#f0f921\"]], \"type\": \"contour\"}], \"contourcarpet\": [{\"colorbar\": {\"outlinewidth\": 0, \"ticks\": \"\"}, \"type\": \"contourcarpet\"}], \"heatmap\": [{\"colorbar\": {\"outlinewidth\": 0, \"ticks\": \"\"}, \"colorscale\": [[0.0, \"#0d0887\"], [0.1111111111111111, \"#46039f\"], [0.2222222222222222, \"#7201a8\"], [0.3333333333333333, \"#9c179e\"], [0.4444444444444444, \"#bd3786\"], [0.5555555555555556, \"#d8576b\"], [0.6666666666666666, \"#ed7953\"], [0.7777777777777778, \"#fb9f3a\"], [0.8888888888888888, \"#fdca26\"], [1.0, \"#f0f921\"]], \"type\": \"heatmap\"}], \"heatmapgl\": [{\"colorbar\": {\"outlinewidth\": 0, \"ticks\": \"\"}, \"colorscale\": [[0.0, \"#0d0887\"], [0.1111111111111111, \"#46039f\"], [0.2222222222222222, \"#7201a8\"], [0.3333333333333333, \"#9c179e\"], [0.4444444444444444, \"#bd3786\"], [0.5555555555555556, \"#d8576b\"], [0.6666666666666666, \"#ed7953\"], [0.7777777777777778, \"#fb9f3a\"], [0.8888888888888888, \"#fdca26\"], [1.0, \"#f0f921\"]], \"type\": \"heatmapgl\"}], \"histogram\": [{\"marker\": {\"colorbar\": {\"outlinewidth\": 0, \"ticks\": \"\"}}, \"type\": \"histogram\"}], \"histogram2d\": [{\"colorbar\": {\"outlinewidth\": 0, \"ticks\": \"\"}, \"colorscale\": [[0.0, \"#0d0887\"], [0.1111111111111111, \"#46039f\"], [0.2222222222222222, \"#7201a8\"], [0.3333333333333333, \"#9c179e\"], [0.4444444444444444, \"#bd3786\"], [0.5555555555555556, \"#d8576b\"], [0.6666666666666666, \"#ed7953\"], [0.7777777777777778, \"#fb9f3a\"], [0.8888888888888888, \"#fdca26\"], [1.0, \"#f0f921\"]], \"type\": \"histogram2d\"}], \"histogram2dcontour\": [{\"colorbar\": {\"outlinewidth\": 0, \"ticks\": \"\"}, \"colorscale\": [[0.0, \"#0d0887\"], [0.1111111111111111, \"#46039f\"], [0.2222222222222222, \"#7201a8\"], [0.3333333333333333, \"#9c179e\"], [0.4444444444444444, \"#bd3786\"], [0.5555555555555556, \"#d8576b\"], [0.6666666666666666, \"#ed7953\"], [0.7777777777777778, \"#fb9f3a\"], [0.8888888888888888, \"#fdca26\"], [1.0, \"#f0f921\"]], \"type\": \"histogram2dcontour\"}], \"mesh3d\": [{\"colorbar\": {\"outlinewidth\": 0, \"ticks\": \"\"}, \"type\": \"mesh3d\"}], \"parcoords\": [{\"line\": {\"colorbar\": {\"outlinewidth\": 0, \"ticks\": \"\"}}, \"type\": \"parcoords\"}], \"pie\": [{\"automargin\": true, \"type\": \"pie\"}], \"scatter\": [{\"marker\": {\"colorbar\": {\"outlinewidth\": 0, \"ticks\": \"\"}}, \"type\": \"scatter\"}], \"scatter3d\": [{\"line\": {\"colorbar\": {\"outlinewidth\": 0, \"ticks\": \"\"}}, \"marker\": {\"colorbar\": {\"outlinewidth\": 0, \"ticks\": \"\"}}, \"type\": \"scatter3d\"}], \"scattercarpet\": [{\"marker\": {\"colorbar\": {\"outlinewidth\": 0, \"ticks\": \"\"}}, \"type\": \"scattercarpet\"}], \"scattergeo\": [{\"marker\": {\"colorbar\": {\"outlinewidth\": 0, \"ticks\": \"\"}}, \"type\": \"scattergeo\"}], \"scattergl\": [{\"marker\": {\"colorbar\": {\"outlinewidth\": 0, \"ticks\": \"\"}}, \"type\": \"scattergl\"}], \"scattermapbox\": [{\"marker\": {\"colorbar\": {\"outlinewidth\": 0, \"ticks\": \"\"}}, \"type\": \"scattermapbox\"}], \"scatterpolar\": [{\"marker\": {\"colorbar\": {\"outlinewidth\": 0, \"ticks\": \"\"}}, \"type\": \"scatterpolar\"}], \"scatterpolargl\": [{\"marker\": {\"colorbar\": {\"outlinewidth\": 0, \"ticks\": \"\"}}, \"type\": \"scatterpolargl\"}], \"scatterternary\": [{\"marker\": {\"colorbar\": {\"outlinewidth\": 0, \"ticks\": \"\"}}, \"type\": \"scatterternary\"}], \"surface\": [{\"colorbar\": {\"outlinewidth\": 0, \"ticks\": \"\"}, \"colorscale\": [[0.0, \"#0d0887\"], [0.1111111111111111, \"#46039f\"], [0.2222222222222222, \"#7201a8\"], [0.3333333333333333, \"#9c179e\"], [0.4444444444444444, \"#bd3786\"], [0.5555555555555556, \"#d8576b\"], [0.6666666666666666, \"#ed7953\"], [0.7777777777777778, \"#fb9f3a\"], [0.8888888888888888, \"#fdca26\"], [1.0, \"#f0f921\"]], \"type\": \"surface\"}], \"table\": [{\"cells\": {\"fill\": {\"color\": \"#EBF0F8\"}, \"line\": {\"color\": \"white\"}}, \"header\": {\"fill\": {\"color\": \"#C8D4E3\"}, \"line\": {\"color\": \"white\"}}, \"type\": \"table\"}]}, \"layout\": {\"annotationdefaults\": {\"arrowcolor\": \"#2a3f5f\", \"arrowhead\": 0, \"arrowwidth\": 1}, \"coloraxis\": {\"colorbar\": {\"outlinewidth\": 0, \"ticks\": \"\"}}, \"colorscale\": {\"diverging\": [[0, \"#8e0152\"], [0.1, \"#c51b7d\"], [0.2, \"#de77ae\"], [0.3, \"#f1b6da\"], [0.4, \"#fde0ef\"], [0.5, \"#f7f7f7\"], [0.6, \"#e6f5d0\"], [0.7, \"#b8e186\"], [0.8, \"#7fbc41\"], [0.9, \"#4d9221\"], [1, \"#276419\"]], \"sequential\": [[0.0, \"#0d0887\"], [0.1111111111111111, \"#46039f\"], [0.2222222222222222, \"#7201a8\"], [0.3333333333333333, \"#9c179e\"], [0.4444444444444444, \"#bd3786\"], [0.5555555555555556, \"#d8576b\"], [0.6666666666666666, \"#ed7953\"], [0.7777777777777778, \"#fb9f3a\"], [0.8888888888888888, \"#fdca26\"], [1.0, \"#f0f921\"]], \"sequentialminus\": [[0.0, \"#0d0887\"], [0.1111111111111111, \"#46039f\"], [0.2222222222222222, \"#7201a8\"], [0.3333333333333333, \"#9c179e\"], [0.4444444444444444, \"#bd3786\"], [0.5555555555555556, \"#d8576b\"], [0.6666666666666666, \"#ed7953\"], [0.7777777777777778, \"#fb9f3a\"], [0.8888888888888888, \"#fdca26\"], [1.0, \"#f0f921\"]]}, \"colorway\": [\"#636efa\", \"#EF553B\", \"#00cc96\", \"#ab63fa\", \"#FFA15A\", \"#19d3f3\", \"#FF6692\", \"#B6E880\", \"#FF97FF\", \"#FECB52\"], \"font\": {\"color\": \"#2a3f5f\"}, \"geo\": {\"bgcolor\": \"white\", \"lakecolor\": \"white\", \"landcolor\": \"#E5ECF6\", \"showlakes\": true, \"showland\": true, \"subunitcolor\": \"white\"}, \"hoverlabel\": {\"align\": \"left\"}, \"hovermode\": \"closest\", \"mapbox\": {\"style\": \"light\"}, \"paper_bgcolor\": \"white\", \"plot_bgcolor\": \"#E5ECF6\", \"polar\": {\"angularaxis\": {\"gridcolor\": \"white\", \"linecolor\": \"white\", \"ticks\": \"\"}, \"bgcolor\": \"#E5ECF6\", \"radialaxis\": {\"gridcolor\": \"white\", \"linecolor\": \"white\", \"ticks\": \"\"}}, \"scene\": {\"xaxis\": {\"backgroundcolor\": \"#E5ECF6\", \"gridcolor\": \"white\", \"gridwidth\": 2, \"linecolor\": \"white\", \"showbackground\": true, \"ticks\": \"\", \"zerolinecolor\": \"white\"}, \"yaxis\": {\"backgroundcolor\": \"#E5ECF6\", \"gridcolor\": \"white\", \"gridwidth\": 2, \"linecolor\": \"white\", \"showbackground\": true, \"ticks\": \"\", \"zerolinecolor\": \"white\"}, \"zaxis\": {\"backgroundcolor\": \"#E5ECF6\", \"gridcolor\": \"white\", \"gridwidth\": 2, \"linecolor\": \"white\", \"showbackground\": true, \"ticks\": \"\", \"zerolinecolor\": \"white\"}}, \"shapedefaults\": {\"line\": {\"color\": \"#2a3f5f\"}}, \"ternary\": {\"aaxis\": {\"gridcolor\": \"white\", \"linecolor\": \"white\", \"ticks\": \"\"}, \"baxis\": {\"gridcolor\": \"white\", \"linecolor\": \"white\", \"ticks\": \"\"}, \"bgcolor\": \"#E5ECF6\", \"caxis\": {\"gridcolor\": \"white\", \"linecolor\": \"white\", \"ticks\": \"\"}}, \"title\": {\"x\": 0.05}, \"xaxis\": {\"automargin\": true, \"gridcolor\": \"white\", \"linecolor\": \"white\", \"ticks\": \"\", \"title\": {\"standoff\": 15}, \"zerolinecolor\": \"white\", \"zerolinewidth\": 2}, \"yaxis\": {\"automargin\": true, \"gridcolor\": \"white\", \"linecolor\": \"white\", \"ticks\": \"\", \"title\": {\"standoff\": 15}, \"zerolinecolor\": \"white\", \"zerolinewidth\": 2}}}, \"title\": {\"text\": \"Hyperparameter Importances\"}, \"xaxis\": {\"title\": {\"text\": \"Importance for Objective Value\"}}, \"yaxis\": {\"title\": {\"text\": \"Hyperparameter\"}}},\n",
              "                        {\"responsive\": true}\n",
              "                    ).then(function(){\n",
              "                            \n",
              "var gd = document.getElementById('dcbd638d-d272-4b60-bc2f-02c4b6b67208');\n",
              "var x = new MutationObserver(function (mutations, observer) {{\n",
              "        var display = window.getComputedStyle(gd).display;\n",
              "        if (!display || display === 'none') {{\n",
              "            console.log([gd, 'removed!']);\n",
              "            Plotly.purge(gd);\n",
              "            observer.disconnect();\n",
              "        }}\n",
              "}});\n",
              "\n",
              "// Listen for the removal of the full notebook cells\n",
              "var notebookContainer = gd.closest('#notebook-container');\n",
              "if (notebookContainer) {{\n",
              "    x.observe(notebookContainer, {childList: true});\n",
              "}}\n",
              "\n",
              "// Listen for the clearing of the current output cell\n",
              "var outputEl = gd.closest('.output');\n",
              "if (outputEl) {{\n",
              "    x.observe(outputEl, {childList: true});\n",
              "}}\n",
              "\n",
              "                        })\n",
              "                };\n",
              "                \n",
              "            </script>\n",
              "        </div>\n",
              "</body>\n",
              "</html>"
            ]
          },
          "metadata": {
            "tags": []
          }
        }
      ]
    },
    {
      "cell_type": "code",
      "metadata": {
        "colab": {
          "base_uri": "https://localhost:8080/",
          "height": 542
        },
        "id": "mlckfYFMoAm4",
        "outputId": "d0d12fe5-5341-465c-d694-e0232b0d4190"
      },
      "source": [
        "plot_intermediate_values(study)"
      ],
      "execution_count": 40,
      "outputs": [
        {
          "output_type": "display_data",
          "data": {
            "text/html": [
              "<html>\n",
              "<head><meta charset=\"utf-8\" /></head>\n",
              "<body>\n",
              "    <div>\n",
              "            <script src=\"https://cdnjs.cloudflare.com/ajax/libs/mathjax/2.7.5/MathJax.js?config=TeX-AMS-MML_SVG\"></script><script type=\"text/javascript\">if (window.MathJax) {MathJax.Hub.Config({SVG: {font: \"STIX-Web\"}});}</script>\n",
              "                <script type=\"text/javascript\">window.PlotlyConfig = {MathJaxConfig: 'local'};</script>\n",
              "        <script src=\"https://cdn.plot.ly/plotly-latest.min.js\"></script>    \n",
              "            <div id=\"082ac9e2-eaea-4bc7-8a3d-ab0054ce5fec\" class=\"plotly-graph-div\" style=\"height:525px; width:100%;\"></div>\n",
              "            <script type=\"text/javascript\">\n",
              "                \n",
              "                    window.PLOTLYENV=window.PLOTLYENV || {};\n",
              "                    \n",
              "                if (document.getElementById(\"082ac9e2-eaea-4bc7-8a3d-ab0054ce5fec\")) {\n",
              "                    Plotly.newPlot(\n",
              "                        '082ac9e2-eaea-4bc7-8a3d-ab0054ce5fec',\n",
              "                        [{\"marker\": {\"maxdisplayed\": 10}, \"mode\": \"lines+markers\", \"name\": \"Trial0\", \"type\": \"scatter\", \"x\": [0, 1, 2, 3, 4, 5, 6, 7, 8, 9, 10, 11, 12, 13, 14, 15, 16, 17, 18, 19, 20, 21, 22, 23, 24, 25, 26, 27, 28, 29, 30, 31, 32, 33, 34, 35, 36, 37, 38, 39, 40, 41, 42, 43, 44, 45, 46, 47, 48, 49, 50, 51, 52, 53, 54, 55, 56, 57, 58, 59, 60, 61, 62, 63, 64, 65, 66, 67, 68, 69, 70, 71, 72, 73, 74, 75, 76, 77, 78, 79, 80, 81, 82, 83, 84, 85, 86, 87, 88, 89, 90, 91, 92, 93, 94, 95, 96, 97, 98, 99], \"y\": [0.42105263157894735, 0.26315789473684215, 0.42105263157894735, 0.5, 0.368421052631579, 0.42105263157894735, 0.07894736842105265, 0.368421052631579, 0.42105263157894735, 0.42105263157894735, 0.39473684210526316, 0.23684210526315785, 0.07894736842105265, 0.10526315789473684, 0.26315789473684215, 0.368421052631579, 0.42105263157894735, 0.39473684210526316, 0.42105263157894735, 0.10526315789473684, 0.10526315789473684, 0.13157894736842102, 0.3157894736842105, 0.23684210526315785, 0.2894736842105263, 0.052631578947368474, 0.39473684210526316, 0.07894736842105265, 0.39473684210526316, 0.3421052631578947, 0.052631578947368474, 0.23684210526315785, 0.10526315789473684, 0.42105263157894735, 0.39473684210526316, 0.13157894736842102, 0.07894736842105265, 0.368421052631579, 0.02631578947368418, 0.368421052631579, 0.07894736842105265, 0.052631578947368474, 0.4473684210526315, 0.052631578947368474, 0.052631578947368474, 0.1578947368421053, 0.2894736842105263, 0.13157894736842102, 0.13157894736842102, 0.07894736842105265, 0.3421052631578947, 0.02631578947368418, 0.1842105263157895, 0.052631578947368474, 0.39473684210526316, 0.02631578947368418, 0.052631578947368474, 0.07894736842105265, 0.07894736842105265, 0.02631578947368418, 0.368421052631579, 0.10526315789473684, 0.21052631578947367, 0.052631578947368474, 0.1842105263157895, 0.052631578947368474, 0.10526315789473684, 0.07894736842105265, 0.13157894736842102, 0.07894736842105265, 0.02631578947368418, 0.368421052631579, 0.02631578947368418, 0.02631578947368418, 0.368421052631579, 0.13157894736842102, 0.23684210526315785, 0.1578947368421053, 0.23684210526315785, 0.02631578947368418, 0.02631578947368418, 0.368421052631579, 0.26315789473684215, 0.23684210526315785, 0.23684210526315785, 0.13157894736842102, 0.21052631578947367, 0.23684210526315785, 0.2894736842105263, 0.02631578947368418, 0.10526315789473684, 0.10526315789473684, 0.052631578947368474, 0.3157894736842105, 0.02631578947368418, 0.02631578947368418, 0.02631578947368418, 0.07894736842105265, 0.07894736842105265, 0.07894736842105265]}, {\"marker\": {\"maxdisplayed\": 10}, \"mode\": \"lines+markers\", \"name\": \"Trial1\", \"type\": \"scatter\", \"x\": [0, 1, 2, 3, 4, 5, 6, 7, 8, 9, 10, 11, 12, 13, 14, 15, 16, 17, 18, 19, 20, 21, 22, 23, 24, 25, 26, 27, 28, 29, 30, 31, 32, 33, 34, 35, 36, 37, 38, 39, 40, 41, 42, 43, 44, 45, 46, 47, 48, 49, 50, 51, 52, 53, 54, 55, 56, 57, 58, 59, 60, 61, 62, 63, 64, 65, 66, 67, 68, 69, 70, 71, 72, 73, 74, 75, 76, 77, 78, 79, 80, 81, 82, 83, 84, 85, 86, 87, 88, 89, 90, 91, 92, 93, 94, 95, 96, 97, 98, 99], \"y\": [0.6578947368421053, 0.23684210526315785, 0.42105263157894735, 0.23684210526315785, 0.42105263157894735, 0.07894736842105265, 0.42105263157894735, 0.21052631578947367, 0.3157894736842105, 0.3157894736842105, 0.07894736842105265, 0.052631578947368474, 0.1578947368421053, 0.368421052631579, 0.02631578947368418, 0.39473684210526316, 0.052631578947368474, 0.1578947368421053, 0.42105263157894735, 0.368421052631579, 0.42105263157894735, 0.42105263157894735, 0.39473684210526316, 0.39473684210526316, 0.1842105263157895, 0.368421052631579, 0.23684210526315785, 0.39473684210526316, 0.2894736842105263, 0.1842105263157895, 0.07894736842105265, 0.368421052631579, 0.02631578947368418, 0.23684210526315785, 0.21052631578947367, 0.07894736842105265, 0.052631578947368474, 0.07894736842105265, 0.13157894736842102, 0.052631578947368474, 0.02631578947368418, 0.3421052631578947, 0.07894736842105265, 0.1842105263157895, 0.26315789473684215, 0.3421052631578947, 0.02631578947368418, 0.1842105263157895, 0.1842105263157895, 0.052631578947368474, 0.07894736842105265, 0.02631578947368418, 0.1578947368421053, 0.07894736842105265, 0.02631578947368418, 0.02631578947368418, 0.3421052631578947, 0.02631578947368418, 0.07894736842105265, 0.26315789473684215, 0.02631578947368418, 0.02631578947368418, 0.3157894736842105, 0.10526315789473684, 0.3421052631578947, 0.07894736842105265, 0.13157894736842102, 0.02631578947368418, 0.07894736842105265, 0.052631578947368474, 0.26315789473684215, 0.07894736842105265, 0.02631578947368418, 0.02631578947368418, 0.23684210526315785, 0.052631578947368474, 0.07894736842105265, 0.23684210526315785, 0.368421052631579, 0.052631578947368474, 0.07894736842105265, 0.052631578947368474, 0.02631578947368418, 0.02631578947368418, 0.02631578947368418, 0.07894736842105265, 0.02631578947368418, 0.3421052631578947, 0.052631578947368474, 0.1842105263157895, 0.02631578947368418, 0.02631578947368418, 0.13157894736842102, 0.1842105263157895, 0.10526315789473684, 0.052631578947368474, 0.02631578947368418, 0.02631578947368418, 0.13157894736842102, 0.02631578947368418]}, {\"marker\": {\"maxdisplayed\": 10}, \"mode\": \"lines+markers\", \"name\": \"Trial2\", \"type\": \"scatter\", \"x\": [0, 1, 2, 3, 4, 5, 6, 7, 8, 9, 10, 11, 12, 13, 14, 15, 16, 17, 18, 19, 20, 21, 22, 23, 24, 25, 26, 27, 28, 29, 30, 31, 32, 33, 34, 35, 36, 37, 38, 39, 40, 41, 42, 43, 44, 45, 46, 47, 48, 49, 50, 51, 52, 53, 54, 55, 56, 57, 58, 59, 60, 61, 62, 63, 64, 65, 66, 67, 68, 69, 70, 71, 72, 73, 74, 75, 76, 77, 78, 79, 80, 81, 82, 83, 84, 85, 86, 87, 88, 89, 90, 91, 92, 93, 94, 95, 96, 97, 98, 99], \"y\": [0.368421052631579, 0.5789473684210527, 0.42105263157894735, 0.052631578947368474, 0.3157894736842105, 0.42105263157894735, 0.42105263157894735, 0.42105263157894735, 0.052631578947368474, 0.13157894736842102, 0.13157894736842102, 0.42105263157894735, 0.07894736842105265, 0.052631578947368474, 0.1578947368421053, 0.368421052631579, 0.07894736842105265, 0.39473684210526316, 0.052631578947368474, 0.368421052631579, 0.39473684210526316, 0.052631578947368474, 0.3421052631578947, 0.21052631578947367, 0.1578947368421053, 0.052631578947368474, 0.1578947368421053, 0.07894736842105265, 0.10526315789473684, 0.1578947368421053, 0.21052631578947367, 0.07894736842105265, 0.3421052631578947, 0.13157894736842102, 0.02631578947368418, 0.07894736842105265, 0.21052631578947367, 0.02631578947368418, 0.13157894736842102, 0.26315789473684215, 0.02631578947368418, 0.052631578947368474, 0.13157894736842102, 0.13157894736842102, 0.02631578947368418, 0.07894736842105265, 0.1578947368421053, 0.07894736842105265, 0.39473684210526316, 0.02631578947368418, 0.052631578947368474, 0.39473684210526316, 0.10526315789473684, 0.3421052631578947, 0.02631578947368418, 0.26315789473684215, 0.21052631578947367, 0.1842105263157895, 0.07894736842105265, 0.21052631578947367, 0.23684210526315785, 0.1842105263157895, 0.07894736842105265, 0.052631578947368474, 0.21052631578947367, 0.052631578947368474, 0.368421052631579, 0.02631578947368418, 0.23684210526315785, 0.07894736842105265, 0.02631578947368418, 0.052631578947368474, 0.02631578947368418, 0.0, 0.13157894736842102, 0.07894736842105265, 0.07894736842105265, 0.052631578947368474, 0.02631578947368418, 0.1842105263157895, 0.052631578947368474, 0.3421052631578947, 0.07894736842105265, 0.02631578947368418, 0.07894736842105265, 0.21052631578947367, 0.10526315789473684, 0.21052631578947367, 0.07894736842105265, 0.052631578947368474, 0.23684210526315785, 0.13157894736842102, 0.02631578947368418, 0.07894736842105265, 0.02631578947368418, 0.1842105263157895, 0.02631578947368418, 0.2894736842105263, 0.02631578947368418, 0.02631578947368418]}, {\"marker\": {\"maxdisplayed\": 10}, \"mode\": \"lines+markers\", \"name\": \"Trial3\", \"type\": \"scatter\", \"x\": [0, 1, 2, 3, 4, 5, 6, 7, 8, 9, 10, 11, 12, 13, 14, 15, 16, 17, 18, 19, 20, 21, 22, 23, 24, 25, 26, 27, 28, 29, 30, 31, 32, 33, 34, 35, 36, 37, 38, 39, 40, 41, 42, 43, 44, 45, 46, 47, 48, 49, 50, 51, 52, 53, 54, 55, 56, 57, 58, 59, 60, 61, 62, 63, 64, 65, 66, 67, 68, 69, 70, 71, 72, 73, 74, 75, 76, 77, 78, 79, 80, 81, 82, 83, 84, 85, 86, 87, 88, 89, 90, 91, 92, 93, 94, 95, 96, 97, 98, 99], \"y\": [0.4736842105263158, 0.42105263157894735, 0.07894736842105265, 0.42105263157894735, 0.42105263157894735, 0.4473684210526315, 0.42105263157894735, 0.39473684210526316, 0.39473684210526316, 0.1842105263157895, 0.1842105263157895, 0.39473684210526316, 0.3421052631578947, 0.13157894736842102, 0.07894736842105265, 0.3157894736842105, 0.07894736842105265, 0.39473684210526316, 0.02631578947368418, 0.07894736842105265, 0.21052631578947367, 0.368421052631579, 0.07894736842105265, 0.13157894736842102, 0.368421052631579, 0.3421052631578947, 0.1578947368421053, 0.02631578947368418, 0.052631578947368474, 0.052631578947368474, 0.13157894736842102, 0.39473684210526316, 0.3157894736842105, 0.07894736842105265, 0.07894736842105265, 0.26315789473684215, 0.26315789473684215, 0.368421052631579, 0.368421052631579, 0.1842105263157895, 0.052631578947368474, 0.07894736842105265, 0.052631578947368474, 0.21052631578947367, 0.3157894736842105, 0.1842105263157895, 0.02631578947368418, 0.26315789473684215, 0.07894736842105265, 0.3157894736842105, 0.1842105263157895, 0.39473684210526316, 0.3157894736842105, 0.1842105263157895, 0.02631578947368418, 0.39473684210526316, 0.07894736842105265, 0.26315789473684215, 0.02631578947368418, 0.1842105263157895, 0.07894736842105265, 0.052631578947368474, 0.3157894736842105, 0.02631578947368418, 0.26315789473684215, 0.07894736842105265, 0.07894736842105265, 0.07894736842105265, 0.26315789473684215, 0.3157894736842105, 0.3421052631578947, 0.1578947368421053, 0.26315789473684215, 0.21052631578947367, 0.07894736842105265, 0.07894736842105265, 0.07894736842105265, 0.1842105263157895, 0.13157894736842102, 0.02631578947368418, 0.1842105263157895, 0.052631578947368474, 0.21052631578947367, 0.02631578947368418, 0.07894736842105265, 0.07894736842105265, 0.052631578947368474, 0.23684210526315785, 0.07894736842105265, 0.1842105263157895, 0.3157894736842105, 0.368421052631579, 0.052631578947368474, 0.26315789473684215, 0.07894736842105265, 0.26315789473684215, 0.07894736842105265, 0.02631578947368418, 0.02631578947368418, 0.13157894736842102]}, {\"marker\": {\"maxdisplayed\": 10}, \"mode\": \"lines+markers\", \"name\": \"Trial4\", \"type\": \"scatter\", \"x\": [0, 1, 2, 3, 4, 5, 6, 7, 8, 9, 10, 11, 12, 13, 14, 15, 16, 17, 18, 19, 20, 21, 22, 23, 24, 25, 26, 27, 28, 29, 30, 31, 32, 33, 34, 35, 36, 37, 38, 39, 40, 41, 42, 43, 44, 45, 46, 47, 48, 49, 50, 51, 52, 53, 54, 55, 56, 57, 58, 59, 60, 61, 62, 63, 64, 65, 66, 67, 68, 69, 70, 71, 72, 73, 74, 75, 76, 77, 78, 79, 80, 81, 82, 83, 84, 85, 86, 87, 88, 89, 90, 91, 92, 93, 94, 95, 96, 97, 98, 99], \"y\": [0.42105263157894735, 0.42105263157894735, 0.368421052631579, 0.39473684210526316, 0.42105263157894735, 0.10526315789473684, 0.23684210526315785, 0.42105263157894735, 0.1842105263157895, 0.10526315789473684, 0.42105263157894735, 0.42105263157894735, 0.1578947368421053, 0.3157894736842105, 0.3157894736842105, 0.39473684210526316, 0.13157894736842102, 0.42105263157894735, 0.42105263157894735, 0.42105263157894735, 0.1578947368421053, 0.07894736842105265, 0.26315789473684215, 0.3157894736842105, 0.3157894736842105, 0.052631578947368474, 0.42105263157894735, 0.21052631578947367, 0.3157894736842105, 0.21052631578947367, 0.4736842105263158, 0.052631578947368474, 0.3157894736842105, 0.07894736842105265, 0.39473684210526316, 0.13157894736842102, 0.07894736842105265, 0.1842105263157895, 0.39473684210526316, 0.39473684210526316, 0.2894736842105263, 0.3421052631578947, 0.052631578947368474, 0.13157894736842102, 0.4473684210526315, 0.052631578947368474, 0.26315789473684215, 0.10526315789473684, 0.3421052631578947, 0.1578947368421053, 0.3421052631578947, 0.052631578947368474, 0.10526315789473684, 0.07894736842105265, 0.10526315789473684, 0.2894736842105263, 0.13157894736842102, 0.4736842105263158, 0.3421052631578947, 0.052631578947368474, 0.42105263157894735, 0.052631578947368474, 0.13157894736842102, 0.1842105263157895, 0.07894736842105265, 0.10526315789473684, 0.2894736842105263, 0.39473684210526316, 0.4736842105263158, 0.052631578947368474, 0.1578947368421053, 0.42105263157894735, 0.2894736842105263, 0.3421052631578947, 0.07894736842105265, 0.052631578947368474, 0.07894736842105265, 0.2894736842105263, 0.052631578947368474, 0.26315789473684215, 0.1578947368421053, 0.052631578947368474, 0.10526315789473684, 0.39473684210526316, 0.368421052631579, 0.21052631578947367, 0.2894736842105263, 0.39473684210526316, 0.26315789473684215, 0.21052631578947367, 0.39473684210526316, 0.21052631578947367, 0.10526315789473684, 0.1578947368421053, 0.39473684210526316, 0.3421052631578947, 0.3157894736842105, 0.13157894736842102, 0.42105263157894735, 0.21052631578947367]}, {\"marker\": {\"maxdisplayed\": 10}, \"mode\": \"lines+markers\", \"name\": \"Trial5\", \"type\": \"scatter\", \"x\": [0, 1, 2, 3, 4, 5, 6, 7, 8, 9, 10, 11, 12, 13, 14, 15, 16, 17, 18, 19, 20, 21, 22, 23, 24, 25, 26, 27, 28, 29, 30, 31, 32, 33, 34, 35, 36, 37, 38, 39, 40, 41, 42, 43, 44, 45, 46, 47, 48, 49, 50, 51, 52, 53, 54, 55, 56, 57, 58, 59, 60, 61, 62, 63, 64, 65, 66, 67, 68, 69, 70, 71, 72, 73, 74, 75, 76, 77, 78, 79, 80, 81, 82, 83, 84, 85, 86, 87, 88, 89, 90, 91, 92, 93, 94, 95, 96, 97, 98, 99], \"y\": [0.42105263157894735, 0.42105263157894735, 0.39473684210526316, 0.39473684210526316, 0.42105263157894735, 0.42105263157894735, 0.42105263157894735, 0.07894736842105265, 0.39473684210526316, 0.42105263157894735, 0.39473684210526316, 0.39473684210526316, 0.07894736842105265, 0.052631578947368474, 0.3421052631578947, 0.39473684210526316, 0.07894736842105265, 0.2894736842105263, 0.39473684210526316, 0.368421052631579, 0.3157894736842105, 0.13157894736842102, 0.07894736842105265, 0.1578947368421053, 0.39473684210526316, 0.1842105263157895, 0.23684210526315785, 0.39473684210526316, 0.3157894736842105, 0.02631578947368418, 0.13157894736842102, 0.02631578947368418, 0.02631578947368418, 0.052631578947368474, 0.3421052631578947, 0.13157894736842102, 0.052631578947368474, 0.39473684210526316, 0.1842105263157895, 0.07894736842105265, 0.1842105263157895, 0.02631578947368418, 0.26315789473684215, 0.02631578947368418, 0.07894736842105265, 0.1842105263157895, 0.10526315789473684, 0.1842105263157895, 0.21052631578947367, 0.07894736842105265, 0.07894736842105265, 0.02631578947368418, 0.368421052631579, 0.3421052631578947, 0.39473684210526316, 0.23684210526315785, 0.1842105263157895, 0.368421052631579, 0.26315789473684215, 0.1842105263157895, 0.26315789473684215, 0.368421052631579, 0.26315789473684215, 0.07894736842105265, 0.07894736842105265, 0.02631578947368418, 0.26315789473684215, 0.052631578947368474, 0.1842105263157895, 0.07894736842105265, 0.26315789473684215, 0.1842105263157895, 0.07894736842105265, 0.02631578947368418, 0.02631578947368418, 0.21052631578947367, 0.052631578947368474, 0.23684210526315785, 0.07894736842105265, 0.07894736842105265, 0.1842105263157895, 0.23684210526315785, 0.1842105263157895, 0.1842105263157895, 0.07894736842105265, 0.07894736842105265, 0.21052631578947367, 0.23684210526315785, 0.02631578947368418, 0.07894736842105265, 0.07894736842105265, 0.1842105263157895, 0.23684210526315785, 0.07894736842105265, 0.02631578947368418, 0.1842105263157895, 0.23684210526315785, 0.07894736842105265, 0.02631578947368418, 0.3157894736842105]}, {\"marker\": {\"maxdisplayed\": 10}, \"mode\": \"lines+markers\", \"name\": \"Trial6\", \"type\": \"scatter\", \"x\": [0, 1, 2], \"y\": [0.42105263157894735, 0.42105263157894735, 0.42105263157894735]}, {\"marker\": {\"maxdisplayed\": 10}, \"mode\": \"lines+markers\", \"name\": \"Trial7\", \"type\": \"scatter\", \"x\": [0, 1, 2, 3, 4, 5, 6, 7, 8, 9, 10, 11, 12], \"y\": [0.23684210526315785, 0.1842105263157895, 0.42105263157894735, 0.23684210526315785, 0.13157894736842102, 0.1842105263157895, 0.42105263157894735, 0.1842105263157895, 0.42105263157894735, 0.39473684210526316, 0.13157894736842102, 0.42105263157894735, 0.42105263157894735]}, {\"marker\": {\"maxdisplayed\": 10}, \"mode\": \"lines+markers\", \"name\": \"Trial8\", \"type\": \"scatter\", \"x\": [0], \"y\": [0.5789473684210527]}, {\"marker\": {\"maxdisplayed\": 10}, \"mode\": \"lines+markers\", \"name\": \"Trial9\", \"type\": \"scatter\", \"x\": [0, 1, 2, 3, 4, 5, 6, 7, 8, 9, 10, 11, 12, 13, 14, 15, 16, 17, 18, 19, 20, 21, 22, 23, 24, 25, 26, 27, 28, 29, 30, 31, 32, 33, 34, 35, 36, 37, 38, 39, 40, 41, 42, 43, 44, 45, 46, 47, 48, 49, 50, 51, 52, 53, 54, 55, 56, 57, 58, 59, 60, 61, 62, 63, 64, 65, 66, 67, 68, 69, 70, 71, 72, 73, 74, 75, 76, 77, 78, 79, 80, 81, 82, 83, 84, 85, 86, 87, 88, 89, 90, 91, 92, 93, 94, 95, 96, 97, 98, 99], \"y\": [0.42105263157894735, 0.21052631578947367, 0.42105263157894735, 0.3157894736842105, 0.42105263157894735, 0.052631578947368474, 0.368421052631579, 0.42105263157894735, 0.052631578947368474, 0.42105263157894735, 0.39473684210526316, 0.42105263157894735, 0.4473684210526315, 0.13157894736842102, 0.3421052631578947, 0.1842105263157895, 0.3421052631578947, 0.13157894736842102, 0.3421052631578947, 0.10526315789473684, 0.23684210526315785, 0.052631578947368474, 0.368421052631579, 0.1578947368421053, 0.39473684210526316, 0.052631578947368474, 0.13157894736842102, 0.1842105263157895, 0.02631578947368418, 0.368421052631579, 0.13157894736842102, 0.1842105263157895, 0.02631578947368418, 0.07894736842105265, 0.07894736842105265, 0.052631578947368474, 0.3421052631578947, 0.39473684210526316, 0.052631578947368474, 0.1842105263157895, 0.26315789473684215, 0.07894736842105265, 0.02631578947368418, 0.02631578947368418, 0.1842105263157895, 0.2894736842105263, 0.10526315789473684, 0.3421052631578947, 0.07894736842105265, 0.10526315789473684, 0.07894736842105265, 0.1578947368421053, 0.02631578947368418, 0.07894736842105265, 0.3421052631578947, 0.3157894736842105, 0.39473684210526316, 0.1842105263157895, 0.26315789473684215, 0.07894736842105265, 0.21052631578947367, 0.02631578947368418, 0.07894736842105265, 0.052631578947368474, 0.07894736842105265, 0.3421052631578947, 0.21052631578947367, 0.368421052631579, 0.052631578947368474, 0.23684210526315785, 0.1842105263157895, 0.21052631578947367, 0.10526315789473684, 0.02631578947368418, 0.13157894736842102, 0.10526315789473684, 0.052631578947368474, 0.21052631578947367, 0.052631578947368474, 0.052631578947368474, 0.07894736842105265, 0.1842105263157895, 0.1842105263157895, 0.02631578947368418, 0.21052631578947367, 0.21052631578947367, 0.02631578947368418, 0.02631578947368418, 0.23684210526315785, 0.13157894736842102, 0.02631578947368418, 0.07894736842105265, 0.13157894736842102, 0.052631578947368474, 0.02631578947368418, 0.13157894736842102, 0.02631578947368418, 0.02631578947368418, 0.02631578947368418, 0.02631578947368418]}, {\"marker\": {\"maxdisplayed\": 10}, \"mode\": \"lines+markers\", \"name\": \"Trial10\", \"type\": \"scatter\", \"x\": [0], \"y\": [0.5263157894736843]}, {\"marker\": {\"maxdisplayed\": 10}, \"mode\": \"lines+markers\", \"name\": \"Trial11\", \"type\": \"scatter\", \"x\": [0, 1, 2, 3, 4, 5, 6, 7, 8, 9, 10, 11, 12, 13, 14, 15, 16, 17, 18, 19, 20, 21, 22, 23, 24, 25, 26, 27, 28, 29, 30, 31, 32, 33, 34, 35, 36, 37, 38, 39, 40, 41, 42, 43, 44, 45, 46, 47, 48, 49, 50, 51, 52, 53, 54, 55, 56, 57, 58, 59, 60, 61, 62, 63, 64, 65, 66, 67, 68, 69, 70, 71, 72, 73, 74, 75, 76, 77, 78, 79, 80, 81, 82, 83, 84, 85, 86, 87, 88, 89, 90, 91, 92, 93, 94, 95, 96, 97, 98, 99], \"y\": [0.42105263157894735, 0.368421052631579, 0.5789473684210527, 0.3421052631578947, 0.42105263157894735, 0.42105263157894735, 0.42105263157894735, 0.13157894736842102, 0.39473684210526316, 0.42105263157894735, 0.07894736842105265, 0.1578947368421053, 0.42105263157894735, 0.26315789473684215, 0.39473684210526316, 0.13157894736842102, 0.1842105263157895, 0.3421052631578947, 0.39473684210526316, 0.052631578947368474, 0.368421052631579, 0.39473684210526316, 0.07894736842105265, 0.02631578947368418, 0.2894736842105263, 0.3421052631578947, 0.1578947368421053, 0.3157894736842105, 0.052631578947368474, 0.052631578947368474, 0.02631578947368418, 0.052631578947368474, 0.07894736842105265, 0.3157894736842105, 0.39473684210526316, 0.07894736842105265, 0.368421052631579, 0.052631578947368474, 0.39473684210526316, 0.052631578947368474, 0.3421052631578947, 0.23684210526315785, 0.21052631578947367, 0.07894736842105265, 0.1578947368421053, 0.26315789473684215, 0.07894736842105265, 0.21052631578947367, 0.26315789473684215, 0.1842105263157895, 0.07894736842105265, 0.052631578947368474, 0.21052631578947367, 0.02631578947368418, 0.3421052631578947, 0.23684210526315785, 0.21052631578947367, 0.07894736842105265, 0.052631578947368474, 0.23684210526315785, 0.02631578947368418, 0.02631578947368418, 0.07894736842105265, 0.23684210526315785, 0.23684210526315785, 0.02631578947368418, 0.23684210526315785, 0.07894736842105265, 0.1578947368421053, 0.1578947368421053, 0.26315789473684215, 0.052631578947368474, 0.07894736842105265, 0.1842105263157895, 0.10526315789473684, 0.052631578947368474, 0.052631578947368474, 0.1578947368421053, 0.1842105263157895, 0.02631578947368418, 0.052631578947368474, 0.07894736842105265, 0.26315789473684215, 0.07894736842105265, 0.23684210526315785, 0.26315789473684215, 0.23684210526315785, 0.02631578947368418, 0.23684210526315785, 0.07894736842105265, 0.02631578947368418, 0.02631578947368418, 0.02631578947368418, 0.23684210526315785, 0.02631578947368418, 0.07894736842105265, 0.02631578947368418, 0.3157894736842105, 0.02631578947368418, 0.052631578947368474]}, {\"marker\": {\"maxdisplayed\": 10}, \"mode\": \"lines+markers\", \"name\": \"Trial12\", \"type\": \"scatter\", \"x\": [0], \"y\": [0.5789473684210527]}, {\"marker\": {\"maxdisplayed\": 10}, \"mode\": \"lines+markers\", \"name\": \"Trial13\", \"type\": \"scatter\", \"x\": [0, 1, 2, 3, 4, 5, 6, 7, 8, 9, 10, 11, 12, 13, 14, 15, 16, 17, 18, 19, 20, 21, 22, 23, 24, 25, 26, 27, 28, 29, 30, 31, 32, 33, 34, 35, 36, 37, 38, 39, 40, 41, 42, 43, 44, 45, 46, 47, 48, 49, 50, 51, 52, 53, 54, 55, 56, 57, 58, 59, 60, 61, 62, 63, 64, 65, 66, 67, 68, 69, 70, 71, 72, 73, 74, 75, 76, 77, 78, 79, 80, 81, 82, 83, 84, 85, 86, 87, 88, 89, 90, 91, 92, 93, 94, 95, 96, 97, 98, 99], \"y\": [0.26315789473684215, 0.6578947368421053, 0.2894736842105263, 0.13157894736842102, 0.02631578947368418, 0.052631578947368474, 0.42105263157894735, 0.42105263157894735, 0.07894736842105265, 0.23684210526315785, 0.1842105263157895, 0.3157894736842105, 0.42105263157894735, 0.42105263157894735, 0.368421052631579, 0.39473684210526316, 0.3157894736842105, 0.1842105263157895, 0.07894736842105265, 0.42105263157894735, 0.02631578947368418, 0.3157894736842105, 0.3421052631578947, 0.3157894736842105, 0.3157894736842105, 0.3421052631578947, 0.3421052631578947, 0.3157894736842105, 0.02631578947368418, 0.07894736842105265, 0.07894736842105265, 0.02631578947368418, 0.368421052631579, 0.3421052631578947, 0.3421052631578947, 0.39473684210526316, 0.2894736842105263, 0.13157894736842102, 0.3421052631578947, 0.3157894736842105, 0.39473684210526316, 0.21052631578947367, 0.3421052631578947, 0.2894736842105263, 0.368421052631579, 0.3421052631578947, 0.3157894736842105, 0.052631578947368474, 0.13157894736842102, 0.3157894736842105, 0.13157894736842102, 0.2894736842105263, 0.3421052631578947, 0.3421052631578947, 0.3157894736842105, 0.3421052631578947, 0.3157894736842105, 0.3157894736842105, 0.1842105263157895, 0.3421052631578947, 0.3421052631578947, 0.39473684210526316, 0.3421052631578947, 0.3421052631578947, 0.3157894736842105, 0.13157894736842102, 0.3421052631578947, 0.3421052631578947, 0.2894736842105263, 0.3157894736842105, 0.3157894736842105, 0.368421052631579, 0.2894736842105263, 0.2894736842105263, 0.13157894736842102, 0.07894736842105265, 0.2894736842105263, 0.21052631578947367, 0.2894736842105263, 0.3421052631578947, 0.3157894736842105, 0.2894736842105263, 0.3421052631578947, 0.2894736842105263, 0.3157894736842105, 0.3421052631578947, 0.2894736842105263, 0.3421052631578947, 0.3421052631578947, 0.3157894736842105, 0.3157894736842105, 0.2894736842105263, 0.13157894736842102, 0.3157894736842105, 0.3157894736842105, 0.2894736842105263, 0.3157894736842105, 0.3157894736842105, 0.2894736842105263, 0.3157894736842105]}, {\"marker\": {\"maxdisplayed\": 10}, \"mode\": \"lines+markers\", \"name\": \"Trial14\", \"type\": \"scatter\", \"x\": [0, 1, 2, 3, 4, 5, 6, 7, 8, 9, 10, 11, 12, 13, 14, 15, 16, 17, 18, 19, 20, 21, 22, 23, 24, 25, 26, 27, 28, 29, 30, 31, 32, 33, 34, 35, 36, 37, 38, 39, 40, 41, 42, 43, 44, 45, 46, 47, 48, 49, 50, 51, 52, 53, 54, 55, 56, 57, 58, 59, 60, 61, 62, 63, 64, 65, 66, 67, 68, 69, 70, 71, 72, 73, 74, 75, 76, 77, 78, 79, 80, 81, 82, 83, 84, 85, 86, 87, 88, 89, 90, 91, 92, 93, 94, 95, 96, 97, 98, 99], \"y\": [0.1842105263157895, 0.5263157894736843, 0.23684210526315785, 0.07894736842105265, 0.13157894736842102, 0.42105263157894735, 0.368421052631579, 0.3421052631578947, 0.3157894736842105, 0.39473684210526316, 0.42105263157894735, 0.42105263157894735, 0.39473684210526316, 0.052631578947368474, 0.39473684210526316, 0.42105263157894735, 0.10526315789473684, 0.02631578947368418, 0.13157894736842102, 0.052631578947368474, 0.368421052631579, 0.21052631578947367, 0.02631578947368418, 0.02631578947368418, 0.13157894736842102, 0.1842105263157895, 0.13157894736842102, 0.368421052631579, 0.13157894736842102, 0.3157894736842105, 0.02631578947368418, 0.07894736842105265, 0.02631578947368418, 0.052631578947368474, 0.02631578947368418, 0.23684210526315785, 0.23684210526315785, 0.02631578947368418, 0.3157894736842105, 0.13157894736842102, 0.052631578947368474, 0.1842105263157895, 0.07894736842105265, 0.23684210526315785, 0.07894736842105265, 0.3157894736842105, 0.1842105263157895, 0.02631578947368418, 0.3421052631578947, 0.39473684210526316, 0.3157894736842105, 0.3157894736842105, 0.052631578947368474, 0.07894736842105265, 0.39473684210526316, 0.07894736842105265, 0.052631578947368474, 0.02631578947368418, 0.21052631578947367, 0.07894736842105265, 0.26315789473684215, 0.07894736842105265, 0.02631578947368418, 0.02631578947368418, 0.07894736842105265, 0.07894736842105265, 0.3157894736842105, 0.3421052631578947, 0.13157894736842102, 0.052631578947368474, 0.368421052631579, 0.07894736842105265, 0.26315789473684215, 0.052631578947368474, 0.07894736842105265, 0.23684210526315785, 0.3421052631578947, 0.07894736842105265, 0.07894736842105265, 0.26315789473684215, 0.052631578947368474, 0.13157894736842102, 0.07894736842105265, 0.07894736842105265, 0.052631578947368474, 0.07894736842105265, 0.052631578947368474, 0.1842105263157895, 0.07894736842105265, 0.07894736842105265, 0.26315789473684215, 0.052631578947368474, 0.052631578947368474, 0.1842105263157895, 0.07894736842105265, 0.1842105263157895, 0.21052631578947367, 0.052631578947368474, 0.07894736842105265, 0.02631578947368418]}, {\"marker\": {\"maxdisplayed\": 10}, \"mode\": \"lines+markers\", \"name\": \"Trial15\", \"type\": \"scatter\", \"x\": [0, 1, 2, 3, 4, 5, 6, 7, 8, 9, 10, 11, 12, 13, 14, 15, 16, 17, 18, 19, 20, 21, 22, 23, 24, 25, 26, 27, 28, 29, 30, 31, 32, 33, 34, 35, 36, 37, 38, 39, 40, 41, 42, 43, 44, 45, 46, 47, 48, 49, 50, 51, 52, 53, 54, 55, 56, 57, 58, 59, 60, 61, 62, 63, 64, 65, 66, 67, 68, 69, 70, 71, 72, 73, 74, 75, 76, 77, 78, 79, 80, 81, 82, 83, 84, 85, 86, 87, 88, 89, 90, 91, 92, 93, 94, 95, 96, 97, 98, 99], \"y\": [0.1842105263157895, 0.42105263157894735, 0.23684210526315785, 0.6052631578947368, 0.23684210526315785, 0.42105263157894735, 0.1842105263157895, 0.39473684210526316, 0.39473684210526316, 0.42105263157894735, 0.07894736842105265, 0.13157894736842102, 0.13157894736842102, 0.42105263157894735, 0.42105263157894735, 0.42105263157894735, 0.39473684210526316, 0.1842105263157895, 0.3157894736842105, 0.13157894736842102, 0.1842105263157895, 0.10526315789473684, 0.07894736842105265, 0.3421052631578947, 0.13157894736842102, 0.3157894736842105, 0.42105263157894735, 0.1842105263157895, 0.4473684210526315, 0.07894736842105265, 0.13157894736842102, 0.052631578947368474, 0.10526315789473684, 0.10526315789473684, 0.13157894736842102, 0.13157894736842102, 0.07894736842105265, 0.052631578947368474, 0.052631578947368474, 0.368421052631579, 0.02631578947368418, 0.02631578947368418, 0.39473684210526316, 0.3157894736842105, 0.07894736842105265, 0.02631578947368418, 0.21052631578947367, 0.10526315789473684, 0.10526315789473684, 0.052631578947368474, 0.368421052631579, 0.39473684210526316, 0.10526315789473684, 0.07894736842105265, 0.052631578947368474, 0.42105263157894735, 0.3157894736842105, 0.26315789473684215, 0.23684210526315785, 0.02631578947368418, 0.07894736842105265, 0.07894736842105265, 0.052631578947368474, 0.368421052631579, 0.052631578947368474, 0.052631578947368474, 0.3157894736842105, 0.052631578947368474, 0.368421052631579, 0.368421052631579, 0.2894736842105263, 0.42105263157894735, 0.368421052631579, 0.07894736842105265, 0.39473684210526316, 0.052631578947368474, 0.39473684210526316, 0.1578947368421053, 0.02631578947368418, 0.2894736842105263, 0.1578947368421053, 0.3157894736842105, 0.07894736842105265, 0.02631578947368418, 0.26315789473684215, 0.3421052631578947, 0.052631578947368474, 0.07894736842105265, 0.21052631578947367, 0.07894736842105265, 0.052631578947368474, 0.02631578947368418, 0.3421052631578947, 0.052631578947368474, 0.07894736842105265, 0.052631578947368474, 0.23684210526315785, 0.052631578947368474, 0.02631578947368418, 0.2894736842105263]}, {\"marker\": {\"maxdisplayed\": 10}, \"mode\": \"lines+markers\", \"name\": \"Trial16\", \"type\": \"scatter\", \"x\": [0, 1, 2], \"y\": [0.42105263157894735, 0.5, 0.631578947368421]}, {\"marker\": {\"maxdisplayed\": 10}, \"mode\": \"lines+markers\", \"name\": \"Trial17\", \"type\": \"scatter\", \"x\": [0, 1, 2], \"y\": [0.42105263157894735, 0.42105263157894735, 0.42105263157894735]}, {\"marker\": {\"maxdisplayed\": 10}, \"mode\": \"lines+markers\", \"name\": \"Trial18\", \"type\": \"scatter\", \"x\": [0, 1, 2], \"y\": [0.42105263157894735, 0.42105263157894735, 0.4473684210526315]}, {\"marker\": {\"maxdisplayed\": 10}, \"mode\": \"lines+markers\", \"name\": \"Trial19\", \"type\": \"scatter\", \"x\": [0], \"y\": [0.6578947368421053]}],\n",
              "                        {\"showlegend\": false, \"template\": {\"data\": {\"bar\": [{\"error_x\": {\"color\": \"#2a3f5f\"}, \"error_y\": {\"color\": \"#2a3f5f\"}, \"marker\": {\"line\": {\"color\": \"#E5ECF6\", \"width\": 0.5}}, \"type\": \"bar\"}], \"barpolar\": [{\"marker\": {\"line\": {\"color\": \"#E5ECF6\", \"width\": 0.5}}, \"type\": \"barpolar\"}], \"carpet\": [{\"aaxis\": {\"endlinecolor\": \"#2a3f5f\", \"gridcolor\": \"white\", \"linecolor\": \"white\", \"minorgridcolor\": \"white\", \"startlinecolor\": \"#2a3f5f\"}, \"baxis\": {\"endlinecolor\": \"#2a3f5f\", \"gridcolor\": \"white\", \"linecolor\": \"white\", \"minorgridcolor\": \"white\", \"startlinecolor\": \"#2a3f5f\"}, \"type\": \"carpet\"}], \"choropleth\": [{\"colorbar\": {\"outlinewidth\": 0, \"ticks\": \"\"}, \"type\": \"choropleth\"}], \"contour\": [{\"colorbar\": {\"outlinewidth\": 0, \"ticks\": \"\"}, \"colorscale\": [[0.0, \"#0d0887\"], [0.1111111111111111, \"#46039f\"], [0.2222222222222222, \"#7201a8\"], [0.3333333333333333, \"#9c179e\"], [0.4444444444444444, \"#bd3786\"], [0.5555555555555556, \"#d8576b\"], [0.6666666666666666, \"#ed7953\"], [0.7777777777777778, \"#fb9f3a\"], [0.8888888888888888, \"#fdca26\"], [1.0, \"#f0f921\"]], \"type\": \"contour\"}], \"contourcarpet\": [{\"colorbar\": {\"outlinewidth\": 0, \"ticks\": \"\"}, \"type\": \"contourcarpet\"}], \"heatmap\": [{\"colorbar\": {\"outlinewidth\": 0, \"ticks\": \"\"}, \"colorscale\": [[0.0, \"#0d0887\"], [0.1111111111111111, \"#46039f\"], [0.2222222222222222, \"#7201a8\"], [0.3333333333333333, \"#9c179e\"], [0.4444444444444444, \"#bd3786\"], [0.5555555555555556, \"#d8576b\"], [0.6666666666666666, \"#ed7953\"], [0.7777777777777778, \"#fb9f3a\"], [0.8888888888888888, \"#fdca26\"], [1.0, \"#f0f921\"]], \"type\": \"heatmap\"}], \"heatmapgl\": [{\"colorbar\": {\"outlinewidth\": 0, \"ticks\": \"\"}, \"colorscale\": [[0.0, \"#0d0887\"], [0.1111111111111111, \"#46039f\"], [0.2222222222222222, \"#7201a8\"], [0.3333333333333333, \"#9c179e\"], [0.4444444444444444, \"#bd3786\"], [0.5555555555555556, \"#d8576b\"], [0.6666666666666666, \"#ed7953\"], [0.7777777777777778, \"#fb9f3a\"], [0.8888888888888888, \"#fdca26\"], [1.0, \"#f0f921\"]], \"type\": \"heatmapgl\"}], \"histogram\": [{\"marker\": {\"colorbar\": {\"outlinewidth\": 0, \"ticks\": \"\"}}, \"type\": \"histogram\"}], \"histogram2d\": [{\"colorbar\": {\"outlinewidth\": 0, \"ticks\": \"\"}, \"colorscale\": [[0.0, \"#0d0887\"], [0.1111111111111111, \"#46039f\"], [0.2222222222222222, \"#7201a8\"], [0.3333333333333333, \"#9c179e\"], [0.4444444444444444, \"#bd3786\"], [0.5555555555555556, \"#d8576b\"], [0.6666666666666666, \"#ed7953\"], [0.7777777777777778, \"#fb9f3a\"], [0.8888888888888888, \"#fdca26\"], [1.0, \"#f0f921\"]], \"type\": \"histogram2d\"}], \"histogram2dcontour\": [{\"colorbar\": {\"outlinewidth\": 0, \"ticks\": \"\"}, \"colorscale\": [[0.0, \"#0d0887\"], [0.1111111111111111, \"#46039f\"], [0.2222222222222222, \"#7201a8\"], [0.3333333333333333, \"#9c179e\"], [0.4444444444444444, \"#bd3786\"], [0.5555555555555556, \"#d8576b\"], [0.6666666666666666, \"#ed7953\"], [0.7777777777777778, \"#fb9f3a\"], [0.8888888888888888, \"#fdca26\"], [1.0, \"#f0f921\"]], \"type\": \"histogram2dcontour\"}], \"mesh3d\": [{\"colorbar\": {\"outlinewidth\": 0, \"ticks\": \"\"}, \"type\": \"mesh3d\"}], \"parcoords\": [{\"line\": {\"colorbar\": {\"outlinewidth\": 0, \"ticks\": \"\"}}, \"type\": \"parcoords\"}], \"pie\": [{\"automargin\": true, \"type\": \"pie\"}], \"scatter\": [{\"marker\": {\"colorbar\": {\"outlinewidth\": 0, \"ticks\": \"\"}}, \"type\": \"scatter\"}], \"scatter3d\": [{\"line\": {\"colorbar\": {\"outlinewidth\": 0, \"ticks\": \"\"}}, \"marker\": {\"colorbar\": {\"outlinewidth\": 0, \"ticks\": \"\"}}, \"type\": \"scatter3d\"}], \"scattercarpet\": [{\"marker\": {\"colorbar\": {\"outlinewidth\": 0, \"ticks\": \"\"}}, \"type\": \"scattercarpet\"}], \"scattergeo\": [{\"marker\": {\"colorbar\": {\"outlinewidth\": 0, \"ticks\": \"\"}}, \"type\": \"scattergeo\"}], \"scattergl\": [{\"marker\": {\"colorbar\": {\"outlinewidth\": 0, \"ticks\": \"\"}}, \"type\": \"scattergl\"}], \"scattermapbox\": [{\"marker\": {\"colorbar\": {\"outlinewidth\": 0, \"ticks\": \"\"}}, \"type\": \"scattermapbox\"}], \"scatterpolar\": [{\"marker\": {\"colorbar\": {\"outlinewidth\": 0, \"ticks\": \"\"}}, \"type\": \"scatterpolar\"}], \"scatterpolargl\": [{\"marker\": {\"colorbar\": {\"outlinewidth\": 0, \"ticks\": \"\"}}, \"type\": \"scatterpolargl\"}], \"scatterternary\": [{\"marker\": {\"colorbar\": {\"outlinewidth\": 0, \"ticks\": \"\"}}, \"type\": \"scatterternary\"}], \"surface\": [{\"colorbar\": {\"outlinewidth\": 0, \"ticks\": \"\"}, \"colorscale\": [[0.0, \"#0d0887\"], [0.1111111111111111, \"#46039f\"], [0.2222222222222222, \"#7201a8\"], [0.3333333333333333, \"#9c179e\"], [0.4444444444444444, \"#bd3786\"], [0.5555555555555556, \"#d8576b\"], [0.6666666666666666, \"#ed7953\"], [0.7777777777777778, \"#fb9f3a\"], [0.8888888888888888, \"#fdca26\"], [1.0, \"#f0f921\"]], \"type\": \"surface\"}], \"table\": [{\"cells\": {\"fill\": {\"color\": \"#EBF0F8\"}, \"line\": {\"color\": \"white\"}}, \"header\": {\"fill\": {\"color\": \"#C8D4E3\"}, \"line\": {\"color\": \"white\"}}, \"type\": \"table\"}]}, \"layout\": {\"annotationdefaults\": {\"arrowcolor\": \"#2a3f5f\", \"arrowhead\": 0, \"arrowwidth\": 1}, \"coloraxis\": {\"colorbar\": {\"outlinewidth\": 0, \"ticks\": \"\"}}, \"colorscale\": {\"diverging\": [[0, \"#8e0152\"], [0.1, \"#c51b7d\"], [0.2, \"#de77ae\"], [0.3, \"#f1b6da\"], [0.4, \"#fde0ef\"], [0.5, \"#f7f7f7\"], [0.6, \"#e6f5d0\"], [0.7, \"#b8e186\"], [0.8, \"#7fbc41\"], [0.9, \"#4d9221\"], [1, \"#276419\"]], \"sequential\": [[0.0, \"#0d0887\"], [0.1111111111111111, \"#46039f\"], [0.2222222222222222, \"#7201a8\"], [0.3333333333333333, \"#9c179e\"], [0.4444444444444444, \"#bd3786\"], [0.5555555555555556, \"#d8576b\"], [0.6666666666666666, \"#ed7953\"], [0.7777777777777778, \"#fb9f3a\"], [0.8888888888888888, \"#fdca26\"], [1.0, \"#f0f921\"]], \"sequentialminus\": [[0.0, \"#0d0887\"], [0.1111111111111111, \"#46039f\"], [0.2222222222222222, \"#7201a8\"], [0.3333333333333333, \"#9c179e\"], [0.4444444444444444, \"#bd3786\"], [0.5555555555555556, \"#d8576b\"], [0.6666666666666666, \"#ed7953\"], [0.7777777777777778, \"#fb9f3a\"], [0.8888888888888888, \"#fdca26\"], [1.0, \"#f0f921\"]]}, \"colorway\": [\"#636efa\", \"#EF553B\", \"#00cc96\", \"#ab63fa\", \"#FFA15A\", \"#19d3f3\", \"#FF6692\", \"#B6E880\", \"#FF97FF\", \"#FECB52\"], \"font\": {\"color\": \"#2a3f5f\"}, \"geo\": {\"bgcolor\": \"white\", \"lakecolor\": \"white\", \"landcolor\": \"#E5ECF6\", \"showlakes\": true, \"showland\": true, \"subunitcolor\": \"white\"}, \"hoverlabel\": {\"align\": \"left\"}, \"hovermode\": \"closest\", \"mapbox\": {\"style\": \"light\"}, \"paper_bgcolor\": \"white\", \"plot_bgcolor\": \"#E5ECF6\", \"polar\": {\"angularaxis\": {\"gridcolor\": \"white\", \"linecolor\": \"white\", \"ticks\": \"\"}, \"bgcolor\": \"#E5ECF6\", \"radialaxis\": {\"gridcolor\": \"white\", \"linecolor\": \"white\", \"ticks\": \"\"}}, \"scene\": {\"xaxis\": {\"backgroundcolor\": \"#E5ECF6\", \"gridcolor\": \"white\", \"gridwidth\": 2, \"linecolor\": \"white\", \"showbackground\": true, \"ticks\": \"\", \"zerolinecolor\": \"white\"}, \"yaxis\": {\"backgroundcolor\": \"#E5ECF6\", \"gridcolor\": \"white\", \"gridwidth\": 2, \"linecolor\": \"white\", \"showbackground\": true, \"ticks\": \"\", \"zerolinecolor\": \"white\"}, \"zaxis\": {\"backgroundcolor\": \"#E5ECF6\", \"gridcolor\": \"white\", \"gridwidth\": 2, \"linecolor\": \"white\", \"showbackground\": true, \"ticks\": \"\", \"zerolinecolor\": \"white\"}}, \"shapedefaults\": {\"line\": {\"color\": \"#2a3f5f\"}}, \"ternary\": {\"aaxis\": {\"gridcolor\": \"white\", \"linecolor\": \"white\", \"ticks\": \"\"}, \"baxis\": {\"gridcolor\": \"white\", \"linecolor\": \"white\", \"ticks\": \"\"}, \"bgcolor\": \"#E5ECF6\", \"caxis\": {\"gridcolor\": \"white\", \"linecolor\": \"white\", \"ticks\": \"\"}}, \"title\": {\"x\": 0.05}, \"xaxis\": {\"automargin\": true, \"gridcolor\": \"white\", \"linecolor\": \"white\", \"ticks\": \"\", \"title\": {\"standoff\": 15}, \"zerolinecolor\": \"white\", \"zerolinewidth\": 2}, \"yaxis\": {\"automargin\": true, \"gridcolor\": \"white\", \"linecolor\": \"white\", \"ticks\": \"\", \"title\": {\"standoff\": 15}, \"zerolinecolor\": \"white\", \"zerolinewidth\": 2}}}, \"title\": {\"text\": \"Intermediate Values Plot\"}, \"xaxis\": {\"title\": {\"text\": \"Step\"}}, \"yaxis\": {\"title\": {\"text\": \"Intermediate Value\"}}},\n",
              "                        {\"responsive\": true}\n",
              "                    ).then(function(){\n",
              "                            \n",
              "var gd = document.getElementById('082ac9e2-eaea-4bc7-8a3d-ab0054ce5fec');\n",
              "var x = new MutationObserver(function (mutations, observer) {{\n",
              "        var display = window.getComputedStyle(gd).display;\n",
              "        if (!display || display === 'none') {{\n",
              "            console.log([gd, 'removed!']);\n",
              "            Plotly.purge(gd);\n",
              "            observer.disconnect();\n",
              "        }}\n",
              "}});\n",
              "\n",
              "// Listen for the removal of the full notebook cells\n",
              "var notebookContainer = gd.closest('#notebook-container');\n",
              "if (notebookContainer) {{\n",
              "    x.observe(notebookContainer, {childList: true});\n",
              "}}\n",
              "\n",
              "// Listen for the clearing of the current output cell\n",
              "var outputEl = gd.closest('.output');\n",
              "if (outputEl) {{\n",
              "    x.observe(outputEl, {childList: true});\n",
              "}}\n",
              "\n",
              "                        })\n",
              "                };\n",
              "                \n",
              "            </script>\n",
              "        </div>\n",
              "</body>\n",
              "</html>"
            ]
          },
          "metadata": {
            "tags": []
          }
        }
      ]
    },
    {
      "cell_type": "code",
      "metadata": {
        "colab": {
          "base_uri": "https://localhost:8080/",
          "height": 542
        },
        "id": "YBeuTgl1oFAm",
        "outputId": "46984970-a603-4f52-df75-73dc41bf2e06"
      },
      "source": [
        "plot_parallel_coordinate(study)"
      ],
      "execution_count": 41,
      "outputs": [
        {
          "output_type": "display_data",
          "data": {
            "text/html": [
              "<html>\n",
              "<head><meta charset=\"utf-8\" /></head>\n",
              "<body>\n",
              "    <div>\n",
              "            <script src=\"https://cdnjs.cloudflare.com/ajax/libs/mathjax/2.7.5/MathJax.js?config=TeX-AMS-MML_SVG\"></script><script type=\"text/javascript\">if (window.MathJax) {MathJax.Hub.Config({SVG: {font: \"STIX-Web\"}});}</script>\n",
              "                <script type=\"text/javascript\">window.PlotlyConfig = {MathJaxConfig: 'local'};</script>\n",
              "        <script src=\"https://cdn.plot.ly/plotly-latest.min.js\"></script>    \n",
              "            <div id=\"0fa4a186-bdf0-4e98-be41-454d43a82b07\" class=\"plotly-graph-div\" style=\"height:525px; width:100%;\"></div>\n",
              "            <script type=\"text/javascript\">\n",
              "                \n",
              "                    window.PLOTLYENV=window.PLOTLYENV || {};\n",
              "                    \n",
              "                if (document.getElementById(\"0fa4a186-bdf0-4e98-be41-454d43a82b07\")) {\n",
              "                    Plotly.newPlot(\n",
              "                        '0fa4a186-bdf0-4e98-be41-454d43a82b07',\n",
              "                        [{\"dimensions\": [{\"label\": \"Objective Value\", \"range\": [0.02631578947368418, 0.3157894736842105], \"values\": [0.07894736842105265, 0.02631578947368418, 0.02631578947368418, 0.13157894736842102, 0.21052631578947367, 0.3157894736842105, 0.02631578947368418, 0.052631578947368474, 0.3157894736842105, 0.02631578947368418, 0.2894736842105263]}, {\"label\": \"alpha\", \"range\": [1.1592746832646986e-05, 0.07665544495642188], \"values\": [0.0013662705903179186, 0.004003368159817417, 0.0059545487914573455, 0.021997359761954015, 1.1592746832646986e-05, 0.018757167854999732, 0.005029176848297722, 0.006520634486652695, 0.07665544495642188, 0.0185278727879311, 0.0006237871269084932]}], \"labelangle\": 30, \"labelside\": \"bottom\", \"line\": {\"color\": [0.07894736842105265, 0.02631578947368418, 0.02631578947368418, 0.13157894736842102, 0.21052631578947367, 0.3157894736842105, 0.02631578947368418, 0.052631578947368474, 0.3157894736842105, 0.02631578947368418, 0.2894736842105263], \"colorbar\": {\"title\": {\"text\": \"Objective Value\"}}, \"colorscale\": [[0.0, \"rgb(247,251,255)\"], [0.125, \"rgb(222,235,247)\"], [0.25, \"rgb(198,219,239)\"], [0.375, \"rgb(158,202,225)\"], [0.5, \"rgb(107,174,214)\"], [0.625, \"rgb(66,146,198)\"], [0.75, \"rgb(33,113,181)\"], [0.875, \"rgb(8,81,156)\"], [1.0, \"rgb(8,48,107)\"]], \"reversescale\": true, \"showscale\": true}, \"type\": \"parcoords\"}],\n",
              "                        {\"template\": {\"data\": {\"bar\": [{\"error_x\": {\"color\": \"#2a3f5f\"}, \"error_y\": {\"color\": \"#2a3f5f\"}, \"marker\": {\"line\": {\"color\": \"#E5ECF6\", \"width\": 0.5}}, \"type\": \"bar\"}], \"barpolar\": [{\"marker\": {\"line\": {\"color\": \"#E5ECF6\", \"width\": 0.5}}, \"type\": \"barpolar\"}], \"carpet\": [{\"aaxis\": {\"endlinecolor\": \"#2a3f5f\", \"gridcolor\": \"white\", \"linecolor\": \"white\", \"minorgridcolor\": \"white\", \"startlinecolor\": \"#2a3f5f\"}, \"baxis\": {\"endlinecolor\": \"#2a3f5f\", \"gridcolor\": \"white\", \"linecolor\": \"white\", \"minorgridcolor\": \"white\", \"startlinecolor\": \"#2a3f5f\"}, \"type\": \"carpet\"}], \"choropleth\": [{\"colorbar\": {\"outlinewidth\": 0, \"ticks\": \"\"}, \"type\": \"choropleth\"}], \"contour\": [{\"colorbar\": {\"outlinewidth\": 0, \"ticks\": \"\"}, \"colorscale\": [[0.0, \"#0d0887\"], [0.1111111111111111, \"#46039f\"], [0.2222222222222222, \"#7201a8\"], [0.3333333333333333, \"#9c179e\"], [0.4444444444444444, \"#bd3786\"], [0.5555555555555556, \"#d8576b\"], [0.6666666666666666, \"#ed7953\"], [0.7777777777777778, \"#fb9f3a\"], [0.8888888888888888, \"#fdca26\"], [1.0, \"#f0f921\"]], \"type\": \"contour\"}], \"contourcarpet\": [{\"colorbar\": {\"outlinewidth\": 0, \"ticks\": \"\"}, \"type\": \"contourcarpet\"}], \"heatmap\": [{\"colorbar\": {\"outlinewidth\": 0, \"ticks\": \"\"}, \"colorscale\": [[0.0, \"#0d0887\"], [0.1111111111111111, \"#46039f\"], [0.2222222222222222, \"#7201a8\"], [0.3333333333333333, \"#9c179e\"], [0.4444444444444444, \"#bd3786\"], [0.5555555555555556, \"#d8576b\"], [0.6666666666666666, \"#ed7953\"], [0.7777777777777778, \"#fb9f3a\"], [0.8888888888888888, \"#fdca26\"], [1.0, \"#f0f921\"]], \"type\": \"heatmap\"}], \"heatmapgl\": [{\"colorbar\": {\"outlinewidth\": 0, \"ticks\": \"\"}, \"colorscale\": [[0.0, \"#0d0887\"], [0.1111111111111111, \"#46039f\"], [0.2222222222222222, \"#7201a8\"], [0.3333333333333333, \"#9c179e\"], [0.4444444444444444, \"#bd3786\"], [0.5555555555555556, \"#d8576b\"], [0.6666666666666666, \"#ed7953\"], [0.7777777777777778, \"#fb9f3a\"], [0.8888888888888888, \"#fdca26\"], [1.0, \"#f0f921\"]], \"type\": \"heatmapgl\"}], \"histogram\": [{\"marker\": {\"colorbar\": {\"outlinewidth\": 0, \"ticks\": \"\"}}, \"type\": \"histogram\"}], \"histogram2d\": [{\"colorbar\": {\"outlinewidth\": 0, \"ticks\": \"\"}, \"colorscale\": [[0.0, \"#0d0887\"], [0.1111111111111111, \"#46039f\"], [0.2222222222222222, \"#7201a8\"], [0.3333333333333333, \"#9c179e\"], [0.4444444444444444, \"#bd3786\"], [0.5555555555555556, \"#d8576b\"], [0.6666666666666666, \"#ed7953\"], [0.7777777777777778, \"#fb9f3a\"], [0.8888888888888888, \"#fdca26\"], [1.0, \"#f0f921\"]], \"type\": \"histogram2d\"}], \"histogram2dcontour\": [{\"colorbar\": {\"outlinewidth\": 0, \"ticks\": \"\"}, \"colorscale\": [[0.0, \"#0d0887\"], [0.1111111111111111, \"#46039f\"], [0.2222222222222222, \"#7201a8\"], [0.3333333333333333, \"#9c179e\"], [0.4444444444444444, \"#bd3786\"], [0.5555555555555556, \"#d8576b\"], [0.6666666666666666, \"#ed7953\"], [0.7777777777777778, \"#fb9f3a\"], [0.8888888888888888, \"#fdca26\"], [1.0, \"#f0f921\"]], \"type\": \"histogram2dcontour\"}], \"mesh3d\": [{\"colorbar\": {\"outlinewidth\": 0, \"ticks\": \"\"}, \"type\": \"mesh3d\"}], \"parcoords\": [{\"line\": {\"colorbar\": {\"outlinewidth\": 0, \"ticks\": \"\"}}, \"type\": \"parcoords\"}], \"pie\": [{\"automargin\": true, \"type\": \"pie\"}], \"scatter\": [{\"marker\": {\"colorbar\": {\"outlinewidth\": 0, \"ticks\": \"\"}}, \"type\": \"scatter\"}], \"scatter3d\": [{\"line\": {\"colorbar\": {\"outlinewidth\": 0, \"ticks\": \"\"}}, \"marker\": {\"colorbar\": {\"outlinewidth\": 0, \"ticks\": \"\"}}, \"type\": \"scatter3d\"}], \"scattercarpet\": [{\"marker\": {\"colorbar\": {\"outlinewidth\": 0, \"ticks\": \"\"}}, \"type\": \"scattercarpet\"}], \"scattergeo\": [{\"marker\": {\"colorbar\": {\"outlinewidth\": 0, \"ticks\": \"\"}}, \"type\": \"scattergeo\"}], \"scattergl\": [{\"marker\": {\"colorbar\": {\"outlinewidth\": 0, \"ticks\": \"\"}}, \"type\": \"scattergl\"}], \"scattermapbox\": [{\"marker\": {\"colorbar\": {\"outlinewidth\": 0, \"ticks\": \"\"}}, \"type\": \"scattermapbox\"}], \"scatterpolar\": [{\"marker\": {\"colorbar\": {\"outlinewidth\": 0, \"ticks\": \"\"}}, \"type\": \"scatterpolar\"}], \"scatterpolargl\": [{\"marker\": {\"colorbar\": {\"outlinewidth\": 0, \"ticks\": \"\"}}, \"type\": \"scatterpolargl\"}], \"scatterternary\": [{\"marker\": {\"colorbar\": {\"outlinewidth\": 0, \"ticks\": \"\"}}, \"type\": \"scatterternary\"}], \"surface\": [{\"colorbar\": {\"outlinewidth\": 0, \"ticks\": \"\"}, \"colorscale\": [[0.0, \"#0d0887\"], [0.1111111111111111, \"#46039f\"], [0.2222222222222222, \"#7201a8\"], [0.3333333333333333, \"#9c179e\"], [0.4444444444444444, \"#bd3786\"], [0.5555555555555556, \"#d8576b\"], [0.6666666666666666, \"#ed7953\"], [0.7777777777777778, \"#fb9f3a\"], [0.8888888888888888, \"#fdca26\"], [1.0, \"#f0f921\"]], \"type\": \"surface\"}], \"table\": [{\"cells\": {\"fill\": {\"color\": \"#EBF0F8\"}, \"line\": {\"color\": \"white\"}}, \"header\": {\"fill\": {\"color\": \"#C8D4E3\"}, \"line\": {\"color\": \"white\"}}, \"type\": \"table\"}]}, \"layout\": {\"annotationdefaults\": {\"arrowcolor\": \"#2a3f5f\", \"arrowhead\": 0, \"arrowwidth\": 1}, \"coloraxis\": {\"colorbar\": {\"outlinewidth\": 0, \"ticks\": \"\"}}, \"colorscale\": {\"diverging\": [[0, \"#8e0152\"], [0.1, \"#c51b7d\"], [0.2, \"#de77ae\"], [0.3, \"#f1b6da\"], [0.4, \"#fde0ef\"], [0.5, \"#f7f7f7\"], [0.6, \"#e6f5d0\"], [0.7, \"#b8e186\"], [0.8, \"#7fbc41\"], [0.9, \"#4d9221\"], [1, \"#276419\"]], \"sequential\": [[0.0, \"#0d0887\"], [0.1111111111111111, \"#46039f\"], [0.2222222222222222, \"#7201a8\"], [0.3333333333333333, \"#9c179e\"], [0.4444444444444444, \"#bd3786\"], [0.5555555555555556, \"#d8576b\"], [0.6666666666666666, \"#ed7953\"], [0.7777777777777778, \"#fb9f3a\"], [0.8888888888888888, \"#fdca26\"], [1.0, \"#f0f921\"]], \"sequentialminus\": [[0.0, \"#0d0887\"], [0.1111111111111111, \"#46039f\"], [0.2222222222222222, \"#7201a8\"], [0.3333333333333333, \"#9c179e\"], [0.4444444444444444, \"#bd3786\"], [0.5555555555555556, \"#d8576b\"], [0.6666666666666666, \"#ed7953\"], [0.7777777777777778, \"#fb9f3a\"], [0.8888888888888888, \"#fdca26\"], [1.0, \"#f0f921\"]]}, \"colorway\": [\"#636efa\", \"#EF553B\", \"#00cc96\", \"#ab63fa\", \"#FFA15A\", \"#19d3f3\", \"#FF6692\", \"#B6E880\", \"#FF97FF\", \"#FECB52\"], \"font\": {\"color\": \"#2a3f5f\"}, \"geo\": {\"bgcolor\": \"white\", \"lakecolor\": \"white\", \"landcolor\": \"#E5ECF6\", \"showlakes\": true, \"showland\": true, \"subunitcolor\": \"white\"}, \"hoverlabel\": {\"align\": \"left\"}, \"hovermode\": \"closest\", \"mapbox\": {\"style\": \"light\"}, \"paper_bgcolor\": \"white\", \"plot_bgcolor\": \"#E5ECF6\", \"polar\": {\"angularaxis\": {\"gridcolor\": \"white\", \"linecolor\": \"white\", \"ticks\": \"\"}, \"bgcolor\": \"#E5ECF6\", \"radialaxis\": {\"gridcolor\": \"white\", \"linecolor\": \"white\", \"ticks\": \"\"}}, \"scene\": {\"xaxis\": {\"backgroundcolor\": \"#E5ECF6\", \"gridcolor\": \"white\", \"gridwidth\": 2, \"linecolor\": \"white\", \"showbackground\": true, \"ticks\": \"\", \"zerolinecolor\": \"white\"}, \"yaxis\": {\"backgroundcolor\": \"#E5ECF6\", \"gridcolor\": \"white\", \"gridwidth\": 2, \"linecolor\": \"white\", \"showbackground\": true, \"ticks\": \"\", \"zerolinecolor\": \"white\"}, \"zaxis\": {\"backgroundcolor\": \"#E5ECF6\", \"gridcolor\": \"white\", \"gridwidth\": 2, \"linecolor\": \"white\", \"showbackground\": true, \"ticks\": \"\", \"zerolinecolor\": \"white\"}}, \"shapedefaults\": {\"line\": {\"color\": \"#2a3f5f\"}}, \"ternary\": {\"aaxis\": {\"gridcolor\": \"white\", \"linecolor\": \"white\", \"ticks\": \"\"}, \"baxis\": {\"gridcolor\": \"white\", \"linecolor\": \"white\", \"ticks\": \"\"}, \"bgcolor\": \"#E5ECF6\", \"caxis\": {\"gridcolor\": \"white\", \"linecolor\": \"white\", \"ticks\": \"\"}}, \"title\": {\"x\": 0.05}, \"xaxis\": {\"automargin\": true, \"gridcolor\": \"white\", \"linecolor\": \"white\", \"ticks\": \"\", \"title\": {\"standoff\": 15}, \"zerolinecolor\": \"white\", \"zerolinewidth\": 2}, \"yaxis\": {\"automargin\": true, \"gridcolor\": \"white\", \"linecolor\": \"white\", \"ticks\": \"\", \"title\": {\"standoff\": 15}, \"zerolinecolor\": \"white\", \"zerolinewidth\": 2}}}, \"title\": {\"text\": \"Parallel Coordinate Plot\"}},\n",
              "                        {\"responsive\": true}\n",
              "                    ).then(function(){\n",
              "                            \n",
              "var gd = document.getElementById('0fa4a186-bdf0-4e98-be41-454d43a82b07');\n",
              "var x = new MutationObserver(function (mutations, observer) {{\n",
              "        var display = window.getComputedStyle(gd).display;\n",
              "        if (!display || display === 'none') {{\n",
              "            console.log([gd, 'removed!']);\n",
              "            Plotly.purge(gd);\n",
              "            observer.disconnect();\n",
              "        }}\n",
              "}});\n",
              "\n",
              "// Listen for the removal of the full notebook cells\n",
              "var notebookContainer = gd.closest('#notebook-container');\n",
              "if (notebookContainer) {{\n",
              "    x.observe(notebookContainer, {childList: true});\n",
              "}}\n",
              "\n",
              "// Listen for the clearing of the current output cell\n",
              "var outputEl = gd.closest('.output');\n",
              "if (outputEl) {{\n",
              "    x.observe(outputEl, {childList: true});\n",
              "}}\n",
              "\n",
              "                        })\n",
              "                };\n",
              "                \n",
              "            </script>\n",
              "        </div>\n",
              "</body>\n",
              "</html>"
            ]
          },
          "metadata": {
            "tags": []
          }
        }
      ]
    },
    {
      "cell_type": "code",
      "metadata": {
        "id": "kJcQ26XnoHnk"
      },
      "source": [
        ""
      ],
      "execution_count": null,
      "outputs": []
    }
  ]
}